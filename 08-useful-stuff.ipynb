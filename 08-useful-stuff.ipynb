{
 "cells": [
  {
   "cell_type": "markdown",
   "id": "28855fb5",
   "metadata": {},
   "source": [
    "# Кросс Валидация\n"
   ]
  },
  {
   "cell_type": "markdown",
   "id": "85c25985",
   "metadata": {},
   "source": [
    "https://academy.yandex.ru/handbook/ml/article/kross-validaciya"
   ]
  },
  {
   "cell_type": "code",
   "execution_count": 1,
   "id": "76c288ad",
   "metadata": {},
   "outputs": [],
   "source": [
    "import pandas as pd\n",
    "import numpy as np\n",
    "import matplotlib.pyplot as plt \n",
    "\n",
    "plt.style.use(\"dark_background\")"
   ]
  },
  {
   "cell_type": "code",
   "execution_count": 2,
   "id": "b6468978",
   "metadata": {},
   "outputs": [],
   "source": [
    "df = pd.read_csv(\"/Users/olegyarygin/Projects/Data-Science/Data/churn-modelling/Churn_Modelling.csv\")"
   ]
  },
  {
   "cell_type": "code",
   "execution_count": 3,
   "id": "e5c0c592",
   "metadata": {},
   "outputs": [
    {
     "data": {
      "text/html": [
       "<div>\n",
       "<style scoped>\n",
       "    .dataframe tbody tr th:only-of-type {\n",
       "        vertical-align: middle;\n",
       "    }\n",
       "\n",
       "    .dataframe tbody tr th {\n",
       "        vertical-align: top;\n",
       "    }\n",
       "\n",
       "    .dataframe thead th {\n",
       "        text-align: right;\n",
       "    }\n",
       "</style>\n",
       "<table border=\"1\" class=\"dataframe\">\n",
       "  <thead>\n",
       "    <tr style=\"text-align: right;\">\n",
       "      <th></th>\n",
       "      <th>RowNumber</th>\n",
       "      <th>CustomerId</th>\n",
       "      <th>Surname</th>\n",
       "      <th>CreditScore</th>\n",
       "      <th>Geography</th>\n",
       "      <th>Gender</th>\n",
       "      <th>Age</th>\n",
       "      <th>Tenure</th>\n",
       "      <th>Balance</th>\n",
       "      <th>NumOfProducts</th>\n",
       "      <th>HasCrCard</th>\n",
       "      <th>IsActiveMember</th>\n",
       "      <th>EstimatedSalary</th>\n",
       "      <th>Exited</th>\n",
       "    </tr>\n",
       "  </thead>\n",
       "  <tbody>\n",
       "    <tr>\n",
       "      <th>0</th>\n",
       "      <td>1</td>\n",
       "      <td>15634602</td>\n",
       "      <td>Hargrave</td>\n",
       "      <td>619</td>\n",
       "      <td>France</td>\n",
       "      <td>Female</td>\n",
       "      <td>42</td>\n",
       "      <td>2</td>\n",
       "      <td>0.00</td>\n",
       "      <td>1</td>\n",
       "      <td>1</td>\n",
       "      <td>1</td>\n",
       "      <td>101348.88</td>\n",
       "      <td>1</td>\n",
       "    </tr>\n",
       "    <tr>\n",
       "      <th>1</th>\n",
       "      <td>2</td>\n",
       "      <td>15647311</td>\n",
       "      <td>Hill</td>\n",
       "      <td>608</td>\n",
       "      <td>Spain</td>\n",
       "      <td>Female</td>\n",
       "      <td>41</td>\n",
       "      <td>1</td>\n",
       "      <td>83807.86</td>\n",
       "      <td>1</td>\n",
       "      <td>0</td>\n",
       "      <td>1</td>\n",
       "      <td>112542.58</td>\n",
       "      <td>0</td>\n",
       "    </tr>\n",
       "    <tr>\n",
       "      <th>2</th>\n",
       "      <td>3</td>\n",
       "      <td>15619304</td>\n",
       "      <td>Onio</td>\n",
       "      <td>502</td>\n",
       "      <td>France</td>\n",
       "      <td>Female</td>\n",
       "      <td>42</td>\n",
       "      <td>8</td>\n",
       "      <td>159660.80</td>\n",
       "      <td>3</td>\n",
       "      <td>1</td>\n",
       "      <td>0</td>\n",
       "      <td>113931.57</td>\n",
       "      <td>1</td>\n",
       "    </tr>\n",
       "    <tr>\n",
       "      <th>3</th>\n",
       "      <td>4</td>\n",
       "      <td>15701354</td>\n",
       "      <td>Boni</td>\n",
       "      <td>699</td>\n",
       "      <td>France</td>\n",
       "      <td>Female</td>\n",
       "      <td>39</td>\n",
       "      <td>1</td>\n",
       "      <td>0.00</td>\n",
       "      <td>2</td>\n",
       "      <td>0</td>\n",
       "      <td>0</td>\n",
       "      <td>93826.63</td>\n",
       "      <td>0</td>\n",
       "    </tr>\n",
       "    <tr>\n",
       "      <th>4</th>\n",
       "      <td>5</td>\n",
       "      <td>15737888</td>\n",
       "      <td>Mitchell</td>\n",
       "      <td>850</td>\n",
       "      <td>Spain</td>\n",
       "      <td>Female</td>\n",
       "      <td>43</td>\n",
       "      <td>2</td>\n",
       "      <td>125510.82</td>\n",
       "      <td>1</td>\n",
       "      <td>1</td>\n",
       "      <td>1</td>\n",
       "      <td>79084.10</td>\n",
       "      <td>0</td>\n",
       "    </tr>\n",
       "  </tbody>\n",
       "</table>\n",
       "</div>"
      ],
      "text/plain": [
       "   RowNumber  CustomerId   Surname  CreditScore Geography  Gender  Age  \\\n",
       "0          1    15634602  Hargrave          619    France  Female   42   \n",
       "1          2    15647311      Hill          608     Spain  Female   41   \n",
       "2          3    15619304      Onio          502    France  Female   42   \n",
       "3          4    15701354      Boni          699    France  Female   39   \n",
       "4          5    15737888  Mitchell          850     Spain  Female   43   \n",
       "\n",
       "   Tenure    Balance  NumOfProducts  HasCrCard  IsActiveMember  \\\n",
       "0       2       0.00              1          1               1   \n",
       "1       1   83807.86              1          0               1   \n",
       "2       8  159660.80              3          1               0   \n",
       "3       1       0.00              2          0               0   \n",
       "4       2  125510.82              1          1               1   \n",
       "\n",
       "   EstimatedSalary  Exited  \n",
       "0        101348.88       1  \n",
       "1        112542.58       0  \n",
       "2        113931.57       1  \n",
       "3         93826.63       0  \n",
       "4         79084.10       0  "
      ]
     },
     "execution_count": 3,
     "metadata": {},
     "output_type": "execute_result"
    }
   ],
   "source": [
    "df.head()"
   ]
  },
  {
   "cell_type": "markdown",
   "id": "048241b1",
   "metadata": {},
   "source": [
    "# Обучающая, валидационная и тестовая выборка "
   ]
  },
  {
   "cell_type": "code",
   "execution_count": 7,
   "id": "4abb4a88",
   "metadata": {},
   "outputs": [],
   "source": [
    "from sklearn.model_selection import train_test_split"
   ]
  },
  {
   "cell_type": "code",
   "execution_count": 15,
   "id": "7127cc04",
   "metadata": {},
   "outputs": [],
   "source": [
    "train, test = train_test_split(df, random_state=42, train_size = 0.6, stratify= df[\"Exited\"]) # random_state чтобы эксперимент навсегда сохранился"
   ]
  },
  {
   "cell_type": "code",
   "execution_count": 16,
   "id": "7b3b522c",
   "metadata": {},
   "outputs": [],
   "source": [
    "val, test = train_test_split(df, random_state=42, train_size = 0.6, stratify= df[\"Exited\"]) # random_state чтобы эксперимент навсегда сохранился"
   ]
  },
  {
   "cell_type": "markdown",
   "id": "f7dc162c",
   "metadata": {},
   "source": [
    "# Машинное обучение "
   ]
  },
  {
   "cell_type": "code",
   "execution_count": 17,
   "id": "b01df800",
   "metadata": {},
   "outputs": [],
   "source": [
    "from catboost import CatBoostClassifier"
   ]
  },
  {
   "cell_type": "code",
   "execution_count": 18,
   "id": "32307b66",
   "metadata": {},
   "outputs": [],
   "source": [
    "X = ['CreditScore', 'Age', 'Tenure', 'Balance', \n",
    "     'NumOfProducts', \"Geography\", \"Gender\", 'HasCrCard','IsActiveMember', \n",
    "     'EstimatedSalary']\n",
    "\n",
    "cat_features = ['Geography','Gender']\n",
    "\n",
    "y = ['Exited']"
   ]
  },
  {
   "cell_type": "code",
   "execution_count": 21,
   "id": "8ecaf581",
   "metadata": {},
   "outputs": [],
   "source": [
    "from catboost import Pool\n",
    "\n",
    "train_data = Pool(data=train[X],\n",
    "                  label=train[y],\n",
    "                  cat_features=cat_features\n",
    "                 )\n",
    "\n",
    "valid_data = Pool(data=val[X],\n",
    "                  label=val[y],\n",
    "                  cat_features=cat_features\n",
    "                 )\n",
    "test_data = Pool(data=test[X],\n",
    "                  label=test[y],\n",
    "                  cat_features=cat_features\n",
    "                 )\n",
    "# Pool - объект catboost  "
   ]
  },
  {
   "cell_type": "code",
   "execution_count": 24,
   "id": "c2ea56c9",
   "metadata": {},
   "outputs": [],
   "source": [
    "params = {\"verbose\": 100, \n",
    "          \"eval_metric\":\"AUC\",\n",
    "          \"loss_function\":\"Logloss\",\n",
    "          \"random_seed\": 42,\n",
    "          \"learning_rate\": 0.01}"
   ]
  },
  {
   "cell_type": "code",
   "execution_count": 25,
   "id": "7102f51f",
   "metadata": {},
   "outputs": [],
   "source": [
    "model = CatBoostClassifier(**params)\n"
   ]
  },
  {
   "cell_type": "code",
   "execution_count": 26,
   "id": "a50d1376",
   "metadata": {},
   "outputs": [
    {
     "name": "stdout",
     "output_type": "stream",
     "text": [
      "0:\ttest: 0.8359230\tbest: 0.8359230 (0)\ttotal: 98.3ms\tremaining: 1m 38s\n",
      "100:\ttest: 0.8595656\tbest: 0.8595656 (100)\ttotal: 513ms\tremaining: 4.57s\n",
      "200:\ttest: 0.8704633\tbest: 0.8704633 (200)\ttotal: 881ms\tremaining: 3.5s\n",
      "300:\ttest: 0.8785838\tbest: 0.8785838 (300)\ttotal: 1.27s\tremaining: 2.95s\n",
      "400:\ttest: 0.8833394\tbest: 0.8833394 (400)\ttotal: 1.67s\tremaining: 2.49s\n",
      "500:\ttest: 0.8880524\tbest: 0.8880524 (500)\ttotal: 2.05s\tremaining: 2.04s\n",
      "600:\ttest: 0.8918360\tbest: 0.8918360 (600)\ttotal: 2.42s\tremaining: 1.61s\n",
      "700:\ttest: 0.8957661\tbest: 0.8957661 (700)\ttotal: 2.79s\tremaining: 1.19s\n",
      "800:\ttest: 0.8995137\tbest: 0.8995137 (800)\ttotal: 3.15s\tremaining: 783ms\n",
      "900:\ttest: 0.9029621\tbest: 0.9029621 (900)\ttotal: 3.52s\tremaining: 387ms\n",
      "999:\ttest: 0.9062607\tbest: 0.9062607 (999)\ttotal: 3.89s\tremaining: 0us\n",
      "\n",
      "bestTest = 0.9062607258\n",
      "bestIteration = 999\n",
      "\n"
     ]
    },
    {
     "data": {
      "text/plain": [
       "<catboost.core.CatBoostClassifier at 0x12954cf10>"
      ]
     },
     "execution_count": 26,
     "metadata": {},
     "output_type": "execute_result"
    }
   ],
   "source": [
    "model.fit(train_data, eval_set=valid_data)"
   ]
  },
  {
   "cell_type": "code",
   "execution_count": 27,
   "id": "efcfb53f",
   "metadata": {},
   "outputs": [],
   "source": [
    "n_iters = model.best_iteration_ + 1"
   ]
  },
  {
   "cell_type": "code",
   "execution_count": 30,
   "id": "ed8dd098",
   "metadata": {},
   "outputs": [],
   "source": [
    "params = {\"iterations\":n_iters,\n",
    "          \"verbose\": 100, \n",
    "          \"eval_metric\":\"AUC\",\n",
    "          \"loss_function\":\"Logloss\",\n",
    "          \"random_seed\": 42,\n",
    "          \"learning_rate\": 0.01}"
   ]
  },
  {
   "cell_type": "code",
   "execution_count": 31,
   "id": "1a18cf95",
   "metadata": {},
   "outputs": [],
   "source": [
    "model = CatBoostClassifier(**params)\n"
   ]
  },
  {
   "cell_type": "code",
   "execution_count": 32,
   "id": "f2e60ec2",
   "metadata": {},
   "outputs": [],
   "source": [
    "train_full = pd.concat([train, val])"
   ]
  },
  {
   "cell_type": "code",
   "execution_count": 33,
   "id": "50d73448",
   "metadata": {},
   "outputs": [],
   "source": [
    "train_full_data = Pool(train_full[X],\n",
    "                       label=train_full[y],\n",
    "                       cat_features=cat_features)"
   ]
  },
  {
   "cell_type": "code",
   "execution_count": 34,
   "id": "384e8991",
   "metadata": {},
   "outputs": [
    {
     "name": "stdout",
     "output_type": "stream",
     "text": [
      "0:\ttotal: 9.09ms\tremaining: 9.08s\n",
      "100:\ttotal: 643ms\tremaining: 5.73s\n",
      "200:\ttotal: 1.3s\tremaining: 5.16s\n",
      "300:\ttotal: 2s\tremaining: 4.64s\n",
      "400:\ttotal: 2.67s\tremaining: 3.98s\n",
      "500:\ttotal: 3.33s\tremaining: 3.32s\n",
      "600:\ttotal: 4.08s\tremaining: 2.71s\n",
      "700:\ttotal: 4.78s\tremaining: 2.04s\n",
      "800:\ttotal: 5.5s\tremaining: 1.37s\n",
      "900:\ttotal: 6.23s\tremaining: 685ms\n",
      "999:\ttotal: 7s\tremaining: 0us\n"
     ]
    },
    {
     "data": {
      "text/plain": [
       "<catboost.core.CatBoostClassifier at 0x12949c400>"
      ]
     },
     "execution_count": 34,
     "metadata": {},
     "output_type": "execute_result"
    }
   ],
   "source": [
    "model.fit(train_full_data)"
   ]
  },
  {
   "cell_type": "code",
   "execution_count": 35,
   "id": "8b605202",
   "metadata": {},
   "outputs": [],
   "source": [
    "test[\"y_score_no_cross_val\"] = model.predict_proba(test_data)[:,1]"
   ]
  },
  {
   "cell_type": "code",
   "execution_count": 36,
   "id": "ee11d311",
   "metadata": {},
   "outputs": [],
   "source": [
    "from sklearn.metrics import roc_auc_score"
   ]
  },
  {
   "cell_type": "code",
   "execution_count": 37,
   "id": "ac34f4cb",
   "metadata": {},
   "outputs": [
    {
     "data": {
      "text/plain": [
       "0.8765239668307154"
      ]
     },
     "execution_count": 37,
     "metadata": {},
     "output_type": "execute_result"
    }
   ],
   "source": [
    "roc_auc_score(test[\"Exited\"], test[\"y_score_no_cross_val\"])"
   ]
  },
  {
   "cell_type": "markdown",
   "id": "0f9ad65f",
   "metadata": {},
   "source": [
    "https://catboost.ai/en/docs/features/cross-validation"
   ]
  },
  {
   "cell_type": "markdown",
   "id": "413c4942",
   "metadata": {},
   "source": [
    "# Пример кросс валидации"
   ]
  },
  {
   "cell_type": "code",
   "execution_count": 38,
   "id": "39555362",
   "metadata": {},
   "outputs": [],
   "source": [
    "from catboost import cv"
   ]
  },
  {
   "cell_type": "code",
   "execution_count": 40,
   "id": "7fe0546b",
   "metadata": {},
   "outputs": [],
   "source": [
    "params = {\"iterations\":n_iters,\n",
    "          \"verbose\": 100, \n",
    "          \"eval_metric\":\"AUC\",\n",
    "          \"loss_function\":\"Logloss\",\n",
    "          \"random_seed\": 42,\n",
    "          \"learning_rate\": 0.01}"
   ]
  },
  {
   "cell_type": "code",
   "execution_count": 43,
   "id": "51bf3f52",
   "metadata": {},
   "outputs": [
    {
     "name": "stdout",
     "output_type": "stream",
     "text": [
      "Training on fold [0/5]\n",
      "\n",
      "bestTest = 0.8863398838\n",
      "bestIteration = 999\n",
      "\n",
      "Training on fold [1/5]\n",
      "\n",
      "bestTest = 0.8975823636\n",
      "bestIteration = 999\n",
      "\n",
      "Training on fold [2/5]\n",
      "\n",
      "bestTest = 0.8944914667\n",
      "bestIteration = 999\n",
      "\n",
      "Training on fold [3/5]\n",
      "\n",
      "bestTest = 0.8841217324\n",
      "bestIteration = 998\n",
      "\n",
      "Training on fold [4/5]\n",
      "\n",
      "bestTest = 0.8922549644\n",
      "bestIteration = 998\n",
      "\n"
     ]
    }
   ],
   "source": [
    "cv_data = cv(\n",
    "    params = params,\n",
    "    pool = train_full_data,\n",
    "    fold_count=5,\n",
    "    shuffle=True,\n",
    "    partition_random_seed=0,\n",
    "    stratified=False,\n",
    "    verbose=False\n",
    ")"
   ]
  },
  {
   "cell_type": "code",
   "execution_count": 48,
   "id": "60064fb6",
   "metadata": {},
   "outputs": [
    {
     "data": {
      "text/html": [
       "<div>\n",
       "<style scoped>\n",
       "    .dataframe tbody tr th:only-of-type {\n",
       "        vertical-align: middle;\n",
       "    }\n",
       "\n",
       "    .dataframe tbody tr th {\n",
       "        vertical-align: top;\n",
       "    }\n",
       "\n",
       "    .dataframe thead th {\n",
       "        text-align: right;\n",
       "    }\n",
       "</style>\n",
       "<table border=\"1\" class=\"dataframe\">\n",
       "  <thead>\n",
       "    <tr style=\"text-align: right;\">\n",
       "      <th></th>\n",
       "      <th>iterations</th>\n",
       "      <th>test-AUC-mean</th>\n",
       "      <th>test-AUC-std</th>\n",
       "      <th>test-Logloss-mean</th>\n",
       "      <th>test-Logloss-std</th>\n",
       "      <th>train-Logloss-mean</th>\n",
       "      <th>train-Logloss-std</th>\n",
       "    </tr>\n",
       "  </thead>\n",
       "  <tbody>\n",
       "    <tr>\n",
       "      <th>999</th>\n",
       "      <td>999</td>\n",
       "      <td>0.890955</td>\n",
       "      <td>0.005615</td>\n",
       "      <td>0.305873</td>\n",
       "      <td>0.014137</td>\n",
       "      <td>0.277124</td>\n",
       "      <td>0.004216</td>\n",
       "    </tr>\n",
       "  </tbody>\n",
       "</table>\n",
       "</div>"
      ],
      "text/plain": [
       "     iterations  test-AUC-mean  test-AUC-std  test-Logloss-mean  \\\n",
       "999         999       0.890955      0.005615           0.305873   \n",
       "\n",
       "     test-Logloss-std  train-Logloss-mean  train-Logloss-std  \n",
       "999          0.014137            0.277124           0.004216  "
      ]
     },
     "execution_count": 48,
     "metadata": {},
     "output_type": "execute_result"
    }
   ],
   "source": [
    "cv_data[cv_data[\"test-AUC-mean\"] ==cv_data[\"test-AUC-mean\"].max()]"
   ]
  },
  {
   "cell_type": "code",
   "execution_count": 51,
   "id": "d366241e",
   "metadata": {},
   "outputs": [],
   "source": [
    "n_iters = cv_data[cv_data[\"test-AUC-mean\"] ==cv_data[\"test-AUC-mean\"].max()][\"iterations\"].values[0]"
   ]
  },
  {
   "cell_type": "code",
   "execution_count": 52,
   "id": "2d88644e",
   "metadata": {},
   "outputs": [
    {
     "data": {
      "text/plain": [
       "999"
      ]
     },
     "execution_count": 52,
     "metadata": {},
     "output_type": "execute_result"
    }
   ],
   "source": [
    "n_iters\n"
   ]
  },
  {
   "cell_type": "code",
   "execution_count": 53,
   "id": "dd0b9e92",
   "metadata": {},
   "outputs": [],
   "source": [
    "# Теперь обучим модель "
   ]
  },
  {
   "cell_type": "code",
   "execution_count": 54,
   "id": "30ce6d30",
   "metadata": {},
   "outputs": [],
   "source": [
    "params = {\"iterations\":n_iters,\n",
    "          \"verbose\": 100, \n",
    "          \"eval_metric\":\"AUC\",\n",
    "          \"loss_function\":\"Logloss\",\n",
    "          \"random_seed\": 42,\n",
    "          \"learning_rate\": 0.01}"
   ]
  },
  {
   "cell_type": "code",
   "execution_count": 55,
   "id": "56be9e17",
   "metadata": {},
   "outputs": [],
   "source": [
    "model = CatBoostClassifier(**params)\n"
   ]
  },
  {
   "cell_type": "code",
   "execution_count": 57,
   "id": "e513c345",
   "metadata": {},
   "outputs": [
    {
     "name": "stdout",
     "output_type": "stream",
     "text": [
      "0:\ttotal: 18.6ms\tremaining: 18.6s\n",
      "100:\ttotal: 640ms\tremaining: 5.69s\n",
      "200:\ttotal: 1.3s\tremaining: 5.18s\n",
      "300:\ttotal: 1.98s\tremaining: 4.6s\n",
      "400:\ttotal: 2.72s\tremaining: 4.06s\n",
      "500:\ttotal: 3.44s\tremaining: 3.42s\n",
      "600:\ttotal: 4.19s\tremaining: 2.78s\n",
      "700:\ttotal: 4.93s\tremaining: 2.1s\n",
      "800:\ttotal: 5.7s\tremaining: 1.41s\n",
      "900:\ttotal: 6.46s\tremaining: 703ms\n",
      "998:\ttotal: 7.28s\tremaining: 0us\n"
     ]
    },
    {
     "data": {
      "text/plain": [
       "<catboost.core.CatBoostClassifier at 0x12bbc4b50>"
      ]
     },
     "execution_count": 57,
     "metadata": {},
     "output_type": "execute_result"
    }
   ],
   "source": [
    "model.fit(train_full_data)"
   ]
  },
  {
   "cell_type": "code",
   "execution_count": 58,
   "id": "d90d4555",
   "metadata": {},
   "outputs": [
    {
     "data": {
      "text/plain": [
       "12000"
      ]
     },
     "execution_count": 58,
     "metadata": {},
     "output_type": "execute_result"
    }
   ],
   "source": [
    "len(train_full)"
   ]
  },
  {
   "cell_type": "markdown",
   "id": "a7ce62ed",
   "metadata": {},
   "source": [
    "# Подбор гиперпараметров"
   ]
  },
  {
   "cell_type": "markdown",
   "id": "b4194de3",
   "metadata": {},
   "source": [
    "https://habr.com/ru/companies/otus/articles/527554/"
   ]
  },
  {
   "cell_type": "markdown",
   "id": "fb07b805",
   "metadata": {},
   "source": [
    "https://habr.com/ru/companies/otus/articles/527554/"
   ]
  },
  {
   "cell_type": "markdown",
   "id": "66165f8b",
   "metadata": {},
   "source": [
    "https://github.com/catboost/catboost/blob/master/catboost/tutorials/events/2020_06_04_catboost_tutorial/catboost_features.ipynb\n",
    "\n",
    "https://www.youtube.com/watch?v=ZaP5qFSIcIw\n",
    "\n",
    "https://github.com/catboost/catboost/blob/master/catboost/tutorials/hyperparameters_tuning/hyperparameters_tuning.ipynb"
   ]
  },
  {
   "cell_type": "code",
   "execution_count": 60,
   "id": "1ba95fe4",
   "metadata": {},
   "outputs": [
    {
     "data": {
      "text/plain": [
       "{'nan_mode': 'Min',\n",
       " 'eval_metric': 'AUC',\n",
       " 'combinations_ctr': ['Borders:CtrBorderCount=15:CtrBorderType=Uniform:TargetBorderCount=1:TargetBorderType=MinEntropy:Prior=0/1:Prior=0.5/1:Prior=1/1',\n",
       "  'Counter:CtrBorderCount=15:CtrBorderType=Uniform:Prior=0/1'],\n",
       " 'iterations': 999,\n",
       " 'sampling_frequency': 'PerTree',\n",
       " 'fold_permutation_block': 0,\n",
       " 'leaf_estimation_method': 'Newton',\n",
       " 'counter_calc_method': 'SkipTest',\n",
       " 'grow_policy': 'SymmetricTree',\n",
       " 'penalties_coefficient': 1,\n",
       " 'boosting_type': 'Plain',\n",
       " 'model_shrink_mode': 'Constant',\n",
       " 'feature_border_type': 'GreedyLogSum',\n",
       " 'ctr_leaf_count_limit': 18446744073709551615,\n",
       " 'bayesian_matrix_reg': 0.10000000149011612,\n",
       " 'one_hot_max_size': 2,\n",
       " 'eval_fraction': 0,\n",
       " 'force_unit_auto_pair_weights': False,\n",
       " 'l2_leaf_reg': 3,\n",
       " 'random_strength': 1,\n",
       " 'rsm': 1,\n",
       " 'boost_from_average': False,\n",
       " 'max_ctr_complexity': 4,\n",
       " 'model_size_reg': 0.5,\n",
       " 'simple_ctr': ['Borders:CtrBorderCount=15:CtrBorderType=Uniform:TargetBorderCount=1:TargetBorderType=MinEntropy:Prior=0/1:Prior=0.5/1:Prior=1/1',\n",
       "  'Counter:CtrBorderCount=15:CtrBorderType=Uniform:Prior=0/1'],\n",
       " 'pool_metainfo_options': {'tags': {}},\n",
       " 'subsample': 0.800000011920929,\n",
       " 'use_best_model': False,\n",
       " 'class_names': [0, 1],\n",
       " 'random_seed': 42,\n",
       " 'depth': 6,\n",
       " 'ctr_target_border_count': 1,\n",
       " 'posterior_sampling': False,\n",
       " 'has_time': False,\n",
       " 'store_all_simple_ctr': False,\n",
       " 'border_count': 254,\n",
       " 'classes_count': 0,\n",
       " 'auto_class_weights': 'None',\n",
       " 'sparse_features_conflict_fraction': 0,\n",
       " 'leaf_estimation_backtracking': 'AnyImprovement',\n",
       " 'best_model_min_trees': 1,\n",
       " 'model_shrink_rate': 0,\n",
       " 'min_data_in_leaf': 1,\n",
       " 'loss_function': 'Logloss',\n",
       " 'learning_rate': 0.009999999776482582,\n",
       " 'score_function': 'Cosine',\n",
       " 'task_type': 'CPU',\n",
       " 'leaf_estimation_iterations': 10,\n",
       " 'bootstrap_type': 'MVS',\n",
       " 'max_leaves': 64,\n",
       " 'permutation_count': 4}"
      ]
     },
     "execution_count": 60,
     "metadata": {},
     "output_type": "execute_result"
    }
   ],
   "source": [
    "model.get_all_params()"
   ]
  },
  {
   "cell_type": "code",
   "execution_count": 61,
   "id": "8ccd6252",
   "metadata": {},
   "outputs": [],
   "source": [
    "params = {\"verbose\": 100, \n",
    "          \"eval_metric\":\"AUC\",\n",
    "          \"loss_function\":\"Logloss\",\n",
    "          \"random_seed\": 42}"
   ]
  },
  {
   "cell_type": "code",
   "execution_count": 62,
   "id": "4cd61bab",
   "metadata": {},
   "outputs": [],
   "source": [
    "model = CatBoostClassifier(**params)\n"
   ]
  },
  {
   "cell_type": "code",
   "execution_count": 63,
   "id": "ebe1876c",
   "metadata": {},
   "outputs": [],
   "source": [
    "grid = {\n",
    "    \"learning_rate\": [0.01, 0.1],\n",
    "    \"depth\": [5,6]\n",
    "}"
   ]
  },
  {
   "cell_type": "code",
   "execution_count": 64,
   "id": "72a339a7",
   "metadata": {},
   "outputs": [
    {
     "name": "stdout",
     "output_type": "stream",
     "text": [
      "0:\ttest: 0.8034306\tbest: 0.8034306 (0)\ttotal: 18.5ms\tremaining: 18.4s\n",
      "100:\ttest: 0.8575938\tbest: 0.8575948 (99)\ttotal: 541ms\tremaining: 4.81s\n",
      "200:\ttest: 0.8650117\tbest: 0.8650421 (199)\ttotal: 1.04s\tremaining: 4.15s\n",
      "300:\ttest: 0.8707590\tbest: 0.8707590 (300)\ttotal: 1.56s\tremaining: 3.63s\n",
      "400:\ttest: 0.8741134\tbest: 0.8741134 (400)\ttotal: 2.06s\tremaining: 3.08s\n",
      "500:\ttest: 0.8766431\tbest: 0.8766431 (500)\ttotal: 2.57s\tremaining: 2.56s\n",
      "600:\ttest: 0.8784525\tbest: 0.8784525 (600)\ttotal: 3.09s\tremaining: 2.05s\n",
      "700:\ttest: 0.8803105\tbest: 0.8803197 (699)\ttotal: 3.62s\tremaining: 1.54s\n",
      "800:\ttest: 0.8819031\tbest: 0.8819031 (800)\ttotal: 4.18s\tremaining: 1.04s\n",
      "900:\ttest: 0.8837530\tbest: 0.8837693 (896)\ttotal: 4.71s\tremaining: 518ms\n",
      "999:\ttest: 0.8852808\tbest: 0.8852808 (999)\ttotal: 5.27s\tremaining: 0us\n",
      "\n",
      "bestTest = 0.8852807954\n",
      "bestIteration = 999\n",
      "\n",
      "Metric AUC is not calculated on train by default. To calculate this metric on train, add hints=skip_train~false to metric parameters.\n",
      "0:\ttest: 0.8034306\tbest: 0.8034306 (0)\ttotal: 5.33ms\tremaining: 5.33s\n",
      "100:\ttest: 0.8854520\tbest: 0.8854520 (100)\ttotal: 617ms\tremaining: 5.49s\n",
      "200:\ttest: 0.8962385\tbest: 0.8962385 (200)\ttotal: 1.2s\tremaining: 4.78s\n",
      "300:\ttest: 0.9065508\tbest: 0.9065508 (300)\ttotal: 1.87s\tremaining: 4.35s\n",
      "400:\ttest: 0.9150436\tbest: 0.9150436 (400)\ttotal: 2.54s\tremaining: 3.8s\n",
      "500:\ttest: 0.9236559\tbest: 0.9236559 (500)\ttotal: 3.19s\tremaining: 3.18s\n",
      "600:\ttest: 0.9313312\tbest: 0.9313312 (600)\ttotal: 3.83s\tremaining: 2.54s\n",
      "700:\ttest: 0.9369346\tbest: 0.9369346 (700)\ttotal: 4.49s\tremaining: 1.91s\n",
      "800:\ttest: 0.9408472\tbest: 0.9408472 (800)\ttotal: 5.11s\tremaining: 1.27s\n",
      "900:\ttest: 0.9456827\tbest: 0.9456827 (900)\ttotal: 5.78s\tremaining: 635ms\n",
      "999:\ttest: 0.9479176\tbest: 0.9480645 (992)\ttotal: 6.43s\tremaining: 0us\n",
      "\n",
      "bestTest = 0.9480645263\n",
      "bestIteration = 992\n",
      "\n",
      "Metric AUC is not calculated on train by default. To calculate this metric on train, add hints=skip_train~false to metric parameters.\n",
      "0:\ttest: 0.8238354\tbest: 0.8238354 (0)\ttotal: 7.48ms\tremaining: 7.47s\n",
      "100:\ttest: 0.8592361\tbest: 0.8592361 (100)\ttotal: 718ms\tremaining: 6.39s\n",
      "200:\ttest: 0.8687784\tbest: 0.8687784 (200)\ttotal: 1.42s\tremaining: 5.65s\n",
      "300:\ttest: 0.8748266\tbest: 0.8748266 (300)\ttotal: 2.24s\tremaining: 5.21s\n",
      "400:\ttest: 0.8788203\tbest: 0.8788446 (399)\ttotal: 3.07s\tremaining: 4.59s\n",
      "500:\ttest: 0.8824066\tbest: 0.8824066 (500)\ttotal: 3.84s\tremaining: 3.83s\n",
      "600:\ttest: 0.8845706\tbest: 0.8845706 (600)\ttotal: 4.65s\tremaining: 3.09s\n",
      "700:\ttest: 0.8868440\tbest: 0.8868440 (700)\ttotal: 5.37s\tremaining: 2.29s\n",
      "800:\ttest: 0.8891873\tbest: 0.8891873 (800)\ttotal: 6.17s\tremaining: 1.53s\n",
      "900:\ttest: 0.8915610\tbest: 0.8915610 (900)\ttotal: 6.95s\tremaining: 764ms\n",
      "999:\ttest: 0.8934676\tbest: 0.8934676 (999)\ttotal: 7.74s\tremaining: 0us\n",
      "\n",
      "bestTest = 0.8934676432\n",
      "bestIteration = 999\n",
      "\n",
      "Metric AUC is not calculated on train by default. To calculate this metric on train, add hints=skip_train~false to metric parameters.\n",
      "0:\ttest: 0.8238354\tbest: 0.8238354 (0)\ttotal: 7.51ms\tremaining: 7.5s\n",
      "100:\ttest: 0.8941302\tbest: 0.8941302 (100)\ttotal: 806ms\tremaining: 7.17s\n",
      "200:\ttest: 0.9083146\tbest: 0.9083146 (200)\ttotal: 1.75s\tremaining: 6.95s\n",
      "300:\ttest: 0.9216135\tbest: 0.9216135 (300)\ttotal: 2.62s\tremaining: 6.09s\n",
      "400:\ttest: 0.9319796\tbest: 0.9319796 (400)\ttotal: 3.49s\tremaining: 5.22s\n",
      "500:\ttest: 0.9409566\tbest: 0.9409566 (500)\ttotal: 4.36s\tremaining: 4.34s\n",
      "600:\ttest: 0.9464051\tbest: 0.9464051 (600)\ttotal: 5.25s\tremaining: 3.49s\n",
      "700:\ttest: 0.9515952\tbest: 0.9515952 (700)\ttotal: 6.13s\tremaining: 2.62s\n",
      "800:\ttest: 0.9552697\tbest: 0.9553183 (798)\ttotal: 7.01s\tremaining: 1.74s\n",
      "900:\ttest: 0.9577001\tbest: 0.9577224 (899)\ttotal: 7.89s\tremaining: 867ms\n",
      "999:\ttest: 0.9594386\tbest: 0.9594386 (999)\ttotal: 8.76s\tremaining: 0us\n",
      "\n",
      "bestTest = 0.9594385814\n",
      "bestIteration = 999\n",
      "\n",
      "Metric AUC is not calculated on train by default. To calculate this metric on train, add hints=skip_train~false to metric parameters.\n",
      "Training on fold [0/3]\n",
      "0:\ttest: 0.8160031\tbest: 0.8160031 (0)\ttotal: 13.3ms\tremaining: 13.3s\n",
      "100:\ttest: 0.8845632\tbest: 0.8845632 (100)\ttotal: 1s\tremaining: 8.94s\n",
      "200:\ttest: 0.9041882\tbest: 0.9041882 (200)\ttotal: 1.96s\tremaining: 7.78s\n",
      "300:\ttest: 0.9200906\tbest: 0.9200906 (300)\ttotal: 2.87s\tremaining: 6.67s\n",
      "400:\ttest: 0.9296416\tbest: 0.9296535 (399)\ttotal: 3.91s\tremaining: 5.83s\n",
      "500:\ttest: 0.9384092\tbest: 0.9384092 (500)\ttotal: 4.77s\tremaining: 4.75s\n",
      "600:\ttest: 0.9425724\tbest: 0.9426248 (599)\ttotal: 5.7s\tremaining: 3.78s\n",
      "700:\ttest: 0.9466858\tbest: 0.9466858 (700)\ttotal: 6.63s\tremaining: 2.83s\n",
      "800:\ttest: 0.9492758\tbest: 0.9493605 (790)\ttotal: 7.48s\tremaining: 1.86s\n",
      "900:\ttest: 0.9509353\tbest: 0.9511009 (894)\ttotal: 8.35s\tremaining: 918ms\n",
      "999:\ttest: 0.9529521\tbest: 0.9530276 (997)\ttotal: 9.22s\tremaining: 0us\n",
      "\n",
      "bestTest = 0.9530276247\n",
      "bestIteration = 997\n",
      "\n",
      "Training on fold [1/3]\n",
      "0:\ttest: 0.8195791\tbest: 0.8195791 (0)\ttotal: 10.6ms\tremaining: 10.6s\n",
      "100:\ttest: 0.8956358\tbest: 0.8956358 (100)\ttotal: 996ms\tremaining: 8.86s\n",
      "200:\ttest: 0.9138993\tbest: 0.9138993 (200)\ttotal: 1.88s\tremaining: 7.48s\n",
      "300:\ttest: 0.9268943\tbest: 0.9268943 (300)\ttotal: 2.78s\tremaining: 6.45s\n",
      "400:\ttest: 0.9384935\tbest: 0.9385474 (397)\ttotal: 3.67s\tremaining: 5.48s\n",
      "500:\ttest: 0.9452345\tbest: 0.9452345 (500)\ttotal: 4.57s\tremaining: 4.55s\n",
      "600:\ttest: 0.9491531\tbest: 0.9491531 (600)\ttotal: 5.45s\tremaining: 3.62s\n",
      "700:\ttest: 0.9537429\tbest: 0.9537564 (698)\ttotal: 6.36s\tremaining: 2.71s\n",
      "800:\ttest: 0.9560728\tbest: 0.9561869 (780)\ttotal: 7.26s\tremaining: 1.8s\n",
      "900:\ttest: 0.9569450\tbest: 0.9570194 (890)\ttotal: 8.18s\tremaining: 898ms\n",
      "999:\ttest: 0.9576604\tbest: 0.9576936 (998)\ttotal: 9.09s\tremaining: 0us\n",
      "\n",
      "bestTest = 0.9576935597\n",
      "bestIteration = 998\n",
      "\n",
      "Training on fold [2/3]\n",
      "0:\ttest: 0.8204463\tbest: 0.8204463 (0)\ttotal: 9.34ms\tremaining: 9.33s\n",
      "100:\ttest: 0.8894607\tbest: 0.8894607 (100)\ttotal: 887ms\tremaining: 7.9s\n",
      "200:\ttest: 0.9056804\tbest: 0.9056804 (200)\ttotal: 1.82s\tremaining: 7.24s\n",
      "300:\ttest: 0.9165730\tbest: 0.9165730 (300)\ttotal: 2.75s\tremaining: 6.38s\n",
      "400:\ttest: 0.9254873\tbest: 0.9254873 (400)\ttotal: 3.69s\tremaining: 5.51s\n",
      "500:\ttest: 0.9317277\tbest: 0.9317277 (500)\ttotal: 4.65s\tremaining: 4.63s\n",
      "600:\ttest: 0.9365353\tbest: 0.9365353 (600)\ttotal: 5.59s\tremaining: 3.71s\n",
      "700:\ttest: 0.9393622\tbest: 0.9393622 (700)\ttotal: 6.53s\tremaining: 2.78s\n",
      "800:\ttest: 0.9412341\tbest: 0.9412472 (787)\ttotal: 7.49s\tremaining: 1.86s\n",
      "900:\ttest: 0.9427985\tbest: 0.9428051 (899)\ttotal: 8.53s\tremaining: 938ms\n",
      "999:\ttest: 0.9443865\tbest: 0.9443865 (999)\ttotal: 9.47s\tremaining: 0us\n",
      "\n",
      "bestTest = 0.9443865015\n",
      "bestIteration = 999\n",
      "\n"
     ]
    }
   ],
   "source": [
    "result = model.grid_search(grid, train_full_data, verbose=False)"
   ]
  },
  {
   "cell_type": "code",
   "execution_count": 66,
   "id": "1a633a71",
   "metadata": {},
   "outputs": [
    {
     "data": {
      "text/plain": [
       "{'depth': 6, 'learning_rate': 0.1}"
      ]
     },
     "execution_count": 66,
     "metadata": {},
     "output_type": "execute_result"
    }
   ],
   "source": [
    "result[\"params\"]"
   ]
  },
  {
   "cell_type": "code",
   "execution_count": 67,
   "id": "75bedcba",
   "metadata": {},
   "outputs": [
    {
     "data": {
      "text/plain": [
       "0.9516663571909986"
      ]
     },
     "execution_count": 67,
     "metadata": {},
     "output_type": "execute_result"
    }
   ],
   "source": [
    "pd.DataFrame(result[\"cv_results\"])[\"test-AUC-mean\"].max()"
   ]
  },
  {
   "cell_type": "markdown",
   "id": "d0d22d37",
   "metadata": {},
   "source": [
    "# Принципы sklearn "
   ]
  },
  {
   "cell_type": "markdown",
   "id": "5899ac1f",
   "metadata": {},
   "source": [
    "https://tproger.ru/translations/scikit-learn-in-python/"
   ]
  },
  {
   "cell_type": "markdown",
   "id": "76ef3dd9",
   "metadata": {},
   "source": [
    "# Предобработка и фичеинженеринг "
   ]
  },
  {
   "cell_type": "markdown",
   "id": "83aee247",
   "metadata": {},
   "source": [
    "https://catboost.ai/en/docs/concepts/python-usages-examples"
   ]
  },
  {
   "cell_type": "markdown",
   "id": "2dea4f20",
   "metadata": {},
   "source": [
    "# Калибровка"
   ]
  },
  {
   "cell_type": "markdown",
   "id": "164df8b5",
   "metadata": {},
   "source": [
    "https://www.youtube.com/watch?v=ZaP5qFSIcIw"
   ]
  },
  {
   "cell_type": "markdown",
   "id": "0c4339fc",
   "metadata": {},
   "source": [
    "# Catboost и тексты и эмбеддинги "
   ]
  },
  {
   "cell_type": "markdown",
   "id": "95acc01c",
   "metadata": {},
   "source": [
    "https://github.com/catboost/catboost/blob/master/catboost/tutorials/events/2020_06_04_catboost_tutorial/text_features.ipynb\n",
    "\n",
    "https://youtu.be/ZaP5qFSIcIw?t=3802"
   ]
  },
  {
   "cell_type": "markdown",
   "id": "65e70cee",
   "metadata": {},
   "source": [
    "# Главные навыки для аналитика\n"
   ]
  },
  {
   "cell_type": "markdown",
   "id": "e776bb3a",
   "metadata": {},
   "source": [
    "- SQL\n",
    "- pandas\n",
    "- Основы статистики (AB тесты)"
   ]
  },
  {
   "cell_type": "markdown",
   "id": "1dd9f9a3",
   "metadata": {},
   "source": [
    "# Главные навыки для Дата Саентиста"
   ]
  },
  {
   "cell_type": "markdown",
   "id": "dc7b806d",
   "metadata": {},
   "source": [
    "- Все то же, что и у аналитика\n",
    "- Машинное обучение (sklearn, catboost)\n",
    "- более продвинутый python (основы ООП)\n",
    "- linux, git, docker, веб-сервисы"
   ]
  },
  {
   "cell_type": "markdown",
   "id": "542a1c66",
   "metadata": {},
   "source": [
    "# Как развиваться дальше ?"
   ]
  },
  {
   "cell_type": "markdown",
   "id": "03a467bf",
   "metadata": {},
   "source": [
    "- [Прикладное машинное обучение с помощью Scikit-Learn, Keras и TensorFlow: концепции, инструменты и техники для создания интеллектуальных систем, 2-е издание | Жерон Орельен](https://www.ozon.ru/product/prikladnoe-mashinnoe-obuchenie-s-pomoshchyu-scikit-learn-keras-i-tensorflow-kontseptsii-207392052/?sh=HC92ZQyhUQ)\n",
    "- Задачи на kaggle, вот [список](https://www.kaggle.com/getting-started/114864) для начинающих\n",
    "- Откликайся на вакансии и решай тестовые. Можешь смотреть [тестовые по дс у меня на канале](https://www.youtube.com/playlist?list=PLQJ7ptkRY-xbefSg1XN3FA-SdSRFcCQfn)\n",
    "- [Мой курс по статистике](https://www.youtube.com/playlist?list=PLQJ7ptkRY-xbHLLI66KdscKp_FJt0FsIi)\n",
    "- Задачи по pandas и sql на [StrataScratch](https://www.stratascratch.com/?via=gleb)\n",
    "- [Мой курс по SQL](https://www.udemy.com/course/sql-with-gleb/?referralCode=C99EC81AE75FEC9F50A2)\n",
    "- Задачи на [itresume](https://itresume.ru/)\n",
    "- Задачи на [Checkio](https://checkio.org/)\n",
    "- Задачи на [Leetcode](https://leetcode.com/) вот по этому [списку](https://seanprashad.com/leetcode-patterns/)\n",
    "- Мой [плейлист](https://www.youtube.com/playlist?list=PLQJ7ptkRY-xZ4qiXlmQQLgAPyXJhQ7HxZ) по основам Linux\n",
    "- [Основы Git](https://youtu.be/0cGIiA0AjNw)\n",
    "- [Основы докера](https://www.youtube.com/playlist?list=PLQJ7ptkRY-xbR0ka2TUxJkXna40XWu92m)\n",
    "- [Основы веб-сервисов](https://www.youtube.com/playlist?list=PLQJ7ptkRY-xYLEAC5Y_sKqrJ9RA-U7Dja)"
   ]
  },
  {
   "cell_type": "markdown",
   "id": "14300c79",
   "metadata": {},
   "source": [
    "# Дополнительные материалы"
   ]
  },
  {
   "cell_type": "markdown",
   "id": "c67e867b",
   "metadata": {},
   "source": [
    "- [Как работает градиентный бустинг](https://youtu.be/ZNJ3lKyI-EY)\n",
    "- [Как учить английский](https://youtu.be/f9Q4Mwvd5pc)\n",
    "- [Как искать работу](https://deepnote.com/@gleb-mikhaylov-15d6/blog-posts-nXDqO5CTQYOreNE53H3y-A)"
   ]
  },
  {
   "cell_type": "code",
   "execution_count": null,
   "id": "be62563c",
   "metadata": {},
   "outputs": [],
   "source": []
  }
 ],
 "metadata": {
  "kernelspec": {
   "display_name": "Python 3 (ipykernel)",
   "language": "python",
   "name": "python3"
  },
  "language_info": {
   "codemirror_mode": {
    "name": "ipython",
    "version": 3
   },
   "file_extension": ".py",
   "mimetype": "text/x-python",
   "name": "python",
   "nbconvert_exporter": "python",
   "pygments_lexer": "ipython3",
   "version": "3.10.9"
  }
 },
 "nbformat": 4,
 "nbformat_minor": 5
}
