{
 "cells": [
  {
   "cell_type": "markdown",
   "id": "9f9ecf84",
   "metadata": {},
   "source": [
    "# Загрузка данных "
   ]
  },
  {
   "cell_type": "markdown",
   "id": "94cfd654",
   "metadata": {},
   "source": [
    "Kaggle link:https://www.kaggle.com/datasets/shrutimechlearn/churn-modelling?resource=download"
   ]
  },
  {
   "cell_type": "code",
   "execution_count": 259,
   "id": "5fdf6c65",
   "metadata": {},
   "outputs": [],
   "source": [
    "import pandas as pd\n",
    "import numpy as np\n",
    "import matplotlib.pyplot as plt \n",
    "\n",
    "plt.style.use(\"dark_background\")"
   ]
  },
  {
   "cell_type": "code",
   "execution_count": 260,
   "id": "2341e0c5",
   "metadata": {},
   "outputs": [],
   "source": [
    "df = pd.read_csv(\"/Users/olegyarygin/Projects/Data-Science/Data/churn-modelling/Churn_Modelling.csv\")"
   ]
  },
  {
   "cell_type": "code",
   "execution_count": 261,
   "id": "f7706c83",
   "metadata": {},
   "outputs": [
    {
     "data": {
      "text/html": [
       "<div>\n",
       "<style scoped>\n",
       "    .dataframe tbody tr th:only-of-type {\n",
       "        vertical-align: middle;\n",
       "    }\n",
       "\n",
       "    .dataframe tbody tr th {\n",
       "        vertical-align: top;\n",
       "    }\n",
       "\n",
       "    .dataframe thead th {\n",
       "        text-align: right;\n",
       "    }\n",
       "</style>\n",
       "<table border=\"1\" class=\"dataframe\">\n",
       "  <thead>\n",
       "    <tr style=\"text-align: right;\">\n",
       "      <th></th>\n",
       "      <th>RowNumber</th>\n",
       "      <th>CustomerId</th>\n",
       "      <th>Surname</th>\n",
       "      <th>CreditScore</th>\n",
       "      <th>Geography</th>\n",
       "      <th>Gender</th>\n",
       "      <th>Age</th>\n",
       "      <th>Tenure</th>\n",
       "      <th>Balance</th>\n",
       "      <th>NumOfProducts</th>\n",
       "      <th>HasCrCard</th>\n",
       "      <th>IsActiveMember</th>\n",
       "      <th>EstimatedSalary</th>\n",
       "      <th>Exited</th>\n",
       "    </tr>\n",
       "  </thead>\n",
       "  <tbody>\n",
       "    <tr>\n",
       "      <th>0</th>\n",
       "      <td>1</td>\n",
       "      <td>15634602</td>\n",
       "      <td>Hargrave</td>\n",
       "      <td>619</td>\n",
       "      <td>France</td>\n",
       "      <td>Female</td>\n",
       "      <td>42</td>\n",
       "      <td>2</td>\n",
       "      <td>0.00</td>\n",
       "      <td>1</td>\n",
       "      <td>1</td>\n",
       "      <td>1</td>\n",
       "      <td>101348.88</td>\n",
       "      <td>1</td>\n",
       "    </tr>\n",
       "    <tr>\n",
       "      <th>1</th>\n",
       "      <td>2</td>\n",
       "      <td>15647311</td>\n",
       "      <td>Hill</td>\n",
       "      <td>608</td>\n",
       "      <td>Spain</td>\n",
       "      <td>Female</td>\n",
       "      <td>41</td>\n",
       "      <td>1</td>\n",
       "      <td>83807.86</td>\n",
       "      <td>1</td>\n",
       "      <td>0</td>\n",
       "      <td>1</td>\n",
       "      <td>112542.58</td>\n",
       "      <td>0</td>\n",
       "    </tr>\n",
       "    <tr>\n",
       "      <th>2</th>\n",
       "      <td>3</td>\n",
       "      <td>15619304</td>\n",
       "      <td>Onio</td>\n",
       "      <td>502</td>\n",
       "      <td>France</td>\n",
       "      <td>Female</td>\n",
       "      <td>42</td>\n",
       "      <td>8</td>\n",
       "      <td>159660.80</td>\n",
       "      <td>3</td>\n",
       "      <td>1</td>\n",
       "      <td>0</td>\n",
       "      <td>113931.57</td>\n",
       "      <td>1</td>\n",
       "    </tr>\n",
       "    <tr>\n",
       "      <th>3</th>\n",
       "      <td>4</td>\n",
       "      <td>15701354</td>\n",
       "      <td>Boni</td>\n",
       "      <td>699</td>\n",
       "      <td>France</td>\n",
       "      <td>Female</td>\n",
       "      <td>39</td>\n",
       "      <td>1</td>\n",
       "      <td>0.00</td>\n",
       "      <td>2</td>\n",
       "      <td>0</td>\n",
       "      <td>0</td>\n",
       "      <td>93826.63</td>\n",
       "      <td>0</td>\n",
       "    </tr>\n",
       "    <tr>\n",
       "      <th>4</th>\n",
       "      <td>5</td>\n",
       "      <td>15737888</td>\n",
       "      <td>Mitchell</td>\n",
       "      <td>850</td>\n",
       "      <td>Spain</td>\n",
       "      <td>Female</td>\n",
       "      <td>43</td>\n",
       "      <td>2</td>\n",
       "      <td>125510.82</td>\n",
       "      <td>1</td>\n",
       "      <td>1</td>\n",
       "      <td>1</td>\n",
       "      <td>79084.10</td>\n",
       "      <td>0</td>\n",
       "    </tr>\n",
       "  </tbody>\n",
       "</table>\n",
       "</div>"
      ],
      "text/plain": [
       "   RowNumber  CustomerId   Surname  CreditScore Geography  Gender  Age  \\\n",
       "0          1    15634602  Hargrave          619    France  Female   42   \n",
       "1          2    15647311      Hill          608     Spain  Female   41   \n",
       "2          3    15619304      Onio          502    France  Female   42   \n",
       "3          4    15701354      Boni          699    France  Female   39   \n",
       "4          5    15737888  Mitchell          850     Spain  Female   43   \n",
       "\n",
       "   Tenure    Balance  NumOfProducts  HasCrCard  IsActiveMember  \\\n",
       "0       2       0.00              1          1               1   \n",
       "1       1   83807.86              1          0               1   \n",
       "2       8  159660.80              3          1               0   \n",
       "3       1       0.00              2          0               0   \n",
       "4       2  125510.82              1          1               1   \n",
       "\n",
       "   EstimatedSalary  Exited  \n",
       "0        101348.88       1  \n",
       "1        112542.58       0  \n",
       "2        113931.57       1  \n",
       "3         93826.63       0  \n",
       "4         79084.10       0  "
      ]
     },
     "execution_count": 261,
     "metadata": {},
     "output_type": "execute_result"
    }
   ],
   "source": [
    "df.head()"
   ]
  },
  {
   "cell_type": "markdown",
   "id": "1d51f876",
   "metadata": {},
   "source": [
    "# Обучающая, валидационная и тестовая выборка "
   ]
  },
  {
   "cell_type": "code",
   "execution_count": 262,
   "id": "26607c5d",
   "metadata": {},
   "outputs": [],
   "source": [
    "from sklearn.model_selection import train_test_split"
   ]
  },
  {
   "cell_type": "code",
   "execution_count": 263,
   "id": "d373c5a1",
   "metadata": {},
   "outputs": [],
   "source": [
    "train, test = train_test_split(df, random_state=42, train_size = 0.6, stratify= df[\"Exited\"]) # random_state чтобы эксперимент навсегда сохранился"
   ]
  },
  {
   "cell_type": "code",
   "execution_count": 264,
   "id": "083ed3f0",
   "metadata": {},
   "outputs": [],
   "source": [
    "train, test = train_test_split(df, random_state=42, train_size = 0.6, stratify= df[\"Exited\"]) # random_state чтобы эксперимент навсегда сохранился"
   ]
  },
  {
   "cell_type": "markdown",
   "id": "b4d40202",
   "metadata": {},
   "source": [
    "# Человеческое обучение"
   ]
  },
  {
   "cell_type": "code",
   "execution_count": 265,
   "id": "8defb124",
   "metadata": {},
   "outputs": [],
   "source": [
    "train[\"age_group\"] = pd.cut(train[\"Age\"], [0, 31, 35, 40, 46, float(\"inf\")])"
   ]
  },
  {
   "cell_type": "code",
   "execution_count": 266,
   "id": "a13bcdfe",
   "metadata": {},
   "outputs": [],
   "source": [
    "model = train.groupby([\"NumOfProducts\", \"age_group\"])[\"Exited\"].mean().reset_index()"
   ]
  },
  {
   "cell_type": "code",
   "execution_count": 267,
   "id": "86f1a571",
   "metadata": {},
   "outputs": [],
   "source": [
    "model = model.rename({\"Exited\":\"score_prod_age\"}, axis=1)"
   ]
  },
  {
   "cell_type": "code",
   "execution_count": 268,
   "id": "98c98891",
   "metadata": {},
   "outputs": [],
   "source": [
    "train = train.merge(model, how=\"left\", on=[\"NumOfProducts\", \"age_group\"])"
   ]
  },
  {
   "cell_type": "code",
   "execution_count": 269,
   "id": "670d8cf8",
   "metadata": {},
   "outputs": [],
   "source": [
    "test[\"age_group\"] = pd.cut(test[\"Age\"], [0, 31, 35, 40, 46, float(\"inf\")])"
   ]
  },
  {
   "cell_type": "code",
   "execution_count": 270,
   "id": "478bce52",
   "metadata": {},
   "outputs": [],
   "source": [
    "test = test.merge(model, how=\"left\", on=[\"NumOfProducts\", \"age_group\"])"
   ]
  },
  {
   "cell_type": "code",
   "execution_count": null,
   "id": "e0ffc8ae",
   "metadata": {},
   "outputs": [],
   "source": []
  },
  {
   "cell_type": "markdown",
   "id": "a3334fe8",
   "metadata": {},
   "source": [
    "# Машинное обучение "
   ]
  },
  {
   "cell_type": "code",
   "execution_count": 271,
   "id": "41f556f4",
   "metadata": {},
   "outputs": [],
   "source": [
    "from catboost import CatBoostClassifier"
   ]
  },
  {
   "cell_type": "code",
   "execution_count": 272,
   "id": "8f182f7f",
   "metadata": {},
   "outputs": [],
   "source": [
    "X = ['CreditScore', 'Age', 'Tenure', 'Balance', \n",
    "     'NumOfProducts', \"Geography\", \"Gender\", 'HasCrCard','IsActiveMember', \n",
    "     'EstimatedSalary']\n",
    "\n",
    "cat_features = ['Geography','Gender']\n",
    "\n",
    "y = ['Exited']"
   ]
  },
  {
   "cell_type": "code",
   "execution_count": 273,
   "id": "86cd9de0",
   "metadata": {},
   "outputs": [],
   "source": [
    "from catboost import Pool\n",
    "\n",
    "train_data = Pool(data=train[X],\n",
    "                  label=train[y],\n",
    "                  cat_features=cat_features\n",
    "                 )\n",
    "\n",
    "valid_data = Pool(data=train[X],\n",
    "                  label=train[y],\n",
    "                  cat_features=cat_features\n",
    "                 )"
   ]
  },
  {
   "cell_type": "code",
   "execution_count": 274,
   "id": "d12e2818",
   "metadata": {},
   "outputs": [],
   "source": [
    "params = {\"verbose\": 100, \n",
    "          \"random_seed\": 42,\n",
    "         \"learning_rate\": 0.01}"
   ]
  },
  {
   "cell_type": "code",
   "execution_count": 275,
   "id": "74296799",
   "metadata": {},
   "outputs": [],
   "source": [
    "model = CatBoostClassifier(**params)\n"
   ]
  },
  {
   "cell_type": "code",
   "execution_count": 276,
   "id": "35cc1048",
   "metadata": {},
   "outputs": [
    {
     "name": "stdout",
     "output_type": "stream",
     "text": [
      "0:\tlearn: 0.6843626\ttest: 0.6843626\tbest: 0.6843626 (0)\ttotal: 4.54ms\tremaining: 4.53s\n",
      "100:\tlearn: 0.3896495\ttest: 0.3897331\tbest: 0.3897331 (100)\ttotal: 386ms\tremaining: 3.44s\n",
      "200:\tlearn: 0.3460826\ttest: 0.3460951\tbest: 0.3460951 (200)\ttotal: 743ms\tremaining: 2.95s\n",
      "300:\tlearn: 0.3296722\ttest: 0.3297279\tbest: 0.3297279 (300)\ttotal: 1.09s\tremaining: 2.53s\n",
      "400:\tlearn: 0.3207018\ttest: 0.3208565\tbest: 0.3208565 (400)\ttotal: 1.43s\tremaining: 2.14s\n",
      "500:\tlearn: 0.3138765\ttest: 0.3142470\tbest: 0.3142470 (500)\ttotal: 1.82s\tremaining: 1.81s\n",
      "600:\tlearn: 0.3087578\ttest: 0.3092560\tbest: 0.3092560 (600)\ttotal: 2.19s\tremaining: 1.46s\n",
      "700:\tlearn: 0.3033494\ttest: 0.3040332\tbest: 0.3040332 (700)\ttotal: 2.54s\tremaining: 1.08s\n",
      "800:\tlearn: 0.2982604\ttest: 0.2991963\tbest: 0.2991963 (800)\ttotal: 2.88s\tremaining: 716ms\n",
      "900:\tlearn: 0.2934621\ttest: 0.2945856\tbest: 0.2945856 (900)\ttotal: 3.23s\tremaining: 355ms\n",
      "999:\tlearn: 0.2887838\ttest: 0.2901222\tbest: 0.2901222 (999)\ttotal: 3.57s\tremaining: 0us\n",
      "\n",
      "bestTest = 0.2901222067\n",
      "bestIteration = 999\n",
      "\n"
     ]
    },
    {
     "data": {
      "text/plain": [
       "<catboost.core.CatBoostClassifier at 0x136c47070>"
      ]
     },
     "execution_count": 276,
     "metadata": {},
     "output_type": "execute_result"
    }
   ],
   "source": [
    "model.fit(train_data, eval_set=valid_data)"
   ]
  },
  {
   "cell_type": "code",
   "execution_count": 277,
   "id": "b0d48d45",
   "metadata": {},
   "outputs": [],
   "source": [
    "test[\"score_catboost\"] = model.predict_proba(test[X])[:,1]"
   ]
  },
  {
   "cell_type": "code",
   "execution_count": 278,
   "id": "61b9a29f",
   "metadata": {},
   "outputs": [
    {
     "data": {
      "text/plain": [
       "0    0.061561\n",
       "1    0.188889\n",
       "2    0.039944\n",
       "3    0.197921\n",
       "4    0.089839\n",
       "Name: score_catboost, dtype: float64"
      ]
     },
     "execution_count": 278,
     "metadata": {},
     "output_type": "execute_result"
    }
   ],
   "source": [
    "test[\"score_catboost\"].head()"
   ]
  },
  {
   "cell_type": "markdown",
   "id": "9fb5cabd",
   "metadata": {},
   "source": [
    "# Скор и пороги"
   ]
  },
  {
   "cell_type": "code",
   "execution_count": 279,
   "id": "515d4d64",
   "metadata": {},
   "outputs": [
    {
     "data": {
      "text/html": [
       "<div>\n",
       "<style scoped>\n",
       "    .dataframe tbody tr th:only-of-type {\n",
       "        vertical-align: middle;\n",
       "    }\n",
       "\n",
       "    .dataframe tbody tr th {\n",
       "        vertical-align: top;\n",
       "    }\n",
       "\n",
       "    .dataframe thead th {\n",
       "        text-align: right;\n",
       "    }\n",
       "</style>\n",
       "<table border=\"1\" class=\"dataframe\">\n",
       "  <thead>\n",
       "    <tr style=\"text-align: right;\">\n",
       "      <th></th>\n",
       "      <th>RowNumber</th>\n",
       "      <th>CustomerId</th>\n",
       "      <th>Surname</th>\n",
       "      <th>CreditScore</th>\n",
       "      <th>Geography</th>\n",
       "      <th>Gender</th>\n",
       "      <th>Age</th>\n",
       "      <th>Tenure</th>\n",
       "      <th>Balance</th>\n",
       "      <th>NumOfProducts</th>\n",
       "      <th>HasCrCard</th>\n",
       "      <th>IsActiveMember</th>\n",
       "      <th>EstimatedSalary</th>\n",
       "      <th>Exited</th>\n",
       "      <th>age_group</th>\n",
       "      <th>score_prod_age</th>\n",
       "      <th>score_catboost</th>\n",
       "    </tr>\n",
       "  </thead>\n",
       "  <tbody>\n",
       "    <tr>\n",
       "      <th>0</th>\n",
       "      <td>8771</td>\n",
       "      <td>15656901</td>\n",
       "      <td>Nnonso</td>\n",
       "      <td>615</td>\n",
       "      <td>France</td>\n",
       "      <td>Male</td>\n",
       "      <td>59</td>\n",
       "      <td>8</td>\n",
       "      <td>0.00</td>\n",
       "      <td>2</td>\n",
       "      <td>1</td>\n",
       "      <td>1</td>\n",
       "      <td>165576.55</td>\n",
       "      <td>0</td>\n",
       "      <td>(46.0, inf]</td>\n",
       "      <td>0.236364</td>\n",
       "      <td>0.061561</td>\n",
       "    </tr>\n",
       "    <tr>\n",
       "      <th>1</th>\n",
       "      <td>3910</td>\n",
       "      <td>15726487</td>\n",
       "      <td>P'eng</td>\n",
       "      <td>431</td>\n",
       "      <td>France</td>\n",
       "      <td>Male</td>\n",
       "      <td>63</td>\n",
       "      <td>6</td>\n",
       "      <td>160982.89</td>\n",
       "      <td>1</td>\n",
       "      <td>1</td>\n",
       "      <td>1</td>\n",
       "      <td>168008.17</td>\n",
       "      <td>0</td>\n",
       "      <td>(46.0, inf]</td>\n",
       "      <td>0.527607</td>\n",
       "      <td>0.188889</td>\n",
       "    </tr>\n",
       "    <tr>\n",
       "      <th>2</th>\n",
       "      <td>9123</td>\n",
       "      <td>15748595</td>\n",
       "      <td>Stanton</td>\n",
       "      <td>689</td>\n",
       "      <td>France</td>\n",
       "      <td>Female</td>\n",
       "      <td>29</td>\n",
       "      <td>1</td>\n",
       "      <td>77556.79</td>\n",
       "      <td>2</td>\n",
       "      <td>1</td>\n",
       "      <td>1</td>\n",
       "      <td>122998.26</td>\n",
       "      <td>0</td>\n",
       "      <td>(0.0, 31.0]</td>\n",
       "      <td>0.033289</td>\n",
       "      <td>0.039944</td>\n",
       "    </tr>\n",
       "    <tr>\n",
       "      <th>3</th>\n",
       "      <td>924</td>\n",
       "      <td>15601026</td>\n",
       "      <td>Gallagher</td>\n",
       "      <td>572</td>\n",
       "      <td>Germany</td>\n",
       "      <td>Female</td>\n",
       "      <td>19</td>\n",
       "      <td>1</td>\n",
       "      <td>138657.08</td>\n",
       "      <td>1</td>\n",
       "      <td>1</td>\n",
       "      <td>1</td>\n",
       "      <td>16161.82</td>\n",
       "      <td>0</td>\n",
       "      <td>(0.0, 31.0]</td>\n",
       "      <td>0.110764</td>\n",
       "      <td>0.197921</td>\n",
       "    </tr>\n",
       "    <tr>\n",
       "      <th>4</th>\n",
       "      <td>6125</td>\n",
       "      <td>15643359</td>\n",
       "      <td>Carter</td>\n",
       "      <td>736</td>\n",
       "      <td>Spain</td>\n",
       "      <td>Male</td>\n",
       "      <td>32</td>\n",
       "      <td>7</td>\n",
       "      <td>0.00</td>\n",
       "      <td>1</td>\n",
       "      <td>0</td>\n",
       "      <td>1</td>\n",
       "      <td>79082.62</td>\n",
       "      <td>0</td>\n",
       "      <td>(31.0, 35.0]</td>\n",
       "      <td>0.140449</td>\n",
       "      <td>0.089839</td>\n",
       "    </tr>\n",
       "    <tr>\n",
       "      <th>...</th>\n",
       "      <td>...</td>\n",
       "      <td>...</td>\n",
       "      <td>...</td>\n",
       "      <td>...</td>\n",
       "      <td>...</td>\n",
       "      <td>...</td>\n",
       "      <td>...</td>\n",
       "      <td>...</td>\n",
       "      <td>...</td>\n",
       "      <td>...</td>\n",
       "      <td>...</td>\n",
       "      <td>...</td>\n",
       "      <td>...</td>\n",
       "      <td>...</td>\n",
       "      <td>...</td>\n",
       "      <td>...</td>\n",
       "      <td>...</td>\n",
       "    </tr>\n",
       "    <tr>\n",
       "      <th>3995</th>\n",
       "      <td>4621</td>\n",
       "      <td>15798960</td>\n",
       "      <td>Meng</td>\n",
       "      <td>680</td>\n",
       "      <td>France</td>\n",
       "      <td>Male</td>\n",
       "      <td>33</td>\n",
       "      <td>2</td>\n",
       "      <td>108393.35</td>\n",
       "      <td>1</td>\n",
       "      <td>0</td>\n",
       "      <td>1</td>\n",
       "      <td>39057.67</td>\n",
       "      <td>0</td>\n",
       "      <td>(31.0, 35.0]</td>\n",
       "      <td>0.140449</td>\n",
       "      <td>0.038440</td>\n",
       "    </tr>\n",
       "    <tr>\n",
       "      <th>3996</th>\n",
       "      <td>363</td>\n",
       "      <td>15706365</td>\n",
       "      <td>Bianchi</td>\n",
       "      <td>648</td>\n",
       "      <td>France</td>\n",
       "      <td>Female</td>\n",
       "      <td>50</td>\n",
       "      <td>9</td>\n",
       "      <td>102535.57</td>\n",
       "      <td>1</td>\n",
       "      <td>1</td>\n",
       "      <td>1</td>\n",
       "      <td>189543.19</td>\n",
       "      <td>0</td>\n",
       "      <td>(46.0, inf]</td>\n",
       "      <td>0.527607</td>\n",
       "      <td>0.356512</td>\n",
       "    </tr>\n",
       "    <tr>\n",
       "      <th>3997</th>\n",
       "      <td>6558</td>\n",
       "      <td>15707242</td>\n",
       "      <td>Ibeamaka</td>\n",
       "      <td>504</td>\n",
       "      <td>Spain</td>\n",
       "      <td>Male</td>\n",
       "      <td>40</td>\n",
       "      <td>5</td>\n",
       "      <td>0.00</td>\n",
       "      <td>2</td>\n",
       "      <td>0</td>\n",
       "      <td>0</td>\n",
       "      <td>146703.36</td>\n",
       "      <td>0</td>\n",
       "      <td>(35.0, 40.0]</td>\n",
       "      <td>0.061069</td>\n",
       "      <td>0.048873</td>\n",
       "    </tr>\n",
       "    <tr>\n",
       "      <th>3998</th>\n",
       "      <td>5062</td>\n",
       "      <td>15734005</td>\n",
       "      <td>Mazzi</td>\n",
       "      <td>633</td>\n",
       "      <td>France</td>\n",
       "      <td>Female</td>\n",
       "      <td>42</td>\n",
       "      <td>1</td>\n",
       "      <td>0.00</td>\n",
       "      <td>2</td>\n",
       "      <td>1</td>\n",
       "      <td>0</td>\n",
       "      <td>56865.62</td>\n",
       "      <td>0</td>\n",
       "      <td>(40.0, 46.0]</td>\n",
       "      <td>0.108647</td>\n",
       "      <td>0.071422</td>\n",
       "    </tr>\n",
       "    <tr>\n",
       "      <th>3999</th>\n",
       "      <td>9419</td>\n",
       "      <td>15643794</td>\n",
       "      <td>Bennett</td>\n",
       "      <td>639</td>\n",
       "      <td>Spain</td>\n",
       "      <td>Female</td>\n",
       "      <td>27</td>\n",
       "      <td>2</td>\n",
       "      <td>0.00</td>\n",
       "      <td>1</td>\n",
       "      <td>1</td>\n",
       "      <td>1</td>\n",
       "      <td>82938.99</td>\n",
       "      <td>0</td>\n",
       "      <td>(0.0, 31.0]</td>\n",
       "      <td>0.110764</td>\n",
       "      <td>0.142927</td>\n",
       "    </tr>\n",
       "  </tbody>\n",
       "</table>\n",
       "<p>4000 rows × 17 columns</p>\n",
       "</div>"
      ],
      "text/plain": [
       "      RowNumber  CustomerId    Surname  CreditScore Geography  Gender  Age  \\\n",
       "0          8771    15656901     Nnonso          615    France    Male   59   \n",
       "1          3910    15726487      P'eng          431    France    Male   63   \n",
       "2          9123    15748595    Stanton          689    France  Female   29   \n",
       "3           924    15601026  Gallagher          572   Germany  Female   19   \n",
       "4          6125    15643359     Carter          736     Spain    Male   32   \n",
       "...         ...         ...        ...          ...       ...     ...  ...   \n",
       "3995       4621    15798960       Meng          680    France    Male   33   \n",
       "3996        363    15706365    Bianchi          648    France  Female   50   \n",
       "3997       6558    15707242   Ibeamaka          504     Spain    Male   40   \n",
       "3998       5062    15734005      Mazzi          633    France  Female   42   \n",
       "3999       9419    15643794    Bennett          639     Spain  Female   27   \n",
       "\n",
       "      Tenure    Balance  NumOfProducts  HasCrCard  IsActiveMember  \\\n",
       "0          8       0.00              2          1               1   \n",
       "1          6  160982.89              1          1               1   \n",
       "2          1   77556.79              2          1               1   \n",
       "3          1  138657.08              1          1               1   \n",
       "4          7       0.00              1          0               1   \n",
       "...      ...        ...            ...        ...             ...   \n",
       "3995       2  108393.35              1          0               1   \n",
       "3996       9  102535.57              1          1               1   \n",
       "3997       5       0.00              2          0               0   \n",
       "3998       1       0.00              2          1               0   \n",
       "3999       2       0.00              1          1               1   \n",
       "\n",
       "      EstimatedSalary  Exited     age_group  score_prod_age  score_catboost  \n",
       "0           165576.55       0   (46.0, inf]        0.236364        0.061561  \n",
       "1           168008.17       0   (46.0, inf]        0.527607        0.188889  \n",
       "2           122998.26       0   (0.0, 31.0]        0.033289        0.039944  \n",
       "3            16161.82       0   (0.0, 31.0]        0.110764        0.197921  \n",
       "4            79082.62       0  (31.0, 35.0]        0.140449        0.089839  \n",
       "...               ...     ...           ...             ...             ...  \n",
       "3995         39057.67       0  (31.0, 35.0]        0.140449        0.038440  \n",
       "3996        189543.19       0   (46.0, inf]        0.527607        0.356512  \n",
       "3997        146703.36       0  (35.0, 40.0]        0.061069        0.048873  \n",
       "3998         56865.62       0  (40.0, 46.0]        0.108647        0.071422  \n",
       "3999         82938.99       0   (0.0, 31.0]        0.110764        0.142927  \n",
       "\n",
       "[4000 rows x 17 columns]"
      ]
     },
     "execution_count": 279,
     "metadata": {},
     "output_type": "execute_result"
    }
   ],
   "source": [
    "test"
   ]
  },
  {
   "cell_type": "code",
   "execution_count": 280,
   "id": "1f74140d",
   "metadata": {},
   "outputs": [],
   "source": [
    "# Чем меньше score, тем меньше человек склонен к оттоку "
   ]
  },
  {
   "cell_type": "code",
   "execution_count": 281,
   "id": "4baf84f7",
   "metadata": {},
   "outputs": [],
   "source": [
    "# Чем больше score, тем больше человек склонен к оттоку "
   ]
  },
  {
   "cell_type": "code",
   "execution_count": 282,
   "id": "a9573867",
   "metadata": {},
   "outputs": [
    {
     "data": {
      "text/plain": [
       "<Axes: >"
      ]
     },
     "execution_count": 282,
     "metadata": {},
     "output_type": "execute_result"
    },
    {
     "data": {
      "image/png": "[encoded data removed]",
      "text/plain": [
       "<Figure size 640x480 with 1 Axes>"
      ]
     },
     "metadata": {},
     "output_type": "display_data"
    }
   ],
   "source": [
    "test[\"score_catboost\"].hist()"
   ]
  },
  {
   "cell_type": "code",
   "execution_count": 283,
   "id": "bbd36b61",
   "metadata": {},
   "outputs": [
    {
     "data": {
      "text/plain": [
       "0.20375"
      ]
     },
     "execution_count": 283,
     "metadata": {},
     "output_type": "execute_result"
    }
   ],
   "source": [
    "test[\"Exited\"].mean()"
   ]
  },
  {
   "cell_type": "code",
   "execution_count": 284,
   "id": "c8e5b535",
   "metadata": {},
   "outputs": [],
   "source": [
    "test[\"y_pred\"] = (test[\"score_catboost\"] > 0.5) * 1"
   ]
  },
  {
   "cell_type": "code",
   "execution_count": 285,
   "id": "73e1cfea",
   "metadata": {},
   "outputs": [
    {
     "data": {
      "text/html": [
       "<div>\n",
       "<style scoped>\n",
       "    .dataframe tbody tr th:only-of-type {\n",
       "        vertical-align: middle;\n",
       "    }\n",
       "\n",
       "    .dataframe tbody tr th {\n",
       "        vertical-align: top;\n",
       "    }\n",
       "\n",
       "    .dataframe thead th {\n",
       "        text-align: right;\n",
       "    }\n",
       "</style>\n",
       "<table border=\"1\" class=\"dataframe\">\n",
       "  <thead>\n",
       "    <tr style=\"text-align: right;\">\n",
       "      <th></th>\n",
       "      <th>RowNumber</th>\n",
       "      <th>CustomerId</th>\n",
       "      <th>Surname</th>\n",
       "      <th>CreditScore</th>\n",
       "      <th>Geography</th>\n",
       "      <th>Gender</th>\n",
       "      <th>Age</th>\n",
       "      <th>Tenure</th>\n",
       "      <th>Balance</th>\n",
       "      <th>NumOfProducts</th>\n",
       "      <th>HasCrCard</th>\n",
       "      <th>IsActiveMember</th>\n",
       "      <th>EstimatedSalary</th>\n",
       "      <th>Exited</th>\n",
       "      <th>age_group</th>\n",
       "      <th>score_prod_age</th>\n",
       "      <th>score_catboost</th>\n",
       "      <th>y_pred</th>\n",
       "    </tr>\n",
       "  </thead>\n",
       "  <tbody>\n",
       "    <tr>\n",
       "      <th>0</th>\n",
       "      <td>8771</td>\n",
       "      <td>15656901</td>\n",
       "      <td>Nnonso</td>\n",
       "      <td>615</td>\n",
       "      <td>France</td>\n",
       "      <td>Male</td>\n",
       "      <td>59</td>\n",
       "      <td>8</td>\n",
       "      <td>0.00</td>\n",
       "      <td>2</td>\n",
       "      <td>1</td>\n",
       "      <td>1</td>\n",
       "      <td>165576.55</td>\n",
       "      <td>0</td>\n",
       "      <td>(46.0, inf]</td>\n",
       "      <td>0.236364</td>\n",
       "      <td>0.061561</td>\n",
       "      <td>0</td>\n",
       "    </tr>\n",
       "    <tr>\n",
       "      <th>1</th>\n",
       "      <td>3910</td>\n",
       "      <td>15726487</td>\n",
       "      <td>P'eng</td>\n",
       "      <td>431</td>\n",
       "      <td>France</td>\n",
       "      <td>Male</td>\n",
       "      <td>63</td>\n",
       "      <td>6</td>\n",
       "      <td>160982.89</td>\n",
       "      <td>1</td>\n",
       "      <td>1</td>\n",
       "      <td>1</td>\n",
       "      <td>168008.17</td>\n",
       "      <td>0</td>\n",
       "      <td>(46.0, inf]</td>\n",
       "      <td>0.527607</td>\n",
       "      <td>0.188889</td>\n",
       "      <td>0</td>\n",
       "    </tr>\n",
       "    <tr>\n",
       "      <th>2</th>\n",
       "      <td>9123</td>\n",
       "      <td>15748595</td>\n",
       "      <td>Stanton</td>\n",
       "      <td>689</td>\n",
       "      <td>France</td>\n",
       "      <td>Female</td>\n",
       "      <td>29</td>\n",
       "      <td>1</td>\n",
       "      <td>77556.79</td>\n",
       "      <td>2</td>\n",
       "      <td>1</td>\n",
       "      <td>1</td>\n",
       "      <td>122998.26</td>\n",
       "      <td>0</td>\n",
       "      <td>(0.0, 31.0]</td>\n",
       "      <td>0.033289</td>\n",
       "      <td>0.039944</td>\n",
       "      <td>0</td>\n",
       "    </tr>\n",
       "    <tr>\n",
       "      <th>3</th>\n",
       "      <td>924</td>\n",
       "      <td>15601026</td>\n",
       "      <td>Gallagher</td>\n",
       "      <td>572</td>\n",
       "      <td>Germany</td>\n",
       "      <td>Female</td>\n",
       "      <td>19</td>\n",
       "      <td>1</td>\n",
       "      <td>138657.08</td>\n",
       "      <td>1</td>\n",
       "      <td>1</td>\n",
       "      <td>1</td>\n",
       "      <td>16161.82</td>\n",
       "      <td>0</td>\n",
       "      <td>(0.0, 31.0]</td>\n",
       "      <td>0.110764</td>\n",
       "      <td>0.197921</td>\n",
       "      <td>0</td>\n",
       "    </tr>\n",
       "    <tr>\n",
       "      <th>4</th>\n",
       "      <td>6125</td>\n",
       "      <td>15643359</td>\n",
       "      <td>Carter</td>\n",
       "      <td>736</td>\n",
       "      <td>Spain</td>\n",
       "      <td>Male</td>\n",
       "      <td>32</td>\n",
       "      <td>7</td>\n",
       "      <td>0.00</td>\n",
       "      <td>1</td>\n",
       "      <td>0</td>\n",
       "      <td>1</td>\n",
       "      <td>79082.62</td>\n",
       "      <td>0</td>\n",
       "      <td>(31.0, 35.0]</td>\n",
       "      <td>0.140449</td>\n",
       "      <td>0.089839</td>\n",
       "      <td>0</td>\n",
       "    </tr>\n",
       "    <tr>\n",
       "      <th>...</th>\n",
       "      <td>...</td>\n",
       "      <td>...</td>\n",
       "      <td>...</td>\n",
       "      <td>...</td>\n",
       "      <td>...</td>\n",
       "      <td>...</td>\n",
       "      <td>...</td>\n",
       "      <td>...</td>\n",
       "      <td>...</td>\n",
       "      <td>...</td>\n",
       "      <td>...</td>\n",
       "      <td>...</td>\n",
       "      <td>...</td>\n",
       "      <td>...</td>\n",
       "      <td>...</td>\n",
       "      <td>...</td>\n",
       "      <td>...</td>\n",
       "      <td>...</td>\n",
       "    </tr>\n",
       "    <tr>\n",
       "      <th>3995</th>\n",
       "      <td>4621</td>\n",
       "      <td>15798960</td>\n",
       "      <td>Meng</td>\n",
       "      <td>680</td>\n",
       "      <td>France</td>\n",
       "      <td>Male</td>\n",
       "      <td>33</td>\n",
       "      <td>2</td>\n",
       "      <td>108393.35</td>\n",
       "      <td>1</td>\n",
       "      <td>0</td>\n",
       "      <td>1</td>\n",
       "      <td>39057.67</td>\n",
       "      <td>0</td>\n",
       "      <td>(31.0, 35.0]</td>\n",
       "      <td>0.140449</td>\n",
       "      <td>0.038440</td>\n",
       "      <td>0</td>\n",
       "    </tr>\n",
       "    <tr>\n",
       "      <th>3996</th>\n",
       "      <td>363</td>\n",
       "      <td>15706365</td>\n",
       "      <td>Bianchi</td>\n",
       "      <td>648</td>\n",
       "      <td>France</td>\n",
       "      <td>Female</td>\n",
       "      <td>50</td>\n",
       "      <td>9</td>\n",
       "      <td>102535.57</td>\n",
       "      <td>1</td>\n",
       "      <td>1</td>\n",
       "      <td>1</td>\n",
       "      <td>189543.19</td>\n",
       "      <td>0</td>\n",
       "      <td>(46.0, inf]</td>\n",
       "      <td>0.527607</td>\n",
       "      <td>0.356512</td>\n",
       "      <td>0</td>\n",
       "    </tr>\n",
       "    <tr>\n",
       "      <th>3997</th>\n",
       "      <td>6558</td>\n",
       "      <td>15707242</td>\n",
       "      <td>Ibeamaka</td>\n",
       "      <td>504</td>\n",
       "      <td>Spain</td>\n",
       "      <td>Male</td>\n",
       "      <td>40</td>\n",
       "      <td>5</td>\n",
       "      <td>0.00</td>\n",
       "      <td>2</td>\n",
       "      <td>0</td>\n",
       "      <td>0</td>\n",
       "      <td>146703.36</td>\n",
       "      <td>0</td>\n",
       "      <td>(35.0, 40.0]</td>\n",
       "      <td>0.061069</td>\n",
       "      <td>0.048873</td>\n",
       "      <td>0</td>\n",
       "    </tr>\n",
       "    <tr>\n",
       "      <th>3998</th>\n",
       "      <td>5062</td>\n",
       "      <td>15734005</td>\n",
       "      <td>Mazzi</td>\n",
       "      <td>633</td>\n",
       "      <td>France</td>\n",
       "      <td>Female</td>\n",
       "      <td>42</td>\n",
       "      <td>1</td>\n",
       "      <td>0.00</td>\n",
       "      <td>2</td>\n",
       "      <td>1</td>\n",
       "      <td>0</td>\n",
       "      <td>56865.62</td>\n",
       "      <td>0</td>\n",
       "      <td>(40.0, 46.0]</td>\n",
       "      <td>0.108647</td>\n",
       "      <td>0.071422</td>\n",
       "      <td>0</td>\n",
       "    </tr>\n",
       "    <tr>\n",
       "      <th>3999</th>\n",
       "      <td>9419</td>\n",
       "      <td>15643794</td>\n",
       "      <td>Bennett</td>\n",
       "      <td>639</td>\n",
       "      <td>Spain</td>\n",
       "      <td>Female</td>\n",
       "      <td>27</td>\n",
       "      <td>2</td>\n",
       "      <td>0.00</td>\n",
       "      <td>1</td>\n",
       "      <td>1</td>\n",
       "      <td>1</td>\n",
       "      <td>82938.99</td>\n",
       "      <td>0</td>\n",
       "      <td>(0.0, 31.0]</td>\n",
       "      <td>0.110764</td>\n",
       "      <td>0.142927</td>\n",
       "      <td>0</td>\n",
       "    </tr>\n",
       "  </tbody>\n",
       "</table>\n",
       "<p>4000 rows × 18 columns</p>\n",
       "</div>"
      ],
      "text/plain": [
       "      RowNumber  CustomerId    Surname  CreditScore Geography  Gender  Age  \\\n",
       "0          8771    15656901     Nnonso          615    France    Male   59   \n",
       "1          3910    15726487      P'eng          431    France    Male   63   \n",
       "2          9123    15748595    Stanton          689    France  Female   29   \n",
       "3           924    15601026  Gallagher          572   Germany  Female   19   \n",
       "4          6125    15643359     Carter          736     Spain    Male   32   \n",
       "...         ...         ...        ...          ...       ...     ...  ...   \n",
       "3995       4621    15798960       Meng          680    France    Male   33   \n",
       "3996        363    15706365    Bianchi          648    France  Female   50   \n",
       "3997       6558    15707242   Ibeamaka          504     Spain    Male   40   \n",
       "3998       5062    15734005      Mazzi          633    France  Female   42   \n",
       "3999       9419    15643794    Bennett          639     Spain  Female   27   \n",
       "\n",
       "      Tenure    Balance  NumOfProducts  HasCrCard  IsActiveMember  \\\n",
       "0          8       0.00              2          1               1   \n",
       "1          6  160982.89              1          1               1   \n",
       "2          1   77556.79              2          1               1   \n",
       "3          1  138657.08              1          1               1   \n",
       "4          7       0.00              1          0               1   \n",
       "...      ...        ...            ...        ...             ...   \n",
       "3995       2  108393.35              1          0               1   \n",
       "3996       9  102535.57              1          1               1   \n",
       "3997       5       0.00              2          0               0   \n",
       "3998       1       0.00              2          1               0   \n",
       "3999       2       0.00              1          1               1   \n",
       "\n",
       "      EstimatedSalary  Exited     age_group  score_prod_age  score_catboost  \\\n",
       "0           165576.55       0   (46.0, inf]        0.236364        0.061561   \n",
       "1           168008.17       0   (46.0, inf]        0.527607        0.188889   \n",
       "2           122998.26       0   (0.0, 31.0]        0.033289        0.039944   \n",
       "3            16161.82       0   (0.0, 31.0]        0.110764        0.197921   \n",
       "4            79082.62       0  (31.0, 35.0]        0.140449        0.089839   \n",
       "...               ...     ...           ...             ...             ...   \n",
       "3995         39057.67       0  (31.0, 35.0]        0.140449        0.038440   \n",
       "3996        189543.19       0   (46.0, inf]        0.527607        0.356512   \n",
       "3997        146703.36       0  (35.0, 40.0]        0.061069        0.048873   \n",
       "3998         56865.62       0  (40.0, 46.0]        0.108647        0.071422   \n",
       "3999         82938.99       0   (0.0, 31.0]        0.110764        0.142927   \n",
       "\n",
       "      y_pred  \n",
       "0          0  \n",
       "1          0  \n",
       "2          0  \n",
       "3          0  \n",
       "4          0  \n",
       "...      ...  \n",
       "3995       0  \n",
       "3996       0  \n",
       "3997       0  \n",
       "3998       0  \n",
       "3999       0  \n",
       "\n",
       "[4000 rows x 18 columns]"
      ]
     },
     "execution_count": 285,
     "metadata": {},
     "output_type": "execute_result"
    }
   ],
   "source": [
    "test"
   ]
  },
  {
   "cell_type": "code",
   "execution_count": 286,
   "id": "bfe1ea26",
   "metadata": {},
   "outputs": [
    {
     "data": {
      "text/plain": [
       "0.133"
      ]
     },
     "execution_count": 286,
     "metadata": {},
     "output_type": "execute_result"
    }
   ],
   "source": [
    "test[\"y_pred\"].mean()"
   ]
  },
  {
   "cell_type": "markdown",
   "id": "4803cd7d",
   "metadata": {},
   "source": [
    "# Матрица ошибок "
   ]
  },
  {
   "cell_type": "code",
   "execution_count": 287,
   "id": "2f8d1ab8",
   "metadata": {},
   "outputs": [],
   "source": [
    "# Exited - цель \n",
    "# y - true | y - pred\n",
    "# 0          0  - Negative \n",
    "# 1          1 - Positive \n",
    "#______________\n",
    "# 0          0 - True Negative  (TN)\n",
    "# 0          1 - False Positive (FP)\n",
    "# 1          0 - False Negative (FN)\n",
    "# 1          1 - True Positive  (TP)"
   ]
  },
  {
   "cell_type": "code",
   "execution_count": 288,
   "id": "3dba8618",
   "metadata": {},
   "outputs": [
    {
     "data": {
      "text/html": [
       "<div>\n",
       "<style scoped>\n",
       "    .dataframe tbody tr th:only-of-type {\n",
       "        vertical-align: middle;\n",
       "    }\n",
       "\n",
       "    .dataframe tbody tr th {\n",
       "        vertical-align: top;\n",
       "    }\n",
       "\n",
       "    .dataframe thead th {\n",
       "        text-align: right;\n",
       "    }\n",
       "</style>\n",
       "<table border=\"1\" class=\"dataframe\">\n",
       "  <thead>\n",
       "    <tr style=\"text-align: right;\">\n",
       "      <th></th>\n",
       "      <th>RowNumber</th>\n",
       "      <th>CustomerId</th>\n",
       "      <th>Surname</th>\n",
       "      <th>CreditScore</th>\n",
       "      <th>Geography</th>\n",
       "      <th>Gender</th>\n",
       "      <th>Age</th>\n",
       "      <th>Tenure</th>\n",
       "      <th>Balance</th>\n",
       "      <th>NumOfProducts</th>\n",
       "      <th>HasCrCard</th>\n",
       "      <th>IsActiveMember</th>\n",
       "      <th>EstimatedSalary</th>\n",
       "      <th>Exited</th>\n",
       "      <th>age_group</th>\n",
       "      <th>score_prod_age</th>\n",
       "      <th>score_catboost</th>\n",
       "      <th>y_pred</th>\n",
       "    </tr>\n",
       "  </thead>\n",
       "  <tbody>\n",
       "    <tr>\n",
       "      <th>0</th>\n",
       "      <td>8771</td>\n",
       "      <td>15656901</td>\n",
       "      <td>Nnonso</td>\n",
       "      <td>615</td>\n",
       "      <td>France</td>\n",
       "      <td>Male</td>\n",
       "      <td>59</td>\n",
       "      <td>8</td>\n",
       "      <td>0.00</td>\n",
       "      <td>2</td>\n",
       "      <td>1</td>\n",
       "      <td>1</td>\n",
       "      <td>165576.55</td>\n",
       "      <td>0</td>\n",
       "      <td>(46.0, inf]</td>\n",
       "      <td>0.236364</td>\n",
       "      <td>0.061561</td>\n",
       "      <td>0</td>\n",
       "    </tr>\n",
       "    <tr>\n",
       "      <th>1</th>\n",
       "      <td>3910</td>\n",
       "      <td>15726487</td>\n",
       "      <td>P'eng</td>\n",
       "      <td>431</td>\n",
       "      <td>France</td>\n",
       "      <td>Male</td>\n",
       "      <td>63</td>\n",
       "      <td>6</td>\n",
       "      <td>160982.89</td>\n",
       "      <td>1</td>\n",
       "      <td>1</td>\n",
       "      <td>1</td>\n",
       "      <td>168008.17</td>\n",
       "      <td>0</td>\n",
       "      <td>(46.0, inf]</td>\n",
       "      <td>0.527607</td>\n",
       "      <td>0.188889</td>\n",
       "      <td>0</td>\n",
       "    </tr>\n",
       "    <tr>\n",
       "      <th>2</th>\n",
       "      <td>9123</td>\n",
       "      <td>15748595</td>\n",
       "      <td>Stanton</td>\n",
       "      <td>689</td>\n",
       "      <td>France</td>\n",
       "      <td>Female</td>\n",
       "      <td>29</td>\n",
       "      <td>1</td>\n",
       "      <td>77556.79</td>\n",
       "      <td>2</td>\n",
       "      <td>1</td>\n",
       "      <td>1</td>\n",
       "      <td>122998.26</td>\n",
       "      <td>0</td>\n",
       "      <td>(0.0, 31.0]</td>\n",
       "      <td>0.033289</td>\n",
       "      <td>0.039944</td>\n",
       "      <td>0</td>\n",
       "    </tr>\n",
       "    <tr>\n",
       "      <th>3</th>\n",
       "      <td>924</td>\n",
       "      <td>15601026</td>\n",
       "      <td>Gallagher</td>\n",
       "      <td>572</td>\n",
       "      <td>Germany</td>\n",
       "      <td>Female</td>\n",
       "      <td>19</td>\n",
       "      <td>1</td>\n",
       "      <td>138657.08</td>\n",
       "      <td>1</td>\n",
       "      <td>1</td>\n",
       "      <td>1</td>\n",
       "      <td>16161.82</td>\n",
       "      <td>0</td>\n",
       "      <td>(0.0, 31.0]</td>\n",
       "      <td>0.110764</td>\n",
       "      <td>0.197921</td>\n",
       "      <td>0</td>\n",
       "    </tr>\n",
       "    <tr>\n",
       "      <th>4</th>\n",
       "      <td>6125</td>\n",
       "      <td>15643359</td>\n",
       "      <td>Carter</td>\n",
       "      <td>736</td>\n",
       "      <td>Spain</td>\n",
       "      <td>Male</td>\n",
       "      <td>32</td>\n",
       "      <td>7</td>\n",
       "      <td>0.00</td>\n",
       "      <td>1</td>\n",
       "      <td>0</td>\n",
       "      <td>1</td>\n",
       "      <td>79082.62</td>\n",
       "      <td>0</td>\n",
       "      <td>(31.0, 35.0]</td>\n",
       "      <td>0.140449</td>\n",
       "      <td>0.089839</td>\n",
       "      <td>0</td>\n",
       "    </tr>\n",
       "    <tr>\n",
       "      <th>...</th>\n",
       "      <td>...</td>\n",
       "      <td>...</td>\n",
       "      <td>...</td>\n",
       "      <td>...</td>\n",
       "      <td>...</td>\n",
       "      <td>...</td>\n",
       "      <td>...</td>\n",
       "      <td>...</td>\n",
       "      <td>...</td>\n",
       "      <td>...</td>\n",
       "      <td>...</td>\n",
       "      <td>...</td>\n",
       "      <td>...</td>\n",
       "      <td>...</td>\n",
       "      <td>...</td>\n",
       "      <td>...</td>\n",
       "      <td>...</td>\n",
       "      <td>...</td>\n",
       "    </tr>\n",
       "    <tr>\n",
       "      <th>3995</th>\n",
       "      <td>4621</td>\n",
       "      <td>15798960</td>\n",
       "      <td>Meng</td>\n",
       "      <td>680</td>\n",
       "      <td>France</td>\n",
       "      <td>Male</td>\n",
       "      <td>33</td>\n",
       "      <td>2</td>\n",
       "      <td>108393.35</td>\n",
       "      <td>1</td>\n",
       "      <td>0</td>\n",
       "      <td>1</td>\n",
       "      <td>39057.67</td>\n",
       "      <td>0</td>\n",
       "      <td>(31.0, 35.0]</td>\n",
       "      <td>0.140449</td>\n",
       "      <td>0.038440</td>\n",
       "      <td>0</td>\n",
       "    </tr>\n",
       "    <tr>\n",
       "      <th>3996</th>\n",
       "      <td>363</td>\n",
       "      <td>15706365</td>\n",
       "      <td>Bianchi</td>\n",
       "      <td>648</td>\n",
       "      <td>France</td>\n",
       "      <td>Female</td>\n",
       "      <td>50</td>\n",
       "      <td>9</td>\n",
       "      <td>102535.57</td>\n",
       "      <td>1</td>\n",
       "      <td>1</td>\n",
       "      <td>1</td>\n",
       "      <td>189543.19</td>\n",
       "      <td>0</td>\n",
       "      <td>(46.0, inf]</td>\n",
       "      <td>0.527607</td>\n",
       "      <td>0.356512</td>\n",
       "      <td>0</td>\n",
       "    </tr>\n",
       "    <tr>\n",
       "      <th>3997</th>\n",
       "      <td>6558</td>\n",
       "      <td>15707242</td>\n",
       "      <td>Ibeamaka</td>\n",
       "      <td>504</td>\n",
       "      <td>Spain</td>\n",
       "      <td>Male</td>\n",
       "      <td>40</td>\n",
       "      <td>5</td>\n",
       "      <td>0.00</td>\n",
       "      <td>2</td>\n",
       "      <td>0</td>\n",
       "      <td>0</td>\n",
       "      <td>146703.36</td>\n",
       "      <td>0</td>\n",
       "      <td>(35.0, 40.0]</td>\n",
       "      <td>0.061069</td>\n",
       "      <td>0.048873</td>\n",
       "      <td>0</td>\n",
       "    </tr>\n",
       "    <tr>\n",
       "      <th>3998</th>\n",
       "      <td>5062</td>\n",
       "      <td>15734005</td>\n",
       "      <td>Mazzi</td>\n",
       "      <td>633</td>\n",
       "      <td>France</td>\n",
       "      <td>Female</td>\n",
       "      <td>42</td>\n",
       "      <td>1</td>\n",
       "      <td>0.00</td>\n",
       "      <td>2</td>\n",
       "      <td>1</td>\n",
       "      <td>0</td>\n",
       "      <td>56865.62</td>\n",
       "      <td>0</td>\n",
       "      <td>(40.0, 46.0]</td>\n",
       "      <td>0.108647</td>\n",
       "      <td>0.071422</td>\n",
       "      <td>0</td>\n",
       "    </tr>\n",
       "    <tr>\n",
       "      <th>3999</th>\n",
       "      <td>9419</td>\n",
       "      <td>15643794</td>\n",
       "      <td>Bennett</td>\n",
       "      <td>639</td>\n",
       "      <td>Spain</td>\n",
       "      <td>Female</td>\n",
       "      <td>27</td>\n",
       "      <td>2</td>\n",
       "      <td>0.00</td>\n",
       "      <td>1</td>\n",
       "      <td>1</td>\n",
       "      <td>1</td>\n",
       "      <td>82938.99</td>\n",
       "      <td>0</td>\n",
       "      <td>(0.0, 31.0]</td>\n",
       "      <td>0.110764</td>\n",
       "      <td>0.142927</td>\n",
       "      <td>0</td>\n",
       "    </tr>\n",
       "  </tbody>\n",
       "</table>\n",
       "<p>4000 rows × 18 columns</p>\n",
       "</div>"
      ],
      "text/plain": [
       "      RowNumber  CustomerId    Surname  CreditScore Geography  Gender  Age  \\\n",
       "0          8771    15656901     Nnonso          615    France    Male   59   \n",
       "1          3910    15726487      P'eng          431    France    Male   63   \n",
       "2          9123    15748595    Stanton          689    France  Female   29   \n",
       "3           924    15601026  Gallagher          572   Germany  Female   19   \n",
       "4          6125    15643359     Carter          736     Spain    Male   32   \n",
       "...         ...         ...        ...          ...       ...     ...  ...   \n",
       "3995       4621    15798960       Meng          680    France    Male   33   \n",
       "3996        363    15706365    Bianchi          648    France  Female   50   \n",
       "3997       6558    15707242   Ibeamaka          504     Spain    Male   40   \n",
       "3998       5062    15734005      Mazzi          633    France  Female   42   \n",
       "3999       9419    15643794    Bennett          639     Spain  Female   27   \n",
       "\n",
       "      Tenure    Balance  NumOfProducts  HasCrCard  IsActiveMember  \\\n",
       "0          8       0.00              2          1               1   \n",
       "1          6  160982.89              1          1               1   \n",
       "2          1   77556.79              2          1               1   \n",
       "3          1  138657.08              1          1               1   \n",
       "4          7       0.00              1          0               1   \n",
       "...      ...        ...            ...        ...             ...   \n",
       "3995       2  108393.35              1          0               1   \n",
       "3996       9  102535.57              1          1               1   \n",
       "3997       5       0.00              2          0               0   \n",
       "3998       1       0.00              2          1               0   \n",
       "3999       2       0.00              1          1               1   \n",
       "\n",
       "      EstimatedSalary  Exited     age_group  score_prod_age  score_catboost  \\\n",
       "0           165576.55       0   (46.0, inf]        0.236364        0.061561   \n",
       "1           168008.17       0   (46.0, inf]        0.527607        0.188889   \n",
       "2           122998.26       0   (0.0, 31.0]        0.033289        0.039944   \n",
       "3            16161.82       0   (0.0, 31.0]        0.110764        0.197921   \n",
       "4            79082.62       0  (31.0, 35.0]        0.140449        0.089839   \n",
       "...               ...     ...           ...             ...             ...   \n",
       "3995         39057.67       0  (31.0, 35.0]        0.140449        0.038440   \n",
       "3996        189543.19       0   (46.0, inf]        0.527607        0.356512   \n",
       "3997        146703.36       0  (35.0, 40.0]        0.061069        0.048873   \n",
       "3998         56865.62       0  (40.0, 46.0]        0.108647        0.071422   \n",
       "3999         82938.99       0   (0.0, 31.0]        0.110764        0.142927   \n",
       "\n",
       "      y_pred  \n",
       "0          0  \n",
       "1          0  \n",
       "2          0  \n",
       "3          0  \n",
       "4          0  \n",
       "...      ...  \n",
       "3995       0  \n",
       "3996       0  \n",
       "3997       0  \n",
       "3998       0  \n",
       "3999       0  \n",
       "\n",
       "[4000 rows x 18 columns]"
      ]
     },
     "execution_count": 288,
     "metadata": {},
     "output_type": "execute_result"
    }
   ],
   "source": [
    "test"
   ]
  },
  {
   "cell_type": "code",
   "execution_count": 289,
   "id": "4b599943",
   "metadata": {},
   "outputs": [],
   "source": [
    "from sklearn.metrics import confusion_matrix"
   ]
  },
  {
   "cell_type": "code",
   "execution_count": 290,
   "id": "0bb92faa",
   "metadata": {},
   "outputs": [
    {
     "data": {
      "text/plain": [
       "array([[3064,  121],\n",
       "       [ 404,  411]])"
      ]
     },
     "execution_count": 290,
     "metadata": {},
     "output_type": "execute_result"
    }
   ],
   "source": [
    "confusion_matrix(test[\"Exited\"], test[\"y_pred\"])"
   ]
  },
  {
   "cell_type": "code",
   "execution_count": 291,
   "id": "2dd90b22",
   "metadata": {},
   "outputs": [],
   "source": [
    "tn,fp,fn,tp = confusion_matrix(test[\"Exited\"], test[\"y_pred\"]).ravel()"
   ]
  },
  {
   "cell_type": "code",
   "execution_count": 292,
   "id": "0edba290",
   "metadata": {},
   "outputs": [
    {
     "data": {
      "text/plain": [
       "(3064, 121, 404, 411)"
      ]
     },
     "execution_count": 292,
     "metadata": {},
     "output_type": "execute_result"
    }
   ],
   "source": [
    "tn,fp,fn,tp"
   ]
  },
  {
   "cell_type": "markdown",
   "id": "80cb36da",
   "metadata": {},
   "source": [
    "# https://en.wikipedia.org/wiki/Receiver_operating_characteristic"
   ]
  },
  {
   "cell_type": "markdown",
   "id": "cf1320e0",
   "metadata": {},
   "source": [
    "# Метрики "
   ]
  },
  {
   "cell_type": "markdown",
   "id": "ae7f30e3",
   "metadata": {},
   "source": [
    "# Recall (полнота)"
   ]
  },
  {
   "cell_type": "code",
   "execution_count": 293,
   "id": "14ddd198",
   "metadata": {},
   "outputs": [],
   "source": [
    "recall = tp / (tp + fn)"
   ]
  },
  {
   "cell_type": "code",
   "execution_count": 294,
   "id": "93e3c6ca",
   "metadata": {},
   "outputs": [
    {
     "data": {
      "text/plain": [
       "0.5042944785276073"
      ]
     },
     "execution_count": 294,
     "metadata": {},
     "output_type": "execute_result"
    }
   ],
   "source": [
    "recall"
   ]
  },
  {
   "cell_type": "code",
   "execution_count": 295,
   "id": "1d0f9753",
   "metadata": {},
   "outputs": [],
   "source": [
    "from sklearn.metrics import recall_score"
   ]
  },
  {
   "cell_type": "code",
   "execution_count": 296,
   "id": "4d1a6ac7",
   "metadata": {},
   "outputs": [
    {
     "data": {
      "text/plain": [
       "0.5042944785276073"
      ]
     },
     "execution_count": 296,
     "metadata": {},
     "output_type": "execute_result"
    }
   ],
   "source": [
    "recall_score(test[\"Exited\"], test[\"y_pred\"])"
   ]
  },
  {
   "cell_type": "code",
   "execution_count": 297,
   "id": "0dbbd788",
   "metadata": {},
   "outputs": [],
   "source": [
    "# Одного recall не достаточно чтобы оценить качество классификации"
   ]
  },
  {
   "cell_type": "code",
   "execution_count": 298,
   "id": "6d9daa2b",
   "metadata": {},
   "outputs": [],
   "source": [
    "test[\"y_pred_1\"] = 1"
   ]
  },
  {
   "cell_type": "code",
   "execution_count": 299,
   "id": "1fafe2e0",
   "metadata": {},
   "outputs": [
    {
     "data": {
      "text/plain": [
       "1.0"
      ]
     },
     "execution_count": 299,
     "metadata": {},
     "output_type": "execute_result"
    }
   ],
   "source": [
    "recall_score(test[\"Exited\"], test[\"y_pred_1\"])"
   ]
  },
  {
   "cell_type": "markdown",
   "id": "44506ed8",
   "metadata": {},
   "source": [
    "# Precision (точность)"
   ]
  },
  {
   "cell_type": "code",
   "execution_count": 300,
   "id": "05e4124a",
   "metadata": {},
   "outputs": [],
   "source": [
    "precision = tp / (tp + fp)"
   ]
  },
  {
   "cell_type": "code",
   "execution_count": 301,
   "id": "c8196d6d",
   "metadata": {},
   "outputs": [
    {
     "data": {
      "text/plain": [
       "0.7725563909774437"
      ]
     },
     "execution_count": 301,
     "metadata": {},
     "output_type": "execute_result"
    }
   ],
   "source": [
    "precision"
   ]
  },
  {
   "cell_type": "code",
   "execution_count": 302,
   "id": "33bf6111",
   "metadata": {},
   "outputs": [],
   "source": [
    "from sklearn.metrics import precision_score"
   ]
  },
  {
   "cell_type": "code",
   "execution_count": 303,
   "id": "76e29bb2",
   "metadata": {},
   "outputs": [
    {
     "data": {
      "text/plain": [
       "0.7725563909774437"
      ]
     },
     "execution_count": 303,
     "metadata": {},
     "output_type": "execute_result"
    }
   ],
   "source": [
    "precision_score(test[\"Exited\"], test[\"y_pred\"])"
   ]
  },
  {
   "cell_type": "code",
   "execution_count": 304,
   "id": "5fc5b616",
   "metadata": {},
   "outputs": [
    {
     "data": {
      "text/plain": [
       "0.20375"
      ]
     },
     "execution_count": 304,
     "metadata": {},
     "output_type": "execute_result"
    }
   ],
   "source": [
    "precision_score(test[\"Exited\"], test[\"y_pred_1\"])"
   ]
  },
  {
   "cell_type": "markdown",
   "id": "73a52cc8",
   "metadata": {},
   "source": [
    "Пример recall и precision из жизни:\n",
    "\n",
    "100 картинок только, с кошкой - ребенок определил, что это кошка 80 раз \n",
    "recall = 80 / 100 = 0.8 или 80% \n",
    "\n",
    "100 картинок не только с кошками, 50 раз сказал мяу, посмотрели на эти 50 и поняли, что только на на 20 есть кошка\n",
    "\n",
    "precision = 20 / 50 = 0.4 или 40% "
   ]
  },
  {
   "cell_type": "markdown",
   "id": "dfb9ab72",
   "metadata": {},
   "source": [
    "# F1 - общая метрика, объединяющая recall и precision "
   ]
  },
  {
   "cell_type": "code",
   "execution_count": 305,
   "id": "855d3f8c",
   "metadata": {},
   "outputs": [],
   "source": [
    "f1 = (2 * recall * precision) / (recall + precision)"
   ]
  },
  {
   "cell_type": "code",
   "execution_count": 306,
   "id": "519c2f0b",
   "metadata": {},
   "outputs": [
    {
     "data": {
      "text/plain": [
       "0.6102449888641425"
      ]
     },
     "execution_count": 306,
     "metadata": {},
     "output_type": "execute_result"
    }
   ],
   "source": [
    "f1 # частный случай F метрики "
   ]
  },
  {
   "cell_type": "code",
   "execution_count": 307,
   "id": "97cb402b",
   "metadata": {},
   "outputs": [],
   "source": [
    "from sklearn.metrics import f1_score\n"
   ]
  },
  {
   "cell_type": "code",
   "execution_count": 308,
   "id": "c8017aff",
   "metadata": {},
   "outputs": [
    {
     "data": {
      "text/plain": [
       "0.6102449888641425"
      ]
     },
     "execution_count": 308,
     "metadata": {},
     "output_type": "execute_result"
    }
   ],
   "source": [
    "f1_score(test[\"Exited\"], test[\"y_pred\"])"
   ]
  },
  {
   "cell_type": "markdown",
   "id": "60b35e26",
   "metadata": {},
   "source": [
    "# https://en.wikipedia.org/wiki/F-score"
   ]
  },
  {
   "cell_type": "markdown",
   "id": "5560c21b",
   "metadata": {},
   "source": [
    "# Accuracy \n"
   ]
  },
  {
   "cell_type": "code",
   "execution_count": 309,
   "id": "1d67471d",
   "metadata": {},
   "outputs": [],
   "source": [
    "# Процент правильных ответов "
   ]
  },
  {
   "cell_type": "code",
   "execution_count": 310,
   "id": "b0b5735f",
   "metadata": {},
   "outputs": [
    {
     "data": {
      "text/plain": [
       "0.86875"
      ]
     },
     "execution_count": 310,
     "metadata": {},
     "output_type": "execute_result"
    }
   ],
   "source": [
    "(test[\"Exited\"] == test[\"y_pred\"]).mean()"
   ]
  },
  {
   "cell_type": "code",
   "execution_count": 311,
   "id": "cb25d725",
   "metadata": {},
   "outputs": [
    {
     "data": {
      "text/plain": [
       "0.86875"
      ]
     },
     "execution_count": 311,
     "metadata": {},
     "output_type": "execute_result"
    }
   ],
   "source": [
    "(tp + tn) / (tp + tn + fp + fn)"
   ]
  },
  {
   "cell_type": "code",
   "execution_count": 312,
   "id": "e8119975",
   "metadata": {},
   "outputs": [],
   "source": [
    "from sklearn.metrics import accuracy_score"
   ]
  },
  {
   "cell_type": "code",
   "execution_count": 313,
   "id": "061a7102",
   "metadata": {},
   "outputs": [
    {
     "data": {
      "text/plain": [
       "0.86875"
      ]
     },
     "execution_count": 313,
     "metadata": {},
     "output_type": "execute_result"
    }
   ],
   "source": [
    "accuracy_score(test[\"Exited\"], test[\"y_pred\"])"
   ]
  },
  {
   "cell_type": "code",
   "execution_count": 314,
   "id": "43f9edf8",
   "metadata": {},
   "outputs": [],
   "source": [
    "test[\"y_pred_0\"] = 0"
   ]
  },
  {
   "cell_type": "code",
   "execution_count": 315,
   "id": "6edc7e47",
   "metadata": {},
   "outputs": [
    {
     "data": {
      "text/plain": [
       "0.79625"
      ]
     },
     "execution_count": 315,
     "metadata": {},
     "output_type": "execute_result"
    }
   ],
   "source": [
    "accuracy_score(test[\"Exited\"], test[\"y_pred_0\"])"
   ]
  },
  {
   "cell_type": "code",
   "execution_count": 316,
   "id": "528a39b7",
   "metadata": {},
   "outputs": [],
   "source": [
    "# Эту метрику нельзя использовать, когда у нас не сбалансированы классы "
   ]
  },
  {
   "cell_type": "markdown",
   "id": "fccea2da",
   "metadata": {},
   "source": [
    "# Classification report "
   ]
  },
  {
   "cell_type": "code",
   "execution_count": 317,
   "id": "3c743fc1",
   "metadata": {},
   "outputs": [],
   "source": [
    "from sklearn.metrics import classification_report"
   ]
  },
  {
   "cell_type": "code",
   "execution_count": 318,
   "id": "e93103af",
   "metadata": {},
   "outputs": [
    {
     "name": "stdout",
     "output_type": "stream",
     "text": [
      "              precision    recall  f1-score   support\n",
      "\n",
      "           0       0.88      0.96      0.92      3185\n",
      "           1       0.77      0.50      0.61       815\n",
      "\n",
      "    accuracy                           0.87      4000\n",
      "   macro avg       0.83      0.73      0.77      4000\n",
      "weighted avg       0.86      0.87      0.86      4000\n",
      "\n"
     ]
    }
   ],
   "source": [
    "print(classification_report(test[\"Exited\"], test[\"y_pred\"]))"
   ]
  },
  {
   "cell_type": "code",
   "execution_count": 319,
   "id": "075eb58c",
   "metadata": {},
   "outputs": [
    {
     "data": {
      "text/plain": [
       "0.7725563909774437"
      ]
     },
     "execution_count": 319,
     "metadata": {},
     "output_type": "execute_result"
    }
   ],
   "source": [
    "precision"
   ]
  },
  {
   "cell_type": "code",
   "execution_count": 320,
   "id": "828e2b83",
   "metadata": {},
   "outputs": [
    {
     "data": {
      "text/plain": [
       "0.5042944785276073"
      ]
     },
     "execution_count": 320,
     "metadata": {},
     "output_type": "execute_result"
    }
   ],
   "source": [
    "recall"
   ]
  },
  {
   "cell_type": "code",
   "execution_count": 321,
   "id": "9bde5d14",
   "metadata": {},
   "outputs": [
    {
     "data": {
      "text/plain": [
       "0.6102449888641425"
      ]
     },
     "execution_count": 321,
     "metadata": {},
     "output_type": "execute_result"
    }
   ],
   "source": [
    "f1"
   ]
  },
  {
   "cell_type": "markdown",
   "id": "b7918b2d",
   "metadata": {},
   "source": [
    "# Предикт с другим порогом"
   ]
  },
  {
   "cell_type": "code",
   "execution_count": 322,
   "id": "d3cd82db",
   "metadata": {},
   "outputs": [],
   "source": [
    "test[\"y_pred_new\"] = test[\"y_pred\"] = (test[\"score_catboost\"] > 0.4) * 1"
   ]
  },
  {
   "cell_type": "code",
   "execution_count": 323,
   "id": "6a28a538",
   "metadata": {},
   "outputs": [
    {
     "data": {
      "text/plain": [
       "0.6330645161290323"
      ]
     },
     "execution_count": 323,
     "metadata": {},
     "output_type": "execute_result"
    }
   ],
   "source": [
    "f1_score(test[\"Exited\"], test[\"y_pred\"])"
   ]
  },
  {
   "cell_type": "code",
   "execution_count": 324,
   "id": "35034e67",
   "metadata": {},
   "outputs": [
    {
     "data": {
      "text/plain": [
       "0.6330645161290323"
      ]
     },
     "execution_count": 324,
     "metadata": {},
     "output_type": "execute_result"
    }
   ],
   "source": [
    "f1_score(test[\"Exited\"], test[\"y_pred_new\"])"
   ]
  },
  {
   "cell_type": "code",
   "execution_count": 325,
   "id": "6b00ae04",
   "metadata": {},
   "outputs": [],
   "source": [
    "# F1 для всех возможных порогов"
   ]
  },
  {
   "cell_type": "code",
   "execution_count": 326,
   "id": "df95438b",
   "metadata": {},
   "outputs": [
    {
     "data": {
      "text/html": [
       "<div>\n",
       "<style scoped>\n",
       "    .dataframe tbody tr th:only-of-type {\n",
       "        vertical-align: middle;\n",
       "    }\n",
       "\n",
       "    .dataframe tbody tr th {\n",
       "        vertical-align: top;\n",
       "    }\n",
       "\n",
       "    .dataframe thead th {\n",
       "        text-align: right;\n",
       "    }\n",
       "</style>\n",
       "<table border=\"1\" class=\"dataframe\">\n",
       "  <thead>\n",
       "    <tr style=\"text-align: right;\">\n",
       "      <th></th>\n",
       "      <th>RowNumber</th>\n",
       "      <th>CustomerId</th>\n",
       "      <th>Surname</th>\n",
       "      <th>CreditScore</th>\n",
       "      <th>Geography</th>\n",
       "      <th>Gender</th>\n",
       "      <th>Age</th>\n",
       "      <th>Tenure</th>\n",
       "      <th>Balance</th>\n",
       "      <th>NumOfProducts</th>\n",
       "      <th>...</th>\n",
       "      <th>IsActiveMember</th>\n",
       "      <th>EstimatedSalary</th>\n",
       "      <th>Exited</th>\n",
       "      <th>age_group</th>\n",
       "      <th>score_prod_age</th>\n",
       "      <th>score_catboost</th>\n",
       "      <th>y_pred</th>\n",
       "      <th>y_pred_1</th>\n",
       "      <th>y_pred_0</th>\n",
       "      <th>y_pred_new</th>\n",
       "    </tr>\n",
       "  </thead>\n",
       "  <tbody>\n",
       "    <tr>\n",
       "      <th>0</th>\n",
       "      <td>8771</td>\n",
       "      <td>15656901</td>\n",
       "      <td>Nnonso</td>\n",
       "      <td>615</td>\n",
       "      <td>France</td>\n",
       "      <td>Male</td>\n",
       "      <td>59</td>\n",
       "      <td>8</td>\n",
       "      <td>0.00</td>\n",
       "      <td>2</td>\n",
       "      <td>...</td>\n",
       "      <td>1</td>\n",
       "      <td>165576.55</td>\n",
       "      <td>0</td>\n",
       "      <td>(46.0, inf]</td>\n",
       "      <td>0.236364</td>\n",
       "      <td>0.061561</td>\n",
       "      <td>0</td>\n",
       "      <td>1</td>\n",
       "      <td>0</td>\n",
       "      <td>0</td>\n",
       "    </tr>\n",
       "    <tr>\n",
       "      <th>1</th>\n",
       "      <td>3910</td>\n",
       "      <td>15726487</td>\n",
       "      <td>P'eng</td>\n",
       "      <td>431</td>\n",
       "      <td>France</td>\n",
       "      <td>Male</td>\n",
       "      <td>63</td>\n",
       "      <td>6</td>\n",
       "      <td>160982.89</td>\n",
       "      <td>1</td>\n",
       "      <td>...</td>\n",
       "      <td>1</td>\n",
       "      <td>168008.17</td>\n",
       "      <td>0</td>\n",
       "      <td>(46.0, inf]</td>\n",
       "      <td>0.527607</td>\n",
       "      <td>0.188889</td>\n",
       "      <td>0</td>\n",
       "      <td>1</td>\n",
       "      <td>0</td>\n",
       "      <td>0</td>\n",
       "    </tr>\n",
       "    <tr>\n",
       "      <th>2</th>\n",
       "      <td>9123</td>\n",
       "      <td>15748595</td>\n",
       "      <td>Stanton</td>\n",
       "      <td>689</td>\n",
       "      <td>France</td>\n",
       "      <td>Female</td>\n",
       "      <td>29</td>\n",
       "      <td>1</td>\n",
       "      <td>77556.79</td>\n",
       "      <td>2</td>\n",
       "      <td>...</td>\n",
       "      <td>1</td>\n",
       "      <td>122998.26</td>\n",
       "      <td>0</td>\n",
       "      <td>(0.0, 31.0]</td>\n",
       "      <td>0.033289</td>\n",
       "      <td>0.039944</td>\n",
       "      <td>0</td>\n",
       "      <td>1</td>\n",
       "      <td>0</td>\n",
       "      <td>0</td>\n",
       "    </tr>\n",
       "    <tr>\n",
       "      <th>3</th>\n",
       "      <td>924</td>\n",
       "      <td>15601026</td>\n",
       "      <td>Gallagher</td>\n",
       "      <td>572</td>\n",
       "      <td>Germany</td>\n",
       "      <td>Female</td>\n",
       "      <td>19</td>\n",
       "      <td>1</td>\n",
       "      <td>138657.08</td>\n",
       "      <td>1</td>\n",
       "      <td>...</td>\n",
       "      <td>1</td>\n",
       "      <td>16161.82</td>\n",
       "      <td>0</td>\n",
       "      <td>(0.0, 31.0]</td>\n",
       "      <td>0.110764</td>\n",
       "      <td>0.197921</td>\n",
       "      <td>0</td>\n",
       "      <td>1</td>\n",
       "      <td>0</td>\n",
       "      <td>0</td>\n",
       "    </tr>\n",
       "    <tr>\n",
       "      <th>4</th>\n",
       "      <td>6125</td>\n",
       "      <td>15643359</td>\n",
       "      <td>Carter</td>\n",
       "      <td>736</td>\n",
       "      <td>Spain</td>\n",
       "      <td>Male</td>\n",
       "      <td>32</td>\n",
       "      <td>7</td>\n",
       "      <td>0.00</td>\n",
       "      <td>1</td>\n",
       "      <td>...</td>\n",
       "      <td>1</td>\n",
       "      <td>79082.62</td>\n",
       "      <td>0</td>\n",
       "      <td>(31.0, 35.0]</td>\n",
       "      <td>0.140449</td>\n",
       "      <td>0.089839</td>\n",
       "      <td>0</td>\n",
       "      <td>1</td>\n",
       "      <td>0</td>\n",
       "      <td>0</td>\n",
       "    </tr>\n",
       "    <tr>\n",
       "      <th>...</th>\n",
       "      <td>...</td>\n",
       "      <td>...</td>\n",
       "      <td>...</td>\n",
       "      <td>...</td>\n",
       "      <td>...</td>\n",
       "      <td>...</td>\n",
       "      <td>...</td>\n",
       "      <td>...</td>\n",
       "      <td>...</td>\n",
       "      <td>...</td>\n",
       "      <td>...</td>\n",
       "      <td>...</td>\n",
       "      <td>...</td>\n",
       "      <td>...</td>\n",
       "      <td>...</td>\n",
       "      <td>...</td>\n",
       "      <td>...</td>\n",
       "      <td>...</td>\n",
       "      <td>...</td>\n",
       "      <td>...</td>\n",
       "      <td>...</td>\n",
       "    </tr>\n",
       "    <tr>\n",
       "      <th>3995</th>\n",
       "      <td>4621</td>\n",
       "      <td>15798960</td>\n",
       "      <td>Meng</td>\n",
       "      <td>680</td>\n",
       "      <td>France</td>\n",
       "      <td>Male</td>\n",
       "      <td>33</td>\n",
       "      <td>2</td>\n",
       "      <td>108393.35</td>\n",
       "      <td>1</td>\n",
       "      <td>...</td>\n",
       "      <td>1</td>\n",
       "      <td>39057.67</td>\n",
       "      <td>0</td>\n",
       "      <td>(31.0, 35.0]</td>\n",
       "      <td>0.140449</td>\n",
       "      <td>0.038440</td>\n",
       "      <td>0</td>\n",
       "      <td>1</td>\n",
       "      <td>0</td>\n",
       "      <td>0</td>\n",
       "    </tr>\n",
       "    <tr>\n",
       "      <th>3996</th>\n",
       "      <td>363</td>\n",
       "      <td>15706365</td>\n",
       "      <td>Bianchi</td>\n",
       "      <td>648</td>\n",
       "      <td>France</td>\n",
       "      <td>Female</td>\n",
       "      <td>50</td>\n",
       "      <td>9</td>\n",
       "      <td>102535.57</td>\n",
       "      <td>1</td>\n",
       "      <td>...</td>\n",
       "      <td>1</td>\n",
       "      <td>189543.19</td>\n",
       "      <td>0</td>\n",
       "      <td>(46.0, inf]</td>\n",
       "      <td>0.527607</td>\n",
       "      <td>0.356512</td>\n",
       "      <td>0</td>\n",
       "      <td>1</td>\n",
       "      <td>0</td>\n",
       "      <td>0</td>\n",
       "    </tr>\n",
       "    <tr>\n",
       "      <th>3997</th>\n",
       "      <td>6558</td>\n",
       "      <td>15707242</td>\n",
       "      <td>Ibeamaka</td>\n",
       "      <td>504</td>\n",
       "      <td>Spain</td>\n",
       "      <td>Male</td>\n",
       "      <td>40</td>\n",
       "      <td>5</td>\n",
       "      <td>0.00</td>\n",
       "      <td>2</td>\n",
       "      <td>...</td>\n",
       "      <td>0</td>\n",
       "      <td>146703.36</td>\n",
       "      <td>0</td>\n",
       "      <td>(35.0, 40.0]</td>\n",
       "      <td>0.061069</td>\n",
       "      <td>0.048873</td>\n",
       "      <td>0</td>\n",
       "      <td>1</td>\n",
       "      <td>0</td>\n",
       "      <td>0</td>\n",
       "    </tr>\n",
       "    <tr>\n",
       "      <th>3998</th>\n",
       "      <td>5062</td>\n",
       "      <td>15734005</td>\n",
       "      <td>Mazzi</td>\n",
       "      <td>633</td>\n",
       "      <td>France</td>\n",
       "      <td>Female</td>\n",
       "      <td>42</td>\n",
       "      <td>1</td>\n",
       "      <td>0.00</td>\n",
       "      <td>2</td>\n",
       "      <td>...</td>\n",
       "      <td>0</td>\n",
       "      <td>56865.62</td>\n",
       "      <td>0</td>\n",
       "      <td>(40.0, 46.0]</td>\n",
       "      <td>0.108647</td>\n",
       "      <td>0.071422</td>\n",
       "      <td>0</td>\n",
       "      <td>1</td>\n",
       "      <td>0</td>\n",
       "      <td>0</td>\n",
       "    </tr>\n",
       "    <tr>\n",
       "      <th>3999</th>\n",
       "      <td>9419</td>\n",
       "      <td>15643794</td>\n",
       "      <td>Bennett</td>\n",
       "      <td>639</td>\n",
       "      <td>Spain</td>\n",
       "      <td>Female</td>\n",
       "      <td>27</td>\n",
       "      <td>2</td>\n",
       "      <td>0.00</td>\n",
       "      <td>1</td>\n",
       "      <td>...</td>\n",
       "      <td>1</td>\n",
       "      <td>82938.99</td>\n",
       "      <td>0</td>\n",
       "      <td>(0.0, 31.0]</td>\n",
       "      <td>0.110764</td>\n",
       "      <td>0.142927</td>\n",
       "      <td>0</td>\n",
       "      <td>1</td>\n",
       "      <td>0</td>\n",
       "      <td>0</td>\n",
       "    </tr>\n",
       "  </tbody>\n",
       "</table>\n",
       "<p>4000 rows × 21 columns</p>\n",
       "</div>"
      ],
      "text/plain": [
       "      RowNumber  CustomerId    Surname  CreditScore Geography  Gender  Age  \\\n",
       "0          8771    15656901     Nnonso          615    France    Male   59   \n",
       "1          3910    15726487      P'eng          431    France    Male   63   \n",
       "2          9123    15748595    Stanton          689    France  Female   29   \n",
       "3           924    15601026  Gallagher          572   Germany  Female   19   \n",
       "4          6125    15643359     Carter          736     Spain    Male   32   \n",
       "...         ...         ...        ...          ...       ...     ...  ...   \n",
       "3995       4621    15798960       Meng          680    France    Male   33   \n",
       "3996        363    15706365    Bianchi          648    France  Female   50   \n",
       "3997       6558    15707242   Ibeamaka          504     Spain    Male   40   \n",
       "3998       5062    15734005      Mazzi          633    France  Female   42   \n",
       "3999       9419    15643794    Bennett          639     Spain  Female   27   \n",
       "\n",
       "      Tenure    Balance  NumOfProducts  ...  IsActiveMember  EstimatedSalary  \\\n",
       "0          8       0.00              2  ...               1        165576.55   \n",
       "1          6  160982.89              1  ...               1        168008.17   \n",
       "2          1   77556.79              2  ...               1        122998.26   \n",
       "3          1  138657.08              1  ...               1         16161.82   \n",
       "4          7       0.00              1  ...               1         79082.62   \n",
       "...      ...        ...            ...  ...             ...              ...   \n",
       "3995       2  108393.35              1  ...               1         39057.67   \n",
       "3996       9  102535.57              1  ...               1        189543.19   \n",
       "3997       5       0.00              2  ...               0        146703.36   \n",
       "3998       1       0.00              2  ...               0         56865.62   \n",
       "3999       2       0.00              1  ...               1         82938.99   \n",
       "\n",
       "      Exited     age_group score_prod_age  score_catboost  y_pred  y_pred_1  \\\n",
       "0          0   (46.0, inf]       0.236364        0.061561       0         1   \n",
       "1          0   (46.0, inf]       0.527607        0.188889       0         1   \n",
       "2          0   (0.0, 31.0]       0.033289        0.039944       0         1   \n",
       "3          0   (0.0, 31.0]       0.110764        0.197921       0         1   \n",
       "4          0  (31.0, 35.0]       0.140449        0.089839       0         1   \n",
       "...      ...           ...            ...             ...     ...       ...   \n",
       "3995       0  (31.0, 35.0]       0.140449        0.038440       0         1   \n",
       "3996       0   (46.0, inf]       0.527607        0.356512       0         1   \n",
       "3997       0  (35.0, 40.0]       0.061069        0.048873       0         1   \n",
       "3998       0  (40.0, 46.0]       0.108647        0.071422       0         1   \n",
       "3999       0   (0.0, 31.0]       0.110764        0.142927       0         1   \n",
       "\n",
       "      y_pred_0  y_pred_new  \n",
       "0            0           0  \n",
       "1            0           0  \n",
       "2            0           0  \n",
       "3            0           0  \n",
       "4            0           0  \n",
       "...        ...         ...  \n",
       "3995         0           0  \n",
       "3996         0           0  \n",
       "3997         0           0  \n",
       "3998         0           0  \n",
       "3999         0           0  \n",
       "\n",
       "[4000 rows x 21 columns]"
      ]
     },
     "execution_count": 326,
     "metadata": {},
     "output_type": "execute_result"
    }
   ],
   "source": [
    "test"
   ]
  },
  {
   "cell_type": "code",
   "execution_count": 327,
   "id": "c27954d1",
   "metadata": {},
   "outputs": [],
   "source": [
    "# 1. catboost "
   ]
  },
  {
   "cell_type": "code",
   "execution_count": 328,
   "id": "0aa11410",
   "metadata": {},
   "outputs": [
    {
     "data": {
      "text/plain": [
       "4000"
      ]
     },
     "execution_count": 328,
     "metadata": {},
     "output_type": "execute_result"
    }
   ],
   "source": [
    "test[\"score_catboost\"].nunique()"
   ]
  },
  {
   "cell_type": "code",
   "execution_count": 329,
   "id": "d0124e9d",
   "metadata": {},
   "outputs": [
    {
     "ename": "SyntaxError",
     "evalue": "unmatched ')' (3443849058.py, line 1)",
     "output_type": "error",
     "traceback": [
      "\u001b[0;36m  Cell \u001b[0;32mIn[329], line 1\u001b[0;36m\u001b[0m\n\u001b[0;31m    len(test[\"score_catboost\"]))\u001b[0m\n\u001b[0m                               ^\u001b[0m\n\u001b[0;31mSyntaxError\u001b[0m\u001b[0;31m:\u001b[0m unmatched ')'\n"
     ]
    }
   ],
   "source": [
    "len(test[\"score_catboost\"]))"
   ]
  },
  {
   "cell_type": "code",
   "execution_count": null,
   "id": "caa21744",
   "metadata": {},
   "outputs": [],
   "source": [
    "thrs = [0] + list(test[\"score_catboost\"].unique()) # thrash holl "
   ]
  },
  {
   "cell_type": "code",
   "execution_count": null,
   "id": "3c538157",
   "metadata": {},
   "outputs": [],
   "source": [
    "thrs[:10]"
   ]
  },
  {
   "cell_type": "code",
   "execution_count": null,
   "id": "d958cc03",
   "metadata": {},
   "outputs": [],
   "source": [
    "from tqdm.notebook import tqdm "
   ]
  },
  {
   "cell_type": "code",
   "execution_count": null,
   "id": "03c08141",
   "metadata": {},
   "outputs": [],
   "source": [
    "result = []\n",
    "for thr in thrs:\n",
    "    test[\"y_pred_new\"] = (test[\"score_catboost\"] > thr) * 1\n",
    "    result.append((thr, \n",
    "                   f1_score(test[\"Exited\"], test[\"y_pred_new\"])))"
   ]
  },
  {
   "cell_type": "code",
   "execution_count": null,
   "id": "52f77fb3",
   "metadata": {},
   "outputs": [],
   "source": [
    "result[:20]"
   ]
  },
  {
   "cell_type": "code",
   "execution_count": null,
   "id": "1393ec20",
   "metadata": {},
   "outputs": [],
   "source": [
    "pd.Series(result).sort_values(ascending=False)"
   ]
  },
  {
   "cell_type": "code",
   "execution_count": null,
   "id": "00d373cb",
   "metadata": {},
   "outputs": [],
   "source": [
    "t = pd.DataFrame(result, columns=[\"thr\", \"f1\"])"
   ]
  },
  {
   "cell_type": "code",
   "execution_count": null,
   "id": "5595c858",
   "metadata": {},
   "outputs": [],
   "source": [
    "t.sort_values(\"f1\", ascending=False)"
   ]
  },
  {
   "cell_type": "code",
   "execution_count": null,
   "id": "7439e34c",
   "metadata": {},
   "outputs": [],
   "source": [
    "t[t[\"f1\"] == t['f1'].max()]"
   ]
  },
  {
   "cell_type": "code",
   "execution_count": null,
   "id": "f0793e60",
   "metadata": {},
   "outputs": [],
   "source": [
    "# 2. score_prod_age"
   ]
  },
  {
   "cell_type": "code",
   "execution_count": null,
   "id": "2dd64baf",
   "metadata": {},
   "outputs": [],
   "source": [
    "thrs = [0] + list(test[\"score_prod_age\"].unique()) # thrash holl \n"
   ]
  },
  {
   "cell_type": "code",
   "execution_count": null,
   "id": "22365e1b",
   "metadata": {},
   "outputs": [],
   "source": [
    "result = []\n",
    "for thr in thrs:\n",
    "    test[\"y_pred_new\"] = (test[\"score_prod_age\"] > thr) * 1\n",
    "    result.append((thr, \n",
    "                   f1_score(test[\"Exited\"], test[\"y_pred_new\"])))"
   ]
  },
  {
   "cell_type": "code",
   "execution_count": null,
   "id": "d5b6bf65",
   "metadata": {},
   "outputs": [],
   "source": [
    "pd.Series(result).sort_values(ascending=False)"
   ]
  },
  {
   "cell_type": "code",
   "execution_count": null,
   "id": "6d3d80d6",
   "metadata": {},
   "outputs": [],
   "source": [
    "t = pd.DataFrame(result, columns=[\"thr\", \"f1\"])"
   ]
  },
  {
   "cell_type": "markdown",
   "id": "f7b74494",
   "metadata": {},
   "source": [
    "t.sort_values(\"f1\", ascending=False)"
   ]
  },
  {
   "cell_type": "code",
   "execution_count": null,
   "id": "f3f9a40c",
   "metadata": {},
   "outputs": [],
   "source": [
    "t[t[\"f1\"] == t['f1'].max()]"
   ]
  },
  {
   "cell_type": "code",
   "execution_count": null,
   "id": "068975b4",
   "metadata": {},
   "outputs": [],
   "source": [
    "# Ручная модель проигрывает catboost по f1 метрики "
   ]
  },
  {
   "cell_type": "markdown",
   "id": "76d98dc0",
   "metadata": {},
   "source": [
    "# Roc"
   ]
  },
  {
   "cell_type": "code",
   "execution_count": null,
   "id": "a210e25a",
   "metadata": {},
   "outputs": [],
   "source": [
    "from sklearn.metrics import roc_curve"
   ]
  },
  {
   "cell_type": "code",
   "execution_count": null,
   "id": "787774dc",
   "metadata": {},
   "outputs": [],
   "source": [
    "fprs, tprs,thrs = roc_curve(test[\"Exited\"], test[\"score_catboost\"])"
   ]
  },
  {
   "cell_type": "code",
   "execution_count": null,
   "id": "22f5ec4b",
   "metadata": {},
   "outputs": [],
   "source": [
    "roc = pd.DataFrame({\"fprs\":fprs, \"tprs\":tprs, \"thrs\":thrs})"
   ]
  },
  {
   "cell_type": "code",
   "execution_count": null,
   "id": "f7583362",
   "metadata": {},
   "outputs": [],
   "source": [
    "roc"
   ]
  },
  {
   "cell_type": "code",
   "execution_count": null,
   "id": "a22ce479",
   "metadata": {},
   "outputs": [],
   "source": [
    "roc.set_index(\"fprs\")[\"tprs\"].plot(figsize=(6,6))"
   ]
  },
  {
   "cell_type": "code",
   "execution_count": null,
   "id": "17d01cf8",
   "metadata": {},
   "outputs": [],
   "source": [
    "roc.plot(x=\"fprs\", y=\"tprs\", figsize=(6,6), grid=True)"
   ]
  },
  {
   "cell_type": "code",
   "execution_count": null,
   "id": "8131afc5",
   "metadata": {},
   "outputs": [],
   "source": [
    "roc[\"random\"] = roc[\"fprs\"]"
   ]
  },
  {
   "cell_type": "code",
   "execution_count": null,
   "id": "ff3e3cfc",
   "metadata": {},
   "outputs": [],
   "source": [
    "roc.plot(x=\"fprs\", y=[\"tprs\",\"random\"], figsize=(6,6), grid=True)"
   ]
  },
  {
   "cell_type": "code",
   "execution_count": null,
   "id": "566aad7b",
   "metadata": {},
   "outputs": [],
   "source": [
    "roc[\"ideal\"] = 1"
   ]
  },
  {
   "cell_type": "code",
   "execution_count": null,
   "id": "2dae4636",
   "metadata": {},
   "outputs": [],
   "source": [
    "roc.plot(x=\"fprs\", y=[\"tprs\",\"random\", \"ideal\"], figsize=(6,6), grid=True)"
   ]
  },
  {
   "cell_type": "markdown",
   "id": "7a4f6977",
   "metadata": {},
   "source": [
    "# https://stackoverflow.com/questions/25009284/how-to-plot-roc-curve-in-python"
   ]
  },
  {
   "cell_type": "code",
   "execution_count": null,
   "id": "98647e0a",
   "metadata": {},
   "outputs": [],
   "source": [
    "import sklearn.metrics as metrics\n",
    "# calculate the fpr and tpr for all thresholds of the classification\n",
    "probs = model.predict_proba(test[X])\n",
    "preds = probs[:,1]\n",
    "fpr, tpr, threshold = metrics.roc_curve(test[\"Exited\"], test[\"score_catboost\"])\n",
    "roc_auc = metrics.auc(fpr, tpr)\n",
    "\n",
    "# method I: plt\n",
    "import matplotlib.pyplot as plt\n",
    "plt.title('Receiver Operating Characteristic')\n",
    "plt.plot(fpr, tpr, 'b', label = 'AUC = %0.2f' % roc_auc)\n",
    "plt.legend(loc = 'lower right')\n",
    "plt.plot([0, 1], [0, 1],'r--')\n",
    "plt.xlim([0, 1])\n",
    "plt.ylim([0, 1])\n",
    "plt.ylabel('True Positive Rate')\n",
    "plt.xlabel('False Positive Rate')\n",
    "plt.show()\n",
    "\n",
    "# method II: ggplot\n",
    "from ggplot import *\n",
    "df = pd.DataFrame(dict(fpr = fpr, tpr = tpr))\n",
    "ggplot(df, aes(x = 'fpr', y = 'tpr')) + geom_line() + geom_abline(linetype = 'dashed')"
   ]
  },
  {
   "cell_type": "code",
   "execution_count": null,
   "id": "e52f596d",
   "metadata": {},
   "outputs": [],
   "source": [
    "from catboost.utils import get_roc_curve"
   ]
  },
  {
   "cell_type": "code",
   "execution_count": null,
   "id": "702cea08",
   "metadata": {},
   "outputs": [],
   "source": [
    "test_data = Pool(data=test[X],\n",
    "                 label=test[y],\n",
    "                 cat_features=cat_features)"
   ]
  },
  {
   "cell_type": "code",
   "execution_count": null,
   "id": "e61a6b9c",
   "metadata": {},
   "outputs": [],
   "source": [
    "get_roc_curve(model, test_data, plot=True)"
   ]
  },
  {
   "cell_type": "markdown",
   "id": "9d76dbe3",
   "metadata": {},
   "source": [
    "# Aug (площадь под кривой) "
   ]
  },
  {
   "cell_type": "code",
   "execution_count": null,
   "id": "cd68ba4a",
   "metadata": {},
   "outputs": [],
   "source": [
    "from sklearn.metrics import roc_auc_score"
   ]
  },
  {
   "cell_type": "code",
   "execution_count": null,
   "id": "2f117a4c",
   "metadata": {},
   "outputs": [],
   "source": [
    "roc_auc_score(test[\"Exited\"], test[\"score_catboost\"])"
   ]
  },
  {
   "cell_type": "markdown",
   "id": "a5704453",
   "metadata": {},
   "source": [
    "Поменяем в нашей модели, чтобы мы считали не log_los стандартный, а ROC"
   ]
  },
  {
   "cell_type": "code",
   "execution_count": null,
   "id": "03862213",
   "metadata": {},
   "outputs": [],
   "source": [
    "params = {\"verbose\": 100, \n",
    "          \"random_seed\": 42,\n",
    "         \"learning_rate\": 0.01, \n",
    "         \"eval_metric\":\"AUC\"}"
   ]
  },
  {
   "cell_type": "code",
   "execution_count": null,
   "id": "8cbe1e6e",
   "metadata": {},
   "outputs": [],
   "source": [
    "model = CatBoostClassifier(**params)"
   ]
  },
  {
   "cell_type": "code",
   "execution_count": null,
   "id": "5691d9aa",
   "metadata": {},
   "outputs": [],
   "source": [
    "model.fit(train_data, eval_set=valid_data)"
   ]
  },
  {
   "cell_type": "code",
   "execution_count": null,
   "id": "f2e8c740",
   "metadata": {},
   "outputs": [],
   "source": [
    "# ROC Auc самая популярная метрика для оценки моделей"
   ]
  },
  {
   "cell_type": "code",
   "execution_count": null,
   "id": "22e7516e",
   "metadata": {},
   "outputs": [],
   "source": [
    "# Удобная метрика, чтобы анализировать ROC кривые "
   ]
  },
  {
   "cell_type": "markdown",
   "id": "96609951",
   "metadata": {},
   "source": [
    "https://ru.wikipedia.org/wiki/ROC-%D0%BA%D1%80%D0%B8%D0%B2%D0%B0%D1%8F"
   ]
  },
  {
   "cell_type": "markdown",
   "id": "c398e662",
   "metadata": {},
   "source": [
    "# Roc Auc при сильном несбалансированных классах "
   ]
  },
  {
   "cell_type": "code",
   "execution_count": null,
   "id": "8533c6d2",
   "metadata": {},
   "outputs": [],
   "source": [
    "t = pd.DataFrame({\"y_true\":[0] * 990 + [1] * 10})"
   ]
  },
  {
   "cell_type": "code",
   "execution_count": null,
   "id": "549152b8",
   "metadata": {},
   "outputs": [],
   "source": [
    "t[\"y_true\"].mean()"
   ]
  },
  {
   "cell_type": "code",
   "execution_count": null,
   "id": "45528e20",
   "metadata": {},
   "outputs": [],
   "source": [
    "import numpy as np"
   ]
  },
  {
   "cell_type": "code",
   "execution_count": null,
   "id": "97799867",
   "metadata": {},
   "outputs": [],
   "source": [
    "np.random.uniform(0, 0.2) # 0 "
   ]
  },
  {
   "cell_type": "code",
   "execution_count": null,
   "id": "5fb0ca2a",
   "metadata": {},
   "outputs": [],
   "source": [
    "np.random.uniform(0.8, 1) # 1 "
   ]
  },
  {
   "cell_type": "code",
   "execution_count": null,
   "id": "1cbad96c",
   "metadata": {},
   "outputs": [],
   "source": [
    "np.concatenate([np.random.uniform(0, 0.2, size = 2 ), np.random.uniform(0.8, 1, size = 3)])"
   ]
  },
  {
   "cell_type": "code",
   "execution_count": null,
   "id": "10ac4411",
   "metadata": {},
   "outputs": [],
   "source": [
    "t = pd.DataFrame({\"y_true\":[0] * 990 + [1] * 10})"
   ]
  },
  {
   "cell_type": "code",
   "execution_count": null,
   "id": "f6f3b589",
   "metadata": {},
   "outputs": [],
   "source": [
    "np.random.seed(42)\n",
    "t[\"y_score1\"] = np.concatenate([np.random.uniform(0, 0.2, size = 970), \n",
    "                                np.random.uniform(0.8, 1, size = 20),\n",
    "                                np.random.uniform(0, 0.2, size = 5), \n",
    "                                np.random.uniform(0.8, 1, size = 5)])"
   ]
  },
  {
   "cell_type": "code",
   "execution_count": null,
   "id": "831a26ca",
   "metadata": {},
   "outputs": [],
   "source": [
    "t"
   ]
  },
  {
   "cell_type": "code",
   "execution_count": null,
   "id": "4af5e3f3",
   "metadata": {},
   "outputs": [],
   "source": [
    "roc_auc_score(t[\"y_true\"], t[\"y_score1\"])"
   ]
  },
  {
   "cell_type": "code",
   "execution_count": null,
   "id": "9869b404",
   "metadata": {},
   "outputs": [],
   "source": [
    "np.random.seed(42)\n",
    "t[\"y_score2\"] = np.concatenate([np.random.uniform(0, 0.2, size = 930), \n",
    "                                np.random.uniform(0.8, 1, size = 60),\n",
    "                                np.random.uniform(0, 0.2, size = 5), \n",
    "                                np.random.uniform(0.8, 1, size = 5)])"
   ]
  },
  {
   "cell_type": "code",
   "execution_count": null,
   "id": "2d910721",
   "metadata": {},
   "outputs": [],
   "source": [
    "roc_auc_score(t[\"y_true\"], t[\"y_score2\"])"
   ]
  },
  {
   "cell_type": "markdown",
   "id": "2df83acb",
   "metadata": {},
   "source": [
    "# Precision recall curve"
   ]
  },
  {
   "cell_type": "markdown",
   "id": "286c3fbf",
   "metadata": {},
   "source": [
    "https://machinelearningmastery.com/roc-curves-and-precision-recall-curves-for-classification-in-python/"
   ]
  },
  {
   "cell_type": "markdown",
   "id": "3e178603",
   "metadata": {},
   "source": [
    "# Дисбанс классов не проблема "
   ]
  },
  {
   "cell_type": "code",
   "execution_count": null,
   "id": "f79ff9d9",
   "metadata": {},
   "outputs": [],
   "source": [
    "test[\"Exited\"].mean()"
   ]
  },
  {
   "cell_type": "code",
   "execution_count": null,
   "id": "b2ad4572",
   "metadata": {},
   "outputs": [],
   "source": [
    "params = {\"verbose\": 100, \n",
    "          \"random_seed\": 42,\n",
    "          \"auto_class_weights\":\"Balanced\",\n",
    "          \"eval_metric\":\"AUC\", \n",
    "         \"learning_rate\": 0.01}"
   ]
  },
  {
   "cell_type": "code",
   "execution_count": null,
   "id": "90ecfdf1",
   "metadata": {},
   "outputs": [],
   "source": [
    "model = CatBoostClassifier(**params)"
   ]
  },
  {
   "cell_type": "code",
   "execution_count": null,
   "id": "28b17958",
   "metadata": {},
   "outputs": [],
   "source": [
    "model.fit(train_data, eval_set=valid_data)"
   ]
  },
  {
   "cell_type": "code",
   "execution_count": 330,
   "id": "24e0b9ab",
   "metadata": {},
   "outputs": [
    {
     "data": {
      "text/plain": [
       "<Axes: >"
      ]
     },
     "execution_count": 330,
     "metadata": {},
     "output_type": "execute_result"
    },
    {
     "data": {
      "image/png": "[encoded data removed]",
      "text/plain": [
       "<Figure size 640x480 with 1 Axes>"
      ]
     },
     "metadata": {},
     "output_type": "display_data"
    }
   ],
   "source": [
    "test[\"score_catboost\"].hist()"
   ]
  },
  {
   "cell_type": "code",
   "execution_count": 331,
   "id": "c3cb4ee2",
   "metadata": {},
   "outputs": [
    {
     "data": {
      "text/plain": [
       "<Axes: >"
      ]
     },
     "execution_count": 331,
     "metadata": {},
     "output_type": "execute_result"
    },
    {
     "data": {
      "image/png": "[encoded data removed]",
      "text/plain": [
       "<Figure size 640x480 with 1 Axes>"
      ]
     },
     "metadata": {},
     "output_type": "display_data"
    }
   ],
   "source": [
    "pd.Series(model.predict_log_proba(test[X])[:,1]).hist()"
   ]
  },
  {
   "cell_type": "code",
   "execution_count": 332,
   "id": "698a59b8",
   "metadata": {},
   "outputs": [],
   "source": [
    "test[\"score_cat_non_balanced_bins\"] = pd.cut(test[\"score_catboost\"], 10)"
   ]
  },
  {
   "cell_type": "code",
   "execution_count": 333,
   "id": "d972ed06",
   "metadata": {},
   "outputs": [
    {
     "data": {
      "text/html": [
       "<div>\n",
       "<style scoped>\n",
       "    .dataframe tbody tr th:only-of-type {\n",
       "        vertical-align: middle;\n",
       "    }\n",
       "\n",
       "    .dataframe tbody tr th {\n",
       "        vertical-align: top;\n",
       "    }\n",
       "\n",
       "    .dataframe thead th {\n",
       "        text-align: right;\n",
       "    }\n",
       "</style>\n",
       "<table border=\"1\" class=\"dataframe\">\n",
       "  <thead>\n",
       "    <tr style=\"text-align: right;\">\n",
       "      <th></th>\n",
       "      <th>count</th>\n",
       "      <th>mean</th>\n",
       "    </tr>\n",
       "    <tr>\n",
       "      <th>score_cat_non_balanced_bins</th>\n",
       "      <th></th>\n",
       "      <th></th>\n",
       "    </tr>\n",
       "  </thead>\n",
       "  <tbody>\n",
       "    <tr>\n",
       "      <th>(0.00474, 0.105]</th>\n",
       "      <td>1977</td>\n",
       "      <td>0.039960</td>\n",
       "    </tr>\n",
       "    <tr>\n",
       "      <th>(0.105, 0.204]</th>\n",
       "      <td>720</td>\n",
       "      <td>0.127778</td>\n",
       "    </tr>\n",
       "    <tr>\n",
       "      <th>(0.204, 0.303]</th>\n",
       "      <td>395</td>\n",
       "      <td>0.222785</td>\n",
       "    </tr>\n",
       "    <tr>\n",
       "      <th>(0.303, 0.402]</th>\n",
       "      <td>240</td>\n",
       "      <td>0.358333</td>\n",
       "    </tr>\n",
       "    <tr>\n",
       "      <th>(0.402, 0.501]</th>\n",
       "      <td>140</td>\n",
       "      <td>0.428571</td>\n",
       "    </tr>\n",
       "    <tr>\n",
       "      <th>(0.501, 0.6]</th>\n",
       "      <td>115</td>\n",
       "      <td>0.556522</td>\n",
       "    </tr>\n",
       "    <tr>\n",
       "      <th>(0.6, 0.699]</th>\n",
       "      <td>110</td>\n",
       "      <td>0.636364</td>\n",
       "    </tr>\n",
       "    <tr>\n",
       "      <th>(0.699, 0.799]</th>\n",
       "      <td>96</td>\n",
       "      <td>0.854167</td>\n",
       "    </tr>\n",
       "    <tr>\n",
       "      <th>(0.799, 0.898]</th>\n",
       "      <td>94</td>\n",
       "      <td>0.893617</td>\n",
       "    </tr>\n",
       "    <tr>\n",
       "      <th>(0.898, 0.997]</th>\n",
       "      <td>113</td>\n",
       "      <td>0.973451</td>\n",
       "    </tr>\n",
       "  </tbody>\n",
       "</table>\n",
       "</div>"
      ],
      "text/plain": [
       "                             count      mean\n",
       "score_cat_non_balanced_bins                 \n",
       "(0.00474, 0.105]              1977  0.039960\n",
       "(0.105, 0.204]                 720  0.127778\n",
       "(0.204, 0.303]                 395  0.222785\n",
       "(0.303, 0.402]                 240  0.358333\n",
       "(0.402, 0.501]                 140  0.428571\n",
       "(0.501, 0.6]                   115  0.556522\n",
       "(0.6, 0.699]                   110  0.636364\n",
       "(0.699, 0.799]                  96  0.854167\n",
       "(0.799, 0.898]                  94  0.893617\n",
       "(0.898, 0.997]                 113  0.973451"
      ]
     },
     "execution_count": 333,
     "metadata": {},
     "output_type": "execute_result"
    }
   ],
   "source": [
    "test.groupby(\"score_cat_non_balanced_bins\")[\"Exited\"].agg([\"count\", \"mean\"])"
   ]
  },
  {
   "cell_type": "code",
   "execution_count": 334,
   "id": "64301c31",
   "metadata": {},
   "outputs": [],
   "source": [
    "test[\"score_catboost_balanced\"] = model.predict_log_proba(test[X])[:,1]"
   ]
  },
  {
   "cell_type": "code",
   "execution_count": 337,
   "id": "c43c3236",
   "metadata": {},
   "outputs": [],
   "source": [
    "test[\"score_cat_balanced_bins\"] = pd.cut(test[\"score_catboost\"], 10)"
   ]
  },
  {
   "cell_type": "code",
   "execution_count": 339,
   "id": "81d07a46",
   "metadata": {},
   "outputs": [
    {
     "data": {
      "text/html": [
       "<div>\n",
       "<style scoped>\n",
       "    .dataframe tbody tr th:only-of-type {\n",
       "        vertical-align: middle;\n",
       "    }\n",
       "\n",
       "    .dataframe tbody tr th {\n",
       "        vertical-align: top;\n",
       "    }\n",
       "\n",
       "    .dataframe thead th {\n",
       "        text-align: right;\n",
       "    }\n",
       "</style>\n",
       "<table border=\"1\" class=\"dataframe\">\n",
       "  <thead>\n",
       "    <tr style=\"text-align: right;\">\n",
       "      <th></th>\n",
       "      <th>count</th>\n",
       "      <th>mean</th>\n",
       "    </tr>\n",
       "    <tr>\n",
       "      <th>score_cat_balanced_bins</th>\n",
       "      <th></th>\n",
       "      <th></th>\n",
       "    </tr>\n",
       "  </thead>\n",
       "  <tbody>\n",
       "    <tr>\n",
       "      <th>(0.00474, 0.105]</th>\n",
       "      <td>1977</td>\n",
       "      <td>0.039960</td>\n",
       "    </tr>\n",
       "    <tr>\n",
       "      <th>(0.105, 0.204]</th>\n",
       "      <td>720</td>\n",
       "      <td>0.127778</td>\n",
       "    </tr>\n",
       "    <tr>\n",
       "      <th>(0.204, 0.303]</th>\n",
       "      <td>395</td>\n",
       "      <td>0.222785</td>\n",
       "    </tr>\n",
       "    <tr>\n",
       "      <th>(0.303, 0.402]</th>\n",
       "      <td>240</td>\n",
       "      <td>0.358333</td>\n",
       "    </tr>\n",
       "    <tr>\n",
       "      <th>(0.402, 0.501]</th>\n",
       "      <td>140</td>\n",
       "      <td>0.428571</td>\n",
       "    </tr>\n",
       "    <tr>\n",
       "      <th>(0.501, 0.6]</th>\n",
       "      <td>115</td>\n",
       "      <td>0.556522</td>\n",
       "    </tr>\n",
       "    <tr>\n",
       "      <th>(0.6, 0.699]</th>\n",
       "      <td>110</td>\n",
       "      <td>0.636364</td>\n",
       "    </tr>\n",
       "    <tr>\n",
       "      <th>(0.699, 0.799]</th>\n",
       "      <td>96</td>\n",
       "      <td>0.854167</td>\n",
       "    </tr>\n",
       "    <tr>\n",
       "      <th>(0.799, 0.898]</th>\n",
       "      <td>94</td>\n",
       "      <td>0.893617</td>\n",
       "    </tr>\n",
       "    <tr>\n",
       "      <th>(0.898, 0.997]</th>\n",
       "      <td>113</td>\n",
       "      <td>0.973451</td>\n",
       "    </tr>\n",
       "  </tbody>\n",
       "</table>\n",
       "</div>"
      ],
      "text/plain": [
       "                         count      mean\n",
       "score_cat_balanced_bins                 \n",
       "(0.00474, 0.105]          1977  0.039960\n",
       "(0.105, 0.204]             720  0.127778\n",
       "(0.204, 0.303]             395  0.222785\n",
       "(0.303, 0.402]             240  0.358333\n",
       "(0.402, 0.501]             140  0.428571\n",
       "(0.501, 0.6]               115  0.556522\n",
       "(0.6, 0.699]               110  0.636364\n",
       "(0.699, 0.799]              96  0.854167\n",
       "(0.799, 0.898]              94  0.893617\n",
       "(0.898, 0.997]             113  0.973451"
      ]
     },
     "execution_count": 339,
     "metadata": {},
     "output_type": "execute_result"
    }
   ],
   "source": [
    "test.groupby(\"score_cat_balanced_bins\")[\"Exited\"].agg([\"count\", \"mean\"])"
   ]
  },
  {
   "cell_type": "markdown",
   "id": "e7e3e13a",
   "metadata": {},
   "source": [
    "# Мультикласс"
   ]
  },
  {
   "cell_type": "markdown",
   "id": "df502266",
   "metadata": {},
   "source": [
    "https://scikit-learn.org/stable/modules/multiclass.html"
   ]
  },
  {
   "cell_type": "markdown",
   "id": "bc46e4ea",
   "metadata": {},
   "source": [
    "https://www.kaggle.com/code/nkitgupta/evaluation-metrics-for-multi-class-classification"
   ]
  },
  {
   "cell_type": "code",
   "execution_count": null,
   "id": "bb57f508",
   "metadata": {},
   "outputs": [],
   "source": []
  }
 ],
 "metadata": {
  "kernelspec": {
   "display_name": "Python 3 (ipykernel)",
   "language": "python",
   "name": "python3"
  },
  "language_info": {
   "codemirror_mode": {
    "name": "ipython",
    "version": 3
   },
   "file_extension": ".py",
   "mimetype": "text/x-python",
   "name": "python",
   "nbconvert_exporter": "python",
   "pygments_lexer": "ipython3",
   "version": "3.10.9"
  }
 },
 "nbformat": 4,
 "nbformat_minor": 5
}
