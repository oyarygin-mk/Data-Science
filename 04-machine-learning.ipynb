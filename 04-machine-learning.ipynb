{
 "cells": [
  {
   "cell_type": "markdown",
   "id": "2957f3cb",
   "metadata": {},
   "source": [
    "# Catboost "
   ]
  },
  {
   "cell_type": "markdown",
   "id": "6eaa78a4",
   "metadata": {},
   "source": [
    "Data Set link: \n",
    "https://drive.google.com/file/d/10BGVH8RujGWPVHLseFrYGUW3cjOav__m/view?usp=drive_link"
   ]
  },
  {
   "cell_type": "markdown",
   "id": "8c372831",
   "metadata": {},
   "source": [
    "link https://catboost.ai/"
   ]
  },
  {
   "cell_type": "code",
   "execution_count": 3,
   "id": "31cf9198",
   "metadata": {},
   "outputs": [],
   "source": [
    "import pandas as pd\n",
    "import numpy as np"
   ]
  },
  {
   "cell_type": "code",
   "execution_count": 24,
   "id": "f501e501",
   "metadata": {},
   "outputs": [],
   "source": [
    "df = pd.read_csv(\"/Users/olegyarygin/Pandas/Data/uk-used-car/bmw.csv\")"
   ]
  },
  {
   "cell_type": "code",
   "execution_count": 172,
   "id": "62156b34",
   "metadata": {},
   "outputs": [
    {
     "data": {
      "text/html": [
       "<div>\n",
       "<style scoped>\n",
       "    .dataframe tbody tr th:only-of-type {\n",
       "        vertical-align: middle;\n",
       "    }\n",
       "\n",
       "    .dataframe tbody tr th {\n",
       "        vertical-align: top;\n",
       "    }\n",
       "\n",
       "    .dataframe thead th {\n",
       "        text-align: right;\n",
       "    }\n",
       "</style>\n",
       "<table border=\"1\" class=\"dataframe\">\n",
       "  <thead>\n",
       "    <tr style=\"text-align: right;\">\n",
       "      <th></th>\n",
       "      <th>model</th>\n",
       "      <th>year</th>\n",
       "      <th>price</th>\n",
       "      <th>transmission</th>\n",
       "      <th>mileage</th>\n",
       "      <th>fuelType</th>\n",
       "      <th>tax</th>\n",
       "      <th>mpg</th>\n",
       "      <th>engineSize</th>\n",
       "    </tr>\n",
       "  </thead>\n",
       "  <tbody>\n",
       "    <tr>\n",
       "      <th>0</th>\n",
       "      <td>5 Series</td>\n",
       "      <td>2014</td>\n",
       "      <td>11200</td>\n",
       "      <td>Automatic</td>\n",
       "      <td>67068</td>\n",
       "      <td>Diesel</td>\n",
       "      <td>125</td>\n",
       "      <td>57.6</td>\n",
       "      <td>2.0</td>\n",
       "    </tr>\n",
       "    <tr>\n",
       "      <th>1</th>\n",
       "      <td>6 Series</td>\n",
       "      <td>2018</td>\n",
       "      <td>27000</td>\n",
       "      <td>Automatic</td>\n",
       "      <td>14827</td>\n",
       "      <td>Petrol</td>\n",
       "      <td>145</td>\n",
       "      <td>42.8</td>\n",
       "      <td>2.0</td>\n",
       "    </tr>\n",
       "    <tr>\n",
       "      <th>2</th>\n",
       "      <td>5 Series</td>\n",
       "      <td>2016</td>\n",
       "      <td>16000</td>\n",
       "      <td>Automatic</td>\n",
       "      <td>62794</td>\n",
       "      <td>Diesel</td>\n",
       "      <td>160</td>\n",
       "      <td>51.4</td>\n",
       "      <td>3.0</td>\n",
       "    </tr>\n",
       "    <tr>\n",
       "      <th>3</th>\n",
       "      <td>1 Series</td>\n",
       "      <td>2017</td>\n",
       "      <td>12750</td>\n",
       "      <td>Automatic</td>\n",
       "      <td>26676</td>\n",
       "      <td>Diesel</td>\n",
       "      <td>145</td>\n",
       "      <td>72.4</td>\n",
       "      <td>1.5</td>\n",
       "    </tr>\n",
       "    <tr>\n",
       "      <th>4</th>\n",
       "      <td>7 Series</td>\n",
       "      <td>2014</td>\n",
       "      <td>14500</td>\n",
       "      <td>Automatic</td>\n",
       "      <td>39554</td>\n",
       "      <td>Diesel</td>\n",
       "      <td>160</td>\n",
       "      <td>50.4</td>\n",
       "      <td>3.0</td>\n",
       "    </tr>\n",
       "  </tbody>\n",
       "</table>\n",
       "</div>"
      ],
      "text/plain": [
       "       model  year  price transmission  mileage fuelType  tax   mpg  \\\n",
       "0   5 Series  2014  11200    Automatic    67068   Diesel  125  57.6   \n",
       "1   6 Series  2018  27000    Automatic    14827   Petrol  145  42.8   \n",
       "2   5 Series  2016  16000    Automatic    62794   Diesel  160  51.4   \n",
       "3   1 Series  2017  12750    Automatic    26676   Diesel  145  72.4   \n",
       "4   7 Series  2014  14500    Automatic    39554   Diesel  160  50.4   \n",
       "\n",
       "   engineSize  \n",
       "0         2.0  \n",
       "1         2.0  \n",
       "2         3.0  \n",
       "3         1.5  \n",
       "4         3.0  "
      ]
     },
     "execution_count": 172,
     "metadata": {},
     "output_type": "execute_result"
    }
   ],
   "source": [
    "df.head()"
   ]
  },
  {
   "cell_type": "markdown",
   "id": "9883fcd8",
   "metadata": {},
   "source": [
    "# Обучающая и тестовая выборка (train and test)"
   ]
  },
  {
   "cell_type": "code",
   "execution_count": 25,
   "id": "ccb4d8ef",
   "metadata": {},
   "outputs": [],
   "source": [
    "from sklearn.model_selection import train_test_split"
   ]
  },
  {
   "cell_type": "code",
   "execution_count": 26,
   "id": "e35423f3",
   "metadata": {},
   "outputs": [],
   "source": [
    "train, test = train_test_split(df, random_state=42, train_size = 0.6) # random_state чтобы эксперимент навсегда сохранился"
   ]
  },
  {
   "cell_type": "markdown",
   "id": "fb8f0318",
   "metadata": {},
   "source": [
    "# Валидационная выборка "
   ]
  },
  {
   "cell_type": "code",
   "execution_count": 27,
   "id": "3953d81a",
   "metadata": {},
   "outputs": [],
   "source": [
    "val, test = train_test_split(test, random_state=42, train_size = 0.5) # random_state чтобы эксперимент навсегда сохранился"
   ]
  },
  {
   "cell_type": "code",
   "execution_count": 28,
   "id": "2c025f77",
   "metadata": {},
   "outputs": [
    {
     "data": {
      "text/plain": [
       "0.20007420461923756"
      ]
     },
     "execution_count": 28,
     "metadata": {},
     "output_type": "execute_result"
    }
   ],
   "source": [
    "len(test) / len(df) # train 60% val 20% test 20%"
   ]
  },
  {
   "cell_type": "markdown",
   "id": "4243a0d1",
   "metadata": {},
   "source": [
    "# Список фичей "
   ]
  },
  {
   "cell_type": "code",
   "execution_count": null,
   "id": "caaf6dcc",
   "metadata": {},
   "outputs": [],
   "source": [
    "# признаки на которых будем обучать catboost"
   ]
  },
  {
   "cell_type": "code",
   "execution_count": 29,
   "id": "7e4491f2",
   "metadata": {},
   "outputs": [
    {
     "data": {
      "text/plain": [
       "Index(['model', 'year', 'price', 'transmission', 'mileage', 'fuelType', 'tax',\n",
       "       'mpg', 'engineSize'],\n",
       "      dtype='object')"
      ]
     },
     "execution_count": 29,
     "metadata": {},
     "output_type": "execute_result"
    }
   ],
   "source": [
    "train.columns"
   ]
  },
  {
   "cell_type": "code",
   "execution_count": 30,
   "id": "bfd01930",
   "metadata": {},
   "outputs": [],
   "source": [
    "x = ['model', 'year', 'transmission', 'mileage', 'fuelType', 'tax','mpg', 'engineSize'] \n",
    "# Фичи на которых мы обучаемся \n",
    "\n",
    "cat_features = [\"model\", \"transmission\", \"fuelType\"] # Список категориальных фичей \n",
    "\n",
    "y = ['price'] # target\n"
   ]
  },
  {
   "cell_type": "code",
   "execution_count": 31,
   "id": "fa264aa0",
   "metadata": {},
   "outputs": [
    {
     "data": {
      "text/html": [
       "<div>\n",
       "<style scoped>\n",
       "    .dataframe tbody tr th:only-of-type {\n",
       "        vertical-align: middle;\n",
       "    }\n",
       "\n",
       "    .dataframe tbody tr th {\n",
       "        vertical-align: top;\n",
       "    }\n",
       "\n",
       "    .dataframe thead th {\n",
       "        text-align: right;\n",
       "    }\n",
       "</style>\n",
       "<table border=\"1\" class=\"dataframe\">\n",
       "  <thead>\n",
       "    <tr style=\"text-align: right;\">\n",
       "      <th></th>\n",
       "      <th>model</th>\n",
       "      <th>year</th>\n",
       "      <th>price</th>\n",
       "      <th>transmission</th>\n",
       "      <th>mileage</th>\n",
       "      <th>fuelType</th>\n",
       "      <th>tax</th>\n",
       "      <th>mpg</th>\n",
       "      <th>engineSize</th>\n",
       "    </tr>\n",
       "  </thead>\n",
       "  <tbody>\n",
       "    <tr>\n",
       "      <th>5133</th>\n",
       "      <td>X6</td>\n",
       "      <td>2015</td>\n",
       "      <td>25000</td>\n",
       "      <td>Semi-Auto</td>\n",
       "      <td>26100</td>\n",
       "      <td>Diesel</td>\n",
       "      <td>205</td>\n",
       "      <td>45.6</td>\n",
       "      <td>3.0</td>\n",
       "    </tr>\n",
       "    <tr>\n",
       "      <th>2121</th>\n",
       "      <td>X2</td>\n",
       "      <td>2019</td>\n",
       "      <td>31980</td>\n",
       "      <td>Automatic</td>\n",
       "      <td>4804</td>\n",
       "      <td>Petrol</td>\n",
       "      <td>145</td>\n",
       "      <td>34.0</td>\n",
       "      <td>2.0</td>\n",
       "    </tr>\n",
       "    <tr>\n",
       "      <th>6576</th>\n",
       "      <td>X2</td>\n",
       "      <td>2018</td>\n",
       "      <td>22995</td>\n",
       "      <td>Semi-Auto</td>\n",
       "      <td>24136</td>\n",
       "      <td>Petrol</td>\n",
       "      <td>145</td>\n",
       "      <td>38.7</td>\n",
       "      <td>2.0</td>\n",
       "    </tr>\n",
       "    <tr>\n",
       "      <th>8330</th>\n",
       "      <td>3 Series</td>\n",
       "      <td>2016</td>\n",
       "      <td>12999</td>\n",
       "      <td>Manual</td>\n",
       "      <td>52224</td>\n",
       "      <td>Diesel</td>\n",
       "      <td>125</td>\n",
       "      <td>62.8</td>\n",
       "      <td>2.0</td>\n",
       "    </tr>\n",
       "    <tr>\n",
       "      <th>3161</th>\n",
       "      <td>X3</td>\n",
       "      <td>2019</td>\n",
       "      <td>32980</td>\n",
       "      <td>Semi-Auto</td>\n",
       "      <td>1961</td>\n",
       "      <td>Diesel</td>\n",
       "      <td>150</td>\n",
       "      <td>54.3</td>\n",
       "      <td>2.0</td>\n",
       "    </tr>\n",
       "    <tr>\n",
       "      <th>...</th>\n",
       "      <td>...</td>\n",
       "      <td>...</td>\n",
       "      <td>...</td>\n",
       "      <td>...</td>\n",
       "      <td>...</td>\n",
       "      <td>...</td>\n",
       "      <td>...</td>\n",
       "      <td>...</td>\n",
       "      <td>...</td>\n",
       "    </tr>\n",
       "    <tr>\n",
       "      <th>5734</th>\n",
       "      <td>3 Series</td>\n",
       "      <td>2018</td>\n",
       "      <td>17995</td>\n",
       "      <td>Semi-Auto</td>\n",
       "      <td>40456</td>\n",
       "      <td>Diesel</td>\n",
       "      <td>145</td>\n",
       "      <td>64.2</td>\n",
       "      <td>2.0</td>\n",
       "    </tr>\n",
       "    <tr>\n",
       "      <th>5191</th>\n",
       "      <td>1 Series</td>\n",
       "      <td>2016</td>\n",
       "      <td>19950</td>\n",
       "      <td>Semi-Auto</td>\n",
       "      <td>23210</td>\n",
       "      <td>Petrol</td>\n",
       "      <td>200</td>\n",
       "      <td>39.8</td>\n",
       "      <td>3.0</td>\n",
       "    </tr>\n",
       "    <tr>\n",
       "      <th>5390</th>\n",
       "      <td>X2</td>\n",
       "      <td>2019</td>\n",
       "      <td>25450</td>\n",
       "      <td>Semi-Auto</td>\n",
       "      <td>5652</td>\n",
       "      <td>Diesel</td>\n",
       "      <td>145</td>\n",
       "      <td>47.9</td>\n",
       "      <td>2.0</td>\n",
       "    </tr>\n",
       "    <tr>\n",
       "      <th>860</th>\n",
       "      <td>X1</td>\n",
       "      <td>2016</td>\n",
       "      <td>19850</td>\n",
       "      <td>Semi-Auto</td>\n",
       "      <td>14542</td>\n",
       "      <td>Diesel</td>\n",
       "      <td>125</td>\n",
       "      <td>60.1</td>\n",
       "      <td>2.0</td>\n",
       "    </tr>\n",
       "    <tr>\n",
       "      <th>7270</th>\n",
       "      <td>1 Series</td>\n",
       "      <td>2016</td>\n",
       "      <td>15745</td>\n",
       "      <td>Automatic</td>\n",
       "      <td>17237</td>\n",
       "      <td>Petrol</td>\n",
       "      <td>125</td>\n",
       "      <td>54.3</td>\n",
       "      <td>1.5</td>\n",
       "    </tr>\n",
       "  </tbody>\n",
       "</table>\n",
       "<p>6468 rows × 9 columns</p>\n",
       "</div>"
      ],
      "text/plain": [
       "          model  year  price transmission  mileage fuelType  tax   mpg  \\\n",
       "5133         X6  2015  25000    Semi-Auto    26100   Diesel  205  45.6   \n",
       "2121         X2  2019  31980    Automatic     4804   Petrol  145  34.0   \n",
       "6576         X2  2018  22995    Semi-Auto    24136   Petrol  145  38.7   \n",
       "8330   3 Series  2016  12999       Manual    52224   Diesel  125  62.8   \n",
       "3161         X3  2019  32980    Semi-Auto     1961   Diesel  150  54.3   \n",
       "...         ...   ...    ...          ...      ...      ...  ...   ...   \n",
       "5734   3 Series  2018  17995    Semi-Auto    40456   Diesel  145  64.2   \n",
       "5191   1 Series  2016  19950    Semi-Auto    23210   Petrol  200  39.8   \n",
       "5390         X2  2019  25450    Semi-Auto     5652   Diesel  145  47.9   \n",
       "860          X1  2016  19850    Semi-Auto    14542   Diesel  125  60.1   \n",
       "7270   1 Series  2016  15745    Automatic    17237   Petrol  125  54.3   \n",
       "\n",
       "      engineSize  \n",
       "5133         3.0  \n",
       "2121         2.0  \n",
       "6576         2.0  \n",
       "8330         2.0  \n",
       "3161         2.0  \n",
       "...          ...  \n",
       "5734         2.0  \n",
       "5191         3.0  \n",
       "5390         2.0  \n",
       "860          2.0  \n",
       "7270         1.5  \n",
       "\n",
       "[6468 rows x 9 columns]"
      ]
     },
     "execution_count": 31,
     "metadata": {},
     "output_type": "execute_result"
    }
   ],
   "source": [
    "train"
   ]
  },
  {
   "cell_type": "markdown",
   "id": "78340ac4",
   "metadata": {},
   "source": [
    "# Принцип преобразования категориальных переменных "
   ]
  },
  {
   "cell_type": "code",
   "execution_count": 41,
   "id": "982d3dbd",
   "metadata": {},
   "outputs": [
    {
     "data": {
      "text/plain": [
       "5133    Semi-Auto\n",
       "2121    Automatic\n",
       "6576    Semi-Auto\n",
       "8330       Manual\n",
       "3161    Semi-Auto\n",
       "          ...    \n",
       "5734    Semi-Auto\n",
       "5191    Semi-Auto\n",
       "5390    Semi-Auto\n",
       "860     Semi-Auto\n",
       "7270    Automatic\n",
       "Name: transmission, Length: 6468, dtype: object"
      ]
     },
     "execution_count": 41,
     "metadata": {},
     "output_type": "execute_result"
    }
   ],
   "source": [
    "train[\"transmission\"]"
   ]
  },
  {
   "cell_type": "code",
   "execution_count": 40,
   "id": "079ec881",
   "metadata": {},
   "outputs": [
    {
     "data": {
      "text/html": [
       "<div>\n",
       "<style scoped>\n",
       "    .dataframe tbody tr th:only-of-type {\n",
       "        vertical-align: middle;\n",
       "    }\n",
       "\n",
       "    .dataframe tbody tr th {\n",
       "        vertical-align: top;\n",
       "    }\n",
       "\n",
       "    .dataframe thead th {\n",
       "        text-align: right;\n",
       "    }\n",
       "</style>\n",
       "<table border=\"1\" class=\"dataframe\">\n",
       "  <thead>\n",
       "    <tr style=\"text-align: right;\">\n",
       "      <th></th>\n",
       "      <th>Automatic</th>\n",
       "      <th>Manual</th>\n",
       "      <th>Semi-Auto</th>\n",
       "    </tr>\n",
       "  </thead>\n",
       "  <tbody>\n",
       "    <tr>\n",
       "      <th>5133</th>\n",
       "      <td>False</td>\n",
       "      <td>False</td>\n",
       "      <td>True</td>\n",
       "    </tr>\n",
       "    <tr>\n",
       "      <th>2121</th>\n",
       "      <td>True</td>\n",
       "      <td>False</td>\n",
       "      <td>False</td>\n",
       "    </tr>\n",
       "    <tr>\n",
       "      <th>6576</th>\n",
       "      <td>False</td>\n",
       "      <td>False</td>\n",
       "      <td>True</td>\n",
       "    </tr>\n",
       "    <tr>\n",
       "      <th>8330</th>\n",
       "      <td>False</td>\n",
       "      <td>True</td>\n",
       "      <td>False</td>\n",
       "    </tr>\n",
       "    <tr>\n",
       "      <th>3161</th>\n",
       "      <td>False</td>\n",
       "      <td>False</td>\n",
       "      <td>True</td>\n",
       "    </tr>\n",
       "    <tr>\n",
       "      <th>...</th>\n",
       "      <td>...</td>\n",
       "      <td>...</td>\n",
       "      <td>...</td>\n",
       "    </tr>\n",
       "    <tr>\n",
       "      <th>5734</th>\n",
       "      <td>False</td>\n",
       "      <td>False</td>\n",
       "      <td>True</td>\n",
       "    </tr>\n",
       "    <tr>\n",
       "      <th>5191</th>\n",
       "      <td>False</td>\n",
       "      <td>False</td>\n",
       "      <td>True</td>\n",
       "    </tr>\n",
       "    <tr>\n",
       "      <th>5390</th>\n",
       "      <td>False</td>\n",
       "      <td>False</td>\n",
       "      <td>True</td>\n",
       "    </tr>\n",
       "    <tr>\n",
       "      <th>860</th>\n",
       "      <td>False</td>\n",
       "      <td>False</td>\n",
       "      <td>True</td>\n",
       "    </tr>\n",
       "    <tr>\n",
       "      <th>7270</th>\n",
       "      <td>True</td>\n",
       "      <td>False</td>\n",
       "      <td>False</td>\n",
       "    </tr>\n",
       "  </tbody>\n",
       "</table>\n",
       "<p>6468 rows × 3 columns</p>\n",
       "</div>"
      ],
      "text/plain": [
       "      Automatic  Manual  Semi-Auto\n",
       "5133      False   False       True\n",
       "2121       True   False      False\n",
       "6576      False   False       True\n",
       "8330      False    True      False\n",
       "3161      False   False       True\n",
       "...         ...     ...        ...\n",
       "5734      False   False       True\n",
       "5191      False   False       True\n",
       "5390      False   False       True\n",
       "860       False   False       True\n",
       "7270       True   False      False\n",
       "\n",
       "[6468 rows x 3 columns]"
      ]
     },
     "execution_count": 40,
     "metadata": {},
     "output_type": "execute_result"
    }
   ],
   "source": [
    "pd.get_dummies(train[\"transmission\"])"
   ]
  },
  {
   "cell_type": "markdown",
   "id": "c2359477",
   "metadata": {},
   "source": [
    "# Первый запуск Кэтбуста"
   ]
  },
  {
   "cell_type": "code",
   "execution_count": 44,
   "id": "f45f46ec",
   "metadata": {},
   "outputs": [
    {
     "data": {
      "text/html": [
       "<div>\n",
       "<style scoped>\n",
       "    .dataframe tbody tr th:only-of-type {\n",
       "        vertical-align: middle;\n",
       "    }\n",
       "\n",
       "    .dataframe tbody tr th {\n",
       "        vertical-align: top;\n",
       "    }\n",
       "\n",
       "    .dataframe thead th {\n",
       "        text-align: right;\n",
       "    }\n",
       "</style>\n",
       "<table border=\"1\" class=\"dataframe\">\n",
       "  <thead>\n",
       "    <tr style=\"text-align: right;\">\n",
       "      <th></th>\n",
       "      <th>model</th>\n",
       "      <th>year</th>\n",
       "      <th>price</th>\n",
       "      <th>transmission</th>\n",
       "      <th>mileage</th>\n",
       "      <th>fuelType</th>\n",
       "      <th>tax</th>\n",
       "      <th>mpg</th>\n",
       "      <th>engineSize</th>\n",
       "    </tr>\n",
       "  </thead>\n",
       "  <tbody>\n",
       "    <tr>\n",
       "      <th>5133</th>\n",
       "      <td>X6</td>\n",
       "      <td>2015</td>\n",
       "      <td>25000</td>\n",
       "      <td>Semi-Auto</td>\n",
       "      <td>26100</td>\n",
       "      <td>Diesel</td>\n",
       "      <td>205</td>\n",
       "      <td>45.6</td>\n",
       "      <td>3.0</td>\n",
       "    </tr>\n",
       "    <tr>\n",
       "      <th>2121</th>\n",
       "      <td>X2</td>\n",
       "      <td>2019</td>\n",
       "      <td>31980</td>\n",
       "      <td>Automatic</td>\n",
       "      <td>4804</td>\n",
       "      <td>Petrol</td>\n",
       "      <td>145</td>\n",
       "      <td>34.0</td>\n",
       "      <td>2.0</td>\n",
       "    </tr>\n",
       "    <tr>\n",
       "      <th>6576</th>\n",
       "      <td>X2</td>\n",
       "      <td>2018</td>\n",
       "      <td>22995</td>\n",
       "      <td>Semi-Auto</td>\n",
       "      <td>24136</td>\n",
       "      <td>Petrol</td>\n",
       "      <td>145</td>\n",
       "      <td>38.7</td>\n",
       "      <td>2.0</td>\n",
       "    </tr>\n",
       "    <tr>\n",
       "      <th>8330</th>\n",
       "      <td>3 Series</td>\n",
       "      <td>2016</td>\n",
       "      <td>12999</td>\n",
       "      <td>Manual</td>\n",
       "      <td>52224</td>\n",
       "      <td>Diesel</td>\n",
       "      <td>125</td>\n",
       "      <td>62.8</td>\n",
       "      <td>2.0</td>\n",
       "    </tr>\n",
       "    <tr>\n",
       "      <th>3161</th>\n",
       "      <td>X3</td>\n",
       "      <td>2019</td>\n",
       "      <td>32980</td>\n",
       "      <td>Semi-Auto</td>\n",
       "      <td>1961</td>\n",
       "      <td>Diesel</td>\n",
       "      <td>150</td>\n",
       "      <td>54.3</td>\n",
       "      <td>2.0</td>\n",
       "    </tr>\n",
       "    <tr>\n",
       "      <th>...</th>\n",
       "      <td>...</td>\n",
       "      <td>...</td>\n",
       "      <td>...</td>\n",
       "      <td>...</td>\n",
       "      <td>...</td>\n",
       "      <td>...</td>\n",
       "      <td>...</td>\n",
       "      <td>...</td>\n",
       "      <td>...</td>\n",
       "    </tr>\n",
       "    <tr>\n",
       "      <th>5734</th>\n",
       "      <td>3 Series</td>\n",
       "      <td>2018</td>\n",
       "      <td>17995</td>\n",
       "      <td>Semi-Auto</td>\n",
       "      <td>40456</td>\n",
       "      <td>Diesel</td>\n",
       "      <td>145</td>\n",
       "      <td>64.2</td>\n",
       "      <td>2.0</td>\n",
       "    </tr>\n",
       "    <tr>\n",
       "      <th>5191</th>\n",
       "      <td>1 Series</td>\n",
       "      <td>2016</td>\n",
       "      <td>19950</td>\n",
       "      <td>Semi-Auto</td>\n",
       "      <td>23210</td>\n",
       "      <td>Petrol</td>\n",
       "      <td>200</td>\n",
       "      <td>39.8</td>\n",
       "      <td>3.0</td>\n",
       "    </tr>\n",
       "    <tr>\n",
       "      <th>5390</th>\n",
       "      <td>X2</td>\n",
       "      <td>2019</td>\n",
       "      <td>25450</td>\n",
       "      <td>Semi-Auto</td>\n",
       "      <td>5652</td>\n",
       "      <td>Diesel</td>\n",
       "      <td>145</td>\n",
       "      <td>47.9</td>\n",
       "      <td>2.0</td>\n",
       "    </tr>\n",
       "    <tr>\n",
       "      <th>860</th>\n",
       "      <td>X1</td>\n",
       "      <td>2016</td>\n",
       "      <td>19850</td>\n",
       "      <td>Semi-Auto</td>\n",
       "      <td>14542</td>\n",
       "      <td>Diesel</td>\n",
       "      <td>125</td>\n",
       "      <td>60.1</td>\n",
       "      <td>2.0</td>\n",
       "    </tr>\n",
       "    <tr>\n",
       "      <th>7270</th>\n",
       "      <td>1 Series</td>\n",
       "      <td>2016</td>\n",
       "      <td>15745</td>\n",
       "      <td>Automatic</td>\n",
       "      <td>17237</td>\n",
       "      <td>Petrol</td>\n",
       "      <td>125</td>\n",
       "      <td>54.3</td>\n",
       "      <td>1.5</td>\n",
       "    </tr>\n",
       "  </tbody>\n",
       "</table>\n",
       "<p>6468 rows × 9 columns</p>\n",
       "</div>"
      ],
      "text/plain": [
       "          model  year  price transmission  mileage fuelType  tax   mpg  \\\n",
       "5133         X6  2015  25000    Semi-Auto    26100   Diesel  205  45.6   \n",
       "2121         X2  2019  31980    Automatic     4804   Petrol  145  34.0   \n",
       "6576         X2  2018  22995    Semi-Auto    24136   Petrol  145  38.7   \n",
       "8330   3 Series  2016  12999       Manual    52224   Diesel  125  62.8   \n",
       "3161         X3  2019  32980    Semi-Auto     1961   Diesel  150  54.3   \n",
       "...         ...   ...    ...          ...      ...      ...  ...   ...   \n",
       "5734   3 Series  2018  17995    Semi-Auto    40456   Diesel  145  64.2   \n",
       "5191   1 Series  2016  19950    Semi-Auto    23210   Petrol  200  39.8   \n",
       "5390         X2  2019  25450    Semi-Auto     5652   Diesel  145  47.9   \n",
       "860          X1  2016  19850    Semi-Auto    14542   Diesel  125  60.1   \n",
       "7270   1 Series  2016  15745    Automatic    17237   Petrol  125  54.3   \n",
       "\n",
       "      engineSize  \n",
       "5133         3.0  \n",
       "2121         2.0  \n",
       "6576         2.0  \n",
       "8330         2.0  \n",
       "3161         2.0  \n",
       "...          ...  \n",
       "5734         2.0  \n",
       "5191         3.0  \n",
       "5390         2.0  \n",
       "860          2.0  \n",
       "7270         1.5  \n",
       "\n",
       "[6468 rows x 9 columns]"
      ]
     },
     "execution_count": 44,
     "metadata": {},
     "output_type": "execute_result"
    }
   ],
   "source": [
    "train"
   ]
  },
  {
   "cell_type": "code",
   "execution_count": 45,
   "id": "0a24e7b2",
   "metadata": {},
   "outputs": [],
   "source": [
    "from catboost import CatBoostRegressor"
   ]
  },
  {
   "cell_type": "code",
   "execution_count": 49,
   "id": "53183507",
   "metadata": {},
   "outputs": [],
   "source": [
    "x = ['year', 'transmission', 'engineSize']\n",
    "\n",
    "cat_features = [ \"transmission\"]\n",
    "\n",
    "y = ['price']\n"
   ]
  },
  {
   "cell_type": "code",
   "execution_count": 136,
   "id": "637dd124",
   "metadata": {},
   "outputs": [],
   "source": [
    "model = CatBoostRegressor(cat_features=cat_features, \n",
    "                          eval_metric=\"MAPE\",\n",
    "                          random_seed=42,\n",
    "                          early_stopping_rounds=200,\n",
    "                          verbose=100) # Гипер параметры "
   ]
  },
  {
   "cell_type": "code",
   "execution_count": 137,
   "id": "22c61558",
   "metadata": {},
   "outputs": [
    {
     "data": {
      "text/html": [
       "<div>\n",
       "<style scoped>\n",
       "    .dataframe tbody tr th:only-of-type {\n",
       "        vertical-align: middle;\n",
       "    }\n",
       "\n",
       "    .dataframe tbody tr th {\n",
       "        vertical-align: top;\n",
       "    }\n",
       "\n",
       "    .dataframe thead th {\n",
       "        text-align: right;\n",
       "    }\n",
       "</style>\n",
       "<table border=\"1\" class=\"dataframe\">\n",
       "  <thead>\n",
       "    <tr style=\"text-align: right;\">\n",
       "      <th></th>\n",
       "      <th>model</th>\n",
       "      <th>year</th>\n",
       "      <th>transmission</th>\n",
       "      <th>mileage</th>\n",
       "      <th>fuelType</th>\n",
       "      <th>tax</th>\n",
       "      <th>mpg</th>\n",
       "      <th>engineSize</th>\n",
       "    </tr>\n",
       "  </thead>\n",
       "  <tbody>\n",
       "    <tr>\n",
       "      <th>5133</th>\n",
       "      <td>X6</td>\n",
       "      <td>2015</td>\n",
       "      <td>Semi-Auto</td>\n",
       "      <td>26100</td>\n",
       "      <td>Diesel</td>\n",
       "      <td>205</td>\n",
       "      <td>45.6</td>\n",
       "      <td>3.0</td>\n",
       "    </tr>\n",
       "    <tr>\n",
       "      <th>2121</th>\n",
       "      <td>X2</td>\n",
       "      <td>2019</td>\n",
       "      <td>Automatic</td>\n",
       "      <td>4804</td>\n",
       "      <td>Petrol</td>\n",
       "      <td>145</td>\n",
       "      <td>34.0</td>\n",
       "      <td>2.0</td>\n",
       "    </tr>\n",
       "    <tr>\n",
       "      <th>6576</th>\n",
       "      <td>X2</td>\n",
       "      <td>2018</td>\n",
       "      <td>Semi-Auto</td>\n",
       "      <td>24136</td>\n",
       "      <td>Petrol</td>\n",
       "      <td>145</td>\n",
       "      <td>38.7</td>\n",
       "      <td>2.0</td>\n",
       "    </tr>\n",
       "    <tr>\n",
       "      <th>8330</th>\n",
       "      <td>3 Series</td>\n",
       "      <td>2016</td>\n",
       "      <td>Manual</td>\n",
       "      <td>52224</td>\n",
       "      <td>Diesel</td>\n",
       "      <td>125</td>\n",
       "      <td>62.8</td>\n",
       "      <td>2.0</td>\n",
       "    </tr>\n",
       "    <tr>\n",
       "      <th>3161</th>\n",
       "      <td>X3</td>\n",
       "      <td>2019</td>\n",
       "      <td>Semi-Auto</td>\n",
       "      <td>1961</td>\n",
       "      <td>Diesel</td>\n",
       "      <td>150</td>\n",
       "      <td>54.3</td>\n",
       "      <td>2.0</td>\n",
       "    </tr>\n",
       "    <tr>\n",
       "      <th>...</th>\n",
       "      <td>...</td>\n",
       "      <td>...</td>\n",
       "      <td>...</td>\n",
       "      <td>...</td>\n",
       "      <td>...</td>\n",
       "      <td>...</td>\n",
       "      <td>...</td>\n",
       "      <td>...</td>\n",
       "    </tr>\n",
       "    <tr>\n",
       "      <th>5734</th>\n",
       "      <td>3 Series</td>\n",
       "      <td>2018</td>\n",
       "      <td>Semi-Auto</td>\n",
       "      <td>40456</td>\n",
       "      <td>Diesel</td>\n",
       "      <td>145</td>\n",
       "      <td>64.2</td>\n",
       "      <td>2.0</td>\n",
       "    </tr>\n",
       "    <tr>\n",
       "      <th>5191</th>\n",
       "      <td>1 Series</td>\n",
       "      <td>2016</td>\n",
       "      <td>Semi-Auto</td>\n",
       "      <td>23210</td>\n",
       "      <td>Petrol</td>\n",
       "      <td>200</td>\n",
       "      <td>39.8</td>\n",
       "      <td>3.0</td>\n",
       "    </tr>\n",
       "    <tr>\n",
       "      <th>5390</th>\n",
       "      <td>X2</td>\n",
       "      <td>2019</td>\n",
       "      <td>Semi-Auto</td>\n",
       "      <td>5652</td>\n",
       "      <td>Diesel</td>\n",
       "      <td>145</td>\n",
       "      <td>47.9</td>\n",
       "      <td>2.0</td>\n",
       "    </tr>\n",
       "    <tr>\n",
       "      <th>860</th>\n",
       "      <td>X1</td>\n",
       "      <td>2016</td>\n",
       "      <td>Semi-Auto</td>\n",
       "      <td>14542</td>\n",
       "      <td>Diesel</td>\n",
       "      <td>125</td>\n",
       "      <td>60.1</td>\n",
       "      <td>2.0</td>\n",
       "    </tr>\n",
       "    <tr>\n",
       "      <th>7270</th>\n",
       "      <td>1 Series</td>\n",
       "      <td>2016</td>\n",
       "      <td>Automatic</td>\n",
       "      <td>17237</td>\n",
       "      <td>Petrol</td>\n",
       "      <td>125</td>\n",
       "      <td>54.3</td>\n",
       "      <td>1.5</td>\n",
       "    </tr>\n",
       "  </tbody>\n",
       "</table>\n",
       "<p>6468 rows × 8 columns</p>\n",
       "</div>"
      ],
      "text/plain": [
       "          model  year transmission  mileage fuelType  tax   mpg  engineSize\n",
       "5133         X6  2015    Semi-Auto    26100   Diesel  205  45.6         3.0\n",
       "2121         X2  2019    Automatic     4804   Petrol  145  34.0         2.0\n",
       "6576         X2  2018    Semi-Auto    24136   Petrol  145  38.7         2.0\n",
       "8330   3 Series  2016       Manual    52224   Diesel  125  62.8         2.0\n",
       "3161         X3  2019    Semi-Auto     1961   Diesel  150  54.3         2.0\n",
       "...         ...   ...          ...      ...      ...  ...   ...         ...\n",
       "5734   3 Series  2018    Semi-Auto    40456   Diesel  145  64.2         2.0\n",
       "5191   1 Series  2016    Semi-Auto    23210   Petrol  200  39.8         3.0\n",
       "5390         X2  2019    Semi-Auto     5652   Diesel  145  47.9         2.0\n",
       "860          X1  2016    Semi-Auto    14542   Diesel  125  60.1         2.0\n",
       "7270   1 Series  2016    Automatic    17237   Petrol  125  54.3         1.5\n",
       "\n",
       "[6468 rows x 8 columns]"
      ]
     },
     "execution_count": 137,
     "metadata": {},
     "output_type": "execute_result"
    }
   ],
   "source": [
    "train[x]"
   ]
  },
  {
   "cell_type": "code",
   "execution_count": 138,
   "id": "4306b8cf",
   "metadata": {},
   "outputs": [
    {
     "name": "stdout",
     "output_type": "stream",
     "text": [
      "Learning rate set to 0.068263\n",
      "0:\tlearn: 0.4607438\ttest: 0.4563750\tbest: 0.4563750 (0)\ttotal: 6.25ms\tremaining: 6.24s\n",
      "100:\tlearn: 0.0904302\ttest: 0.0896388\tbest: 0.0896388 (100)\ttotal: 234ms\tremaining: 2.08s\n",
      "200:\tlearn: 0.0781784\ttest: 0.0803125\tbest: 0.0803125 (200)\ttotal: 441ms\tremaining: 1.75s\n",
      "300:\tlearn: 0.0729925\ttest: 0.0764506\tbest: 0.0764506 (300)\ttotal: 668ms\tremaining: 1.55s\n",
      "400:\tlearn: 0.0695552\ttest: 0.0744676\tbest: 0.0744553 (399)\ttotal: 892ms\tremaining: 1.33s\n",
      "500:\tlearn: 0.0670683\ttest: 0.0732827\tbest: 0.0732827 (500)\ttotal: 1.12s\tremaining: 1.12s\n",
      "600:\tlearn: 0.0652835\ttest: 0.0726170\tbest: 0.0726128 (597)\ttotal: 1.37s\tremaining: 908ms\n",
      "700:\tlearn: 0.0636320\ttest: 0.0720622\tbest: 0.0720500 (695)\ttotal: 1.6s\tremaining: 683ms\n",
      "800:\tlearn: 0.0623408\ttest: 0.0714586\tbest: 0.0714329 (794)\ttotal: 1.85s\tremaining: 461ms\n",
      "900:\tlearn: 0.0611487\ttest: 0.0711564\tbest: 0.0711321 (898)\ttotal: 2.07s\tremaining: 228ms\n",
      "999:\tlearn: 0.0601407\ttest: 0.0708439\tbest: 0.0708403 (998)\ttotal: 2.29s\tremaining: 0us\n",
      "\n",
      "bestTest = 0.07084025495\n",
      "bestIteration = 998\n",
      "\n",
      "Shrink model to first 999 iterations.\n"
     ]
    },
    {
     "data": {
      "text/plain": [
       "<catboost.core.CatBoostRegressor at 0x13236d5d0>"
      ]
     },
     "execution_count": 138,
     "metadata": {},
     "output_type": "execute_result"
    }
   ],
   "source": [
    "model.fit(train[x], train[y],eval_set = (val[x], val[y])) # Запуск обучения"
   ]
  },
  {
   "cell_type": "code",
   "execution_count": 139,
   "id": "0d1ed97e",
   "metadata": {},
   "outputs": [
    {
     "data": {
      "text/plain": [
       "array([57417.53972205, 22003.56027391, 13461.40876567, ...,\n",
       "       30553.87789981, 13818.32099473, 24849.36058457])"
      ]
     },
     "execution_count": 139,
     "metadata": {},
     "output_type": "execute_result"
    }
   ],
   "source": [
    "model.predict(test[x])"
   ]
  },
  {
   "cell_type": "code",
   "execution_count": 83,
   "id": "3c54bfa0",
   "metadata": {},
   "outputs": [],
   "source": [
    "test[\"price_pred\"] = model.predict(test[x])"
   ]
  },
  {
   "cell_type": "code",
   "execution_count": 84,
   "id": "a5eccece",
   "metadata": {},
   "outputs": [
    {
     "data": {
      "text/html": [
       "<div>\n",
       "<style scoped>\n",
       "    .dataframe tbody tr th:only-of-type {\n",
       "        vertical-align: middle;\n",
       "    }\n",
       "\n",
       "    .dataframe tbody tr th {\n",
       "        vertical-align: top;\n",
       "    }\n",
       "\n",
       "    .dataframe thead th {\n",
       "        text-align: right;\n",
       "    }\n",
       "</style>\n",
       "<table border=\"1\" class=\"dataframe\">\n",
       "  <thead>\n",
       "    <tr style=\"text-align: right;\">\n",
       "      <th></th>\n",
       "      <th>model</th>\n",
       "      <th>year</th>\n",
       "      <th>price</th>\n",
       "      <th>transmission</th>\n",
       "      <th>mileage</th>\n",
       "      <th>fuelType</th>\n",
       "      <th>tax</th>\n",
       "      <th>mpg</th>\n",
       "      <th>engineSize</th>\n",
       "      <th>price_pred</th>\n",
       "      <th>price_pred_all</th>\n",
       "    </tr>\n",
       "  </thead>\n",
       "  <tbody>\n",
       "    <tr>\n",
       "      <th>4984</th>\n",
       "      <td>X6</td>\n",
       "      <td>2019</td>\n",
       "      <td>52990</td>\n",
       "      <td>Semi-Auto</td>\n",
       "      <td>3086</td>\n",
       "      <td>Diesel</td>\n",
       "      <td>145</td>\n",
       "      <td>34.9</td>\n",
       "      <td>3.0</td>\n",
       "      <td>57417.539722</td>\n",
       "      <td>56918.762922</td>\n",
       "    </tr>\n",
       "    <tr>\n",
       "      <th>4880</th>\n",
       "      <td>X1</td>\n",
       "      <td>2018</td>\n",
       "      <td>24081</td>\n",
       "      <td>Semi-Auto</td>\n",
       "      <td>13245</td>\n",
       "      <td>Diesel</td>\n",
       "      <td>150</td>\n",
       "      <td>60.1</td>\n",
       "      <td>2.0</td>\n",
       "      <td>22003.560274</td>\n",
       "      <td>22437.019916</td>\n",
       "    </tr>\n",
       "    <tr>\n",
       "      <th>9132</th>\n",
       "      <td>1 Series</td>\n",
       "      <td>2016</td>\n",
       "      <td>12999</td>\n",
       "      <td>Automatic</td>\n",
       "      <td>68949</td>\n",
       "      <td>Petrol</td>\n",
       "      <td>200</td>\n",
       "      <td>43.5</td>\n",
       "      <td>2.0</td>\n",
       "      <td>13461.408766</td>\n",
       "      <td>13323.390597</td>\n",
       "    </tr>\n",
       "    <tr>\n",
       "      <th>6451</th>\n",
       "      <td>1 Series</td>\n",
       "      <td>2020</td>\n",
       "      <td>11995</td>\n",
       "      <td>Semi-Auto</td>\n",
       "      <td>10</td>\n",
       "      <td>Petrol</td>\n",
       "      <td>150</td>\n",
       "      <td>34.5</td>\n",
       "      <td>2.0</td>\n",
       "      <td>32149.002131</td>\n",
       "      <td>33416.841004</td>\n",
       "    </tr>\n",
       "    <tr>\n",
       "      <th>7199</th>\n",
       "      <td>3 Series</td>\n",
       "      <td>2020</td>\n",
       "      <td>29875</td>\n",
       "      <td>Semi-Auto</td>\n",
       "      <td>150</td>\n",
       "      <td>Petrol</td>\n",
       "      <td>145</td>\n",
       "      <td>42.2</td>\n",
       "      <td>2.0</td>\n",
       "      <td>35100.139852</td>\n",
       "      <td>34999.003042</td>\n",
       "    </tr>\n",
       "    <tr>\n",
       "      <th>...</th>\n",
       "      <td>...</td>\n",
       "      <td>...</td>\n",
       "      <td>...</td>\n",
       "      <td>...</td>\n",
       "      <td>...</td>\n",
       "      <td>...</td>\n",
       "      <td>...</td>\n",
       "      <td>...</td>\n",
       "      <td>...</td>\n",
       "      <td>...</td>\n",
       "      <td>...</td>\n",
       "    </tr>\n",
       "    <tr>\n",
       "      <th>9627</th>\n",
       "      <td>3 Series</td>\n",
       "      <td>2015</td>\n",
       "      <td>14999</td>\n",
       "      <td>Automatic</td>\n",
       "      <td>78680</td>\n",
       "      <td>Diesel</td>\n",
       "      <td>160</td>\n",
       "      <td>52.3</td>\n",
       "      <td>3.0</td>\n",
       "      <td>14271.263108</td>\n",
       "      <td>14283.884697</td>\n",
       "    </tr>\n",
       "    <tr>\n",
       "      <th>6096</th>\n",
       "      <td>4 Series</td>\n",
       "      <td>2019</td>\n",
       "      <td>29676</td>\n",
       "      <td>Automatic</td>\n",
       "      <td>7365</td>\n",
       "      <td>Petrol</td>\n",
       "      <td>145</td>\n",
       "      <td>41.5</td>\n",
       "      <td>3.0</td>\n",
       "      <td>31555.069740</td>\n",
       "      <td>30842.309886</td>\n",
       "    </tr>\n",
       "    <tr>\n",
       "      <th>1747</th>\n",
       "      <td>5 Series</td>\n",
       "      <td>2019</td>\n",
       "      <td>30570</td>\n",
       "      <td>Automatic</td>\n",
       "      <td>3067</td>\n",
       "      <td>Hybrid</td>\n",
       "      <td>145</td>\n",
       "      <td>49.6</td>\n",
       "      <td>2.0</td>\n",
       "      <td>30553.877900</td>\n",
       "      <td>30077.530287</td>\n",
       "    </tr>\n",
       "    <tr>\n",
       "      <th>4023</th>\n",
       "      <td>3 Series</td>\n",
       "      <td>2016</td>\n",
       "      <td>14999</td>\n",
       "      <td>Automatic</td>\n",
       "      <td>70054</td>\n",
       "      <td>Hybrid</td>\n",
       "      <td>0</td>\n",
       "      <td>148.7</td>\n",
       "      <td>2.0</td>\n",
       "      <td>13818.320995</td>\n",
       "      <td>13712.857110</td>\n",
       "    </tr>\n",
       "    <tr>\n",
       "      <th>4372</th>\n",
       "      <td>2 Series</td>\n",
       "      <td>2019</td>\n",
       "      <td>24590</td>\n",
       "      <td>Semi-Auto</td>\n",
       "      <td>3300</td>\n",
       "      <td>Diesel</td>\n",
       "      <td>145</td>\n",
       "      <td>48.7</td>\n",
       "      <td>2.0</td>\n",
       "      <td>24849.360585</td>\n",
       "      <td>24544.950666</td>\n",
       "    </tr>\n",
       "  </tbody>\n",
       "</table>\n",
       "<p>2157 rows × 11 columns</p>\n",
       "</div>"
      ],
      "text/plain": [
       "          model  year  price transmission  mileage fuelType  tax    mpg  \\\n",
       "4984         X6  2019  52990    Semi-Auto     3086   Diesel  145   34.9   \n",
       "4880         X1  2018  24081    Semi-Auto    13245   Diesel  150   60.1   \n",
       "9132   1 Series  2016  12999    Automatic    68949   Petrol  200   43.5   \n",
       "6451   1 Series  2020  11995    Semi-Auto       10   Petrol  150   34.5   \n",
       "7199   3 Series  2020  29875    Semi-Auto      150   Petrol  145   42.2   \n",
       "...         ...   ...    ...          ...      ...      ...  ...    ...   \n",
       "9627   3 Series  2015  14999    Automatic    78680   Diesel  160   52.3   \n",
       "6096   4 Series  2019  29676    Automatic     7365   Petrol  145   41.5   \n",
       "1747   5 Series  2019  30570    Automatic     3067   Hybrid  145   49.6   \n",
       "4023   3 Series  2016  14999    Automatic    70054   Hybrid    0  148.7   \n",
       "4372   2 Series  2019  24590    Semi-Auto     3300   Diesel  145   48.7   \n",
       "\n",
       "      engineSize    price_pred  price_pred_all  \n",
       "4984         3.0  57417.539722    56918.762922  \n",
       "4880         2.0  22003.560274    22437.019916  \n",
       "9132         2.0  13461.408766    13323.390597  \n",
       "6451         2.0  32149.002131    33416.841004  \n",
       "7199         2.0  35100.139852    34999.003042  \n",
       "...          ...           ...             ...  \n",
       "9627         3.0  14271.263108    14283.884697  \n",
       "6096         3.0  31555.069740    30842.309886  \n",
       "1747         2.0  30553.877900    30077.530287  \n",
       "4023         2.0  13818.320995    13712.857110  \n",
       "4372         2.0  24849.360585    24544.950666  \n",
       "\n",
       "[2157 rows x 11 columns]"
      ]
     },
     "execution_count": 84,
     "metadata": {},
     "output_type": "execute_result"
    }
   ],
   "source": [
    "test"
   ]
  },
  {
   "cell_type": "code",
   "execution_count": 85,
   "id": "eb321575",
   "metadata": {},
   "outputs": [],
   "source": [
    "from sklearn.metrics import mean_absolute_error, mean_absolute_percentage_error"
   ]
  },
  {
   "cell_type": "code",
   "execution_count": 86,
   "id": "ea69a956",
   "metadata": {},
   "outputs": [],
   "source": [
    "def error(y_true, y_pred):\n",
    "    print(mean_absolute_error(y_true, y_pred))\n",
    "    print(mean_absolute_percentage_error(y_true, y_pred))"
   ]
  },
  {
   "cell_type": "code",
   "execution_count": 87,
   "id": "e65040b3",
   "metadata": {},
   "outputs": [
    {
     "name": "stdout",
     "output_type": "stream",
     "text": [
      "1556.5378327680894\n",
      "0.07367840910148211\n"
     ]
    }
   ],
   "source": [
    "error(test[\"price\"], test[\"price_pred\"])"
   ]
  },
  {
   "cell_type": "markdown",
   "id": "ed129bd2",
   "metadata": {},
   "source": [
    "# Обучаемся на всех фичах "
   ]
  },
  {
   "cell_type": "code",
   "execution_count": 88,
   "id": "a92ed087",
   "metadata": {},
   "outputs": [],
   "source": [
    "# Все фичи \n",
    "\n",
    "x = ['model', 'year', 'transmission', 'mileage', 'fuelType', 'tax','mpg', 'engineSize']\n",
    "\n",
    "cat_features = [\"model\", \"transmission\", \"fuelType\"]\n",
    "\n",
    "y = ['price']\n"
   ]
  },
  {
   "cell_type": "code",
   "execution_count": 95,
   "id": "62585cf0",
   "metadata": {},
   "outputs": [],
   "source": [
    "parametrs = {\"cat_features\":cat_features,\n",
    "            \"eval_metric\": \"MAPE\",\n",
    "            \"random_seed\":42,\n",
    "            \"verbose\": 100}"
   ]
  },
  {
   "cell_type": "code",
   "execution_count": 96,
   "id": "d2cd6a3f",
   "metadata": {},
   "outputs": [],
   "source": [
    "model = CatBoostRegressor(**parametrs)"
   ]
  },
  {
   "cell_type": "code",
   "execution_count": 97,
   "id": "4f2c010a",
   "metadata": {},
   "outputs": [
    {
     "name": "stdout",
     "output_type": "stream",
     "text": [
      "Learning rate set to 0.068263\n",
      "0:\tlearn: 0.4607438\ttest: 0.4563750\tbest: 0.4563750 (0)\ttotal: 6.75ms\tremaining: 6.75s\n",
      "100:\tlearn: 0.0904302\ttest: 0.0896388\tbest: 0.0896388 (100)\ttotal: 235ms\tremaining: 2.1s\n",
      "200:\tlearn: 0.0781784\ttest: 0.0803125\tbest: 0.0803125 (200)\ttotal: 449ms\tremaining: 1.79s\n",
      "300:\tlearn: 0.0729925\ttest: 0.0764506\tbest: 0.0764506 (300)\ttotal: 678ms\tremaining: 1.57s\n",
      "400:\tlearn: 0.0695552\ttest: 0.0744676\tbest: 0.0744553 (399)\ttotal: 895ms\tremaining: 1.34s\n",
      "500:\tlearn: 0.0670683\ttest: 0.0732827\tbest: 0.0732827 (500)\ttotal: 1.12s\tremaining: 1.12s\n",
      "600:\tlearn: 0.0652835\ttest: 0.0726170\tbest: 0.0726128 (597)\ttotal: 1.34s\tremaining: 892ms\n",
      "700:\tlearn: 0.0636320\ttest: 0.0720622\tbest: 0.0720500 (695)\ttotal: 1.56s\tremaining: 665ms\n",
      "800:\tlearn: 0.0623408\ttest: 0.0714586\tbest: 0.0714329 (794)\ttotal: 1.77s\tremaining: 440ms\n",
      "900:\tlearn: 0.0611487\ttest: 0.0711564\tbest: 0.0711321 (898)\ttotal: 2s\tremaining: 220ms\n",
      "999:\tlearn: 0.0601407\ttest: 0.0708439\tbest: 0.0708403 (998)\ttotal: 2.23s\tremaining: 0us\n",
      "\n",
      "bestTest = 0.07084025495\n",
      "bestIteration = 998\n",
      "\n",
      "Shrink model to first 999 iterations.\n"
     ]
    },
    {
     "data": {
      "text/plain": [
       "<catboost.core.CatBoostRegressor at 0x1324bf6a0>"
      ]
     },
     "execution_count": 97,
     "metadata": {},
     "output_type": "execute_result"
    }
   ],
   "source": [
    "model.fit(train[x], train[y], eval_set=(val[x], val[y]))"
   ]
  },
  {
   "cell_type": "code",
   "execution_count": 98,
   "id": "340b1073",
   "metadata": {},
   "outputs": [],
   "source": [
    "test[\"price_pred_all\"] = model.predict(test[x])"
   ]
  },
  {
   "cell_type": "code",
   "execution_count": 99,
   "id": "70e42d37",
   "metadata": {},
   "outputs": [
    {
     "name": "stdout",
     "output_type": "stream",
     "text": [
      "1556.5378327680894\n",
      "0.07367840910148211\n"
     ]
    }
   ],
   "source": [
    "error(test[\"price\"], test[\"price_pred_all\"]) # Алгоритм (Модель) предсказывет цену с вероятностью ошибки 7% "
   ]
  },
  {
   "cell_type": "markdown",
   "id": "25918e1e",
   "metadata": {},
   "source": [
    "# Количесво иттераций и learning ratw "
   ]
  },
  {
   "cell_type": "code",
   "execution_count": 103,
   "id": "78de69db",
   "metadata": {},
   "outputs": [],
   "source": [
    "x = ['year', 'transmission', 'engineSize']\n",
    "\n",
    "cat_features = [ \"transmission\"]\n",
    "\n",
    "y = ['price']\n"
   ]
  },
  {
   "cell_type": "code",
   "execution_count": 116,
   "id": "a53b8b03",
   "metadata": {},
   "outputs": [],
   "source": [
    "parametrs = {\"cat_features\":cat_features,\n",
    "            \"eval_metric\": \"MAPE\",\n",
    "            \"learning_rate\" : 0.03, # Темп работы \n",
    "            \"random_seed\":42,\n",
    "            \"verbose\": 100}"
   ]
  },
  {
   "cell_type": "code",
   "execution_count": 117,
   "id": "d05869fa",
   "metadata": {},
   "outputs": [],
   "source": [
    "model = CatBoostRegressor(**parametrs)"
   ]
  },
  {
   "cell_type": "code",
   "execution_count": 118,
   "id": "a534e8ce",
   "metadata": {},
   "outputs": [
    {
     "name": "stdout",
     "output_type": "stream",
     "text": [
      "0:\tlearn: 0.4746987\ttest: 0.4699730\tbest: 0.4699730 (0)\ttotal: 4.81ms\tremaining: 4.81s\n",
      "100:\tlearn: 0.1681230\ttest: 0.1638970\tbest: 0.1638970 (100)\ttotal: 177ms\tremaining: 1.57s\n",
      "200:\tlearn: 0.1561398\ttest: 0.1538311\tbest: 0.1538311 (200)\ttotal: 309ms\tremaining: 1.23s\n",
      "300:\tlearn: 0.1543096\ttest: 0.1525317\tbest: 0.1525309 (299)\ttotal: 422ms\tremaining: 980ms\n",
      "400:\tlearn: 0.1534465\ttest: 0.1519221\tbest: 0.1519198 (397)\ttotal: 534ms\tremaining: 797ms\n",
      "500:\tlearn: 0.1527824\ttest: 0.1516330\tbest: 0.1516164 (480)\ttotal: 663ms\tremaining: 660ms\n",
      "600:\tlearn: 0.1522590\ttest: 0.1514284\tbest: 0.1514284 (600)\ttotal: 795ms\tremaining: 528ms\n",
      "700:\tlearn: 0.1518052\ttest: 0.1513704\tbest: 0.1513673 (689)\ttotal: 917ms\tremaining: 391ms\n",
      "800:\tlearn: 0.1514495\ttest: 0.1513967\tbest: 0.1513651 (703)\ttotal: 1.04s\tremaining: 260ms\n",
      "900:\tlearn: 0.1510958\ttest: 0.1513657\tbest: 0.1513489 (873)\ttotal: 1.18s\tremaining: 130ms\n",
      "999:\tlearn: 0.1508297\ttest: 0.1513297\tbest: 0.1513168 (992)\ttotal: 1.31s\tremaining: 0us\n",
      "\n",
      "bestTest = 0.1513167711\n",
      "bestIteration = 992\n",
      "\n",
      "Shrink model to first 993 iterations.\n"
     ]
    },
    {
     "data": {
      "text/plain": [
       "<catboost.core.CatBoostRegressor at 0x1324be7d0>"
      ]
     },
     "execution_count": 118,
     "metadata": {},
     "output_type": "execute_result"
    }
   ],
   "source": [
    "model.fit(train[x], train[y], eval_set=(val[x], val[y]))"
   ]
  },
  {
   "cell_type": "code",
   "execution_count": 119,
   "id": "1ecac8e6",
   "metadata": {},
   "outputs": [],
   "source": [
    "# Best Test - точка переобучения "
   ]
  },
  {
   "cell_type": "code",
   "execution_count": 120,
   "id": "bed74faa",
   "metadata": {},
   "outputs": [],
   "source": [
    "# Все фичи \n",
    "\n",
    "x = ['model', 'year', 'transmission', 'mileage', 'fuelType', 'tax','mpg', 'engineSize']\n",
    "\n",
    "cat_features = [\"model\", \"transmission\", \"fuelType\"]\n",
    "\n",
    "y = ['price']\n"
   ]
  },
  {
   "cell_type": "code",
   "execution_count": 133,
   "id": "66c01590",
   "metadata": {},
   "outputs": [],
   "source": [
    "parametrs = {\"cat_features\":cat_features,\n",
    "            \"early_stopping_rounds\": 300, # Сокращает нам время всего 200\n",
    "            \"eval_metric\": \"MAPE\",\n",
    "            \"random_seed\":42,\n",
    "             \"learning_rate\": 0.08,\n",
    "            \"verbose\": 100}"
   ]
  },
  {
   "cell_type": "code",
   "execution_count": 134,
   "id": "938f926e",
   "metadata": {},
   "outputs": [],
   "source": [
    "model = CatBoostRegressor(**parametrs)"
   ]
  },
  {
   "cell_type": "code",
   "execution_count": 135,
   "id": "3fe83066",
   "metadata": {},
   "outputs": [
    {
     "name": "stdout",
     "output_type": "stream",
     "text": [
      "0:\tlearn: 0.4564416\ttest: 0.4521294\tbest: 0.4521294 (0)\ttotal: 5.98ms\tremaining: 5.97s\n",
      "100:\tlearn: 0.0875290\ttest: 0.0867329\tbest: 0.0867329 (100)\ttotal: 237ms\tremaining: 2.11s\n",
      "200:\tlearn: 0.0760834\ttest: 0.0779235\tbest: 0.0779235 (200)\ttotal: 446ms\tremaining: 1.77s\n",
      "300:\tlearn: 0.0708670\ttest: 0.0740290\tbest: 0.0740290 (300)\ttotal: 668ms\tremaining: 1.55s\n",
      "400:\tlearn: 0.0676240\ttest: 0.0718814\tbest: 0.0718814 (400)\ttotal: 888ms\tremaining: 1.32s\n",
      "500:\tlearn: 0.0654070\ttest: 0.0709221\tbest: 0.0708594 (496)\ttotal: 1.12s\tremaining: 1.12s\n",
      "600:\tlearn: 0.0638577\ttest: 0.0704606\tbest: 0.0704490 (599)\ttotal: 1.38s\tremaining: 916ms\n",
      "700:\tlearn: 0.0622969\ttest: 0.0698226\tbest: 0.0698226 (700)\ttotal: 1.62s\tremaining: 692ms\n",
      "800:\tlearn: 0.0609583\ttest: 0.0694169\tbest: 0.0694004 (791)\ttotal: 1.84s\tremaining: 459ms\n",
      "900:\tlearn: 0.0596089\ttest: 0.0689968\tbest: 0.0689945 (895)\ttotal: 2.07s\tremaining: 227ms\n",
      "999:\tlearn: 0.0584626\ttest: 0.0686829\tbest: 0.0686377 (993)\ttotal: 2.29s\tremaining: 0us\n",
      "\n",
      "bestTest = 0.06863774536\n",
      "bestIteration = 993\n",
      "\n",
      "Shrink model to first 994 iterations.\n"
     ]
    },
    {
     "data": {
      "text/plain": [
       "<catboost.core.CatBoostRegressor at 0x1324bf190>"
      ]
     },
     "execution_count": 135,
     "metadata": {},
     "output_type": "execute_result"
    }
   ],
   "source": [
    "model.fit(train[x], train[y], eval_set=(val[x], val[y]))"
   ]
  },
  {
   "cell_type": "markdown",
   "id": "e7f07de5",
   "metadata": {},
   "source": [
    "# Обучение на всех данных "
   ]
  },
  {
   "cell_type": "code",
   "execution_count": 140,
   "id": "f7caebb4",
   "metadata": {},
   "outputs": [
    {
     "data": {
      "text/plain": [
       "6468"
      ]
     },
     "execution_count": 140,
     "metadata": {},
     "output_type": "execute_result"
    }
   ],
   "source": [
    "len(train)"
   ]
  },
  {
   "cell_type": "code",
   "execution_count": 141,
   "id": "96772831",
   "metadata": {},
   "outputs": [
    {
     "data": {
      "text/plain": [
       "2156"
      ]
     },
     "execution_count": 141,
     "metadata": {},
     "output_type": "execute_result"
    }
   ],
   "source": [
    "len(val)"
   ]
  },
  {
   "cell_type": "code",
   "execution_count": 143,
   "id": "c2c26343",
   "metadata": {},
   "outputs": [],
   "source": [
    "train_full = pd.concat([train, val])"
   ]
  },
  {
   "cell_type": "code",
   "execution_count": 144,
   "id": "3b323594",
   "metadata": {},
   "outputs": [
    {
     "name": "stdout",
     "output_type": "stream",
     "text": [
      "Learning rate set to 0.068263\n",
      "0:\tlearn: 0.4607438\ttest: 0.4563750\tbest: 0.4563750 (0)\ttotal: 6.76ms\tremaining: 6.75s\n",
      "100:\tlearn: 0.0904302\ttest: 0.0896388\tbest: 0.0896388 (100)\ttotal: 228ms\tremaining: 2.03s\n",
      "200:\tlearn: 0.0781784\ttest: 0.0803125\tbest: 0.0803125 (200)\ttotal: 436ms\tremaining: 1.73s\n",
      "300:\tlearn: 0.0729925\ttest: 0.0764506\tbest: 0.0764506 (300)\ttotal: 659ms\tremaining: 1.53s\n",
      "400:\tlearn: 0.0695552\ttest: 0.0744676\tbest: 0.0744553 (399)\ttotal: 871ms\tremaining: 1.3s\n",
      "500:\tlearn: 0.0670683\ttest: 0.0732827\tbest: 0.0732827 (500)\ttotal: 1.09s\tremaining: 1.09s\n",
      "600:\tlearn: 0.0652835\ttest: 0.0726170\tbest: 0.0726128 (597)\ttotal: 1.32s\tremaining: 878ms\n",
      "700:\tlearn: 0.0636320\ttest: 0.0720622\tbest: 0.0720500 (695)\ttotal: 1.55s\tremaining: 663ms\n",
      "800:\tlearn: 0.0623408\ttest: 0.0714586\tbest: 0.0714329 (794)\ttotal: 1.79s\tremaining: 445ms\n",
      "900:\tlearn: 0.0611487\ttest: 0.0711564\tbest: 0.0711321 (898)\ttotal: 2.05s\tremaining: 225ms\n",
      "999:\tlearn: 0.0601407\ttest: 0.0708439\tbest: 0.0708403 (998)\ttotal: 2.31s\tremaining: 0us\n",
      "\n",
      "bestTest = 0.07084025495\n",
      "bestIteration = 998\n",
      "\n",
      "Shrink model to first 999 iterations.\n"
     ]
    },
    {
     "data": {
      "text/plain": [
       "<catboost.core.CatBoostRegressor at 0x13236d5d0>"
      ]
     },
     "execution_count": 144,
     "metadata": {},
     "output_type": "execute_result"
    }
   ],
   "source": [
    "model.fit(train[x], train[y], eval_set=(val[x], val[y]))"
   ]
  },
  {
   "cell_type": "code",
   "execution_count": 145,
   "id": "c403a0bd",
   "metadata": {},
   "outputs": [
    {
     "data": {
      "text/plain": [
       "998"
      ]
     },
     "execution_count": 145,
     "metadata": {},
     "output_type": "execute_result"
    }
   ],
   "source": [
    "model.best_iteration_"
   ]
  },
  {
   "cell_type": "code",
   "execution_count": 147,
   "id": "9b5073ef",
   "metadata": {},
   "outputs": [],
   "source": [
    "parametrs = {\"iterations\" : model.best_iteration_ + 1,\n",
    "             \"cat_features\":cat_features,\n",
    "            \"eval_metric\": \"MAPE\",\n",
    "            \"random_seed\":42,\n",
    "             \"learning_rate\": 0.08,\n",
    "            \"verbose\": 100}"
   ]
  },
  {
   "cell_type": "code",
   "execution_count": 148,
   "id": "de854951",
   "metadata": {},
   "outputs": [],
   "source": [
    "model = CatBoostRegressor(**parametrs)"
   ]
  },
  {
   "cell_type": "code",
   "execution_count": 149,
   "id": "90059c2b",
   "metadata": {},
   "outputs": [
    {
     "name": "stdout",
     "output_type": "stream",
     "text": [
      "0:\tlearn: 0.4564416\ttest: 0.4521294\tbest: 0.4521294 (0)\ttotal: 6.39ms\tremaining: 6.38s\n",
      "100:\tlearn: 0.0875290\ttest: 0.0867329\tbest: 0.0867329 (100)\ttotal: 238ms\tremaining: 2.11s\n",
      "200:\tlearn: 0.0760834\ttest: 0.0779235\tbest: 0.0779235 (200)\ttotal: 443ms\tremaining: 1.76s\n",
      "300:\tlearn: 0.0708670\ttest: 0.0740290\tbest: 0.0740290 (300)\ttotal: 668ms\tremaining: 1.55s\n",
      "400:\tlearn: 0.0676240\ttest: 0.0718814\tbest: 0.0718814 (400)\ttotal: 889ms\tremaining: 1.32s\n",
      "500:\tlearn: 0.0654070\ttest: 0.0709221\tbest: 0.0708594 (496)\ttotal: 1.13s\tremaining: 1.12s\n",
      "600:\tlearn: 0.0638577\ttest: 0.0704606\tbest: 0.0704490 (599)\ttotal: 1.39s\tremaining: 920ms\n",
      "700:\tlearn: 0.0622969\ttest: 0.0698226\tbest: 0.0698226 (700)\ttotal: 1.62s\tremaining: 690ms\n",
      "800:\tlearn: 0.0609583\ttest: 0.0694169\tbest: 0.0694004 (791)\ttotal: 1.85s\tremaining: 458ms\n",
      "900:\tlearn: 0.0596089\ttest: 0.0689968\tbest: 0.0689945 (895)\ttotal: 2.07s\tremaining: 225ms\n",
      "998:\tlearn: 0.0584760\ttest: 0.0686821\tbest: 0.0686377 (993)\ttotal: 2.29s\tremaining: 0us\n",
      "\n",
      "bestTest = 0.06863774536\n",
      "bestIteration = 993\n",
      "\n",
      "Shrink model to first 994 iterations.\n"
     ]
    },
    {
     "data": {
      "text/plain": [
       "<catboost.core.CatBoostRegressor at 0x13245f790>"
      ]
     },
     "execution_count": 149,
     "metadata": {},
     "output_type": "execute_result"
    }
   ],
   "source": [
    "model.fit(train[x], train[y], eval_set=(val[x], val[y]))"
   ]
  },
  {
   "cell_type": "code",
   "execution_count": 150,
   "id": "4375589c",
   "metadata": {},
   "outputs": [],
   "source": [
    "parametrs = {\"cat_features\":cat_features,\n",
    "            \"early_stopping_rounds\": 300, # Сокращает нам время всего 200\n",
    "            \"eval_metric\": \"MAPE\",\n",
    "            \"random_seed\":42,\n",
    "             \"learning_rate\": 0.08,\n",
    "            \"verbose\": 100}"
   ]
  },
  {
   "cell_type": "code",
   "execution_count": 151,
   "id": "c400eefd",
   "metadata": {},
   "outputs": [],
   "source": [
    "modl = CatBoostRegressor(**parametrs)"
   ]
  },
  {
   "cell_type": "code",
   "execution_count": 152,
   "id": "cc5effbe",
   "metadata": {},
   "outputs": [
    {
     "name": "stdout",
     "output_type": "stream",
     "text": [
      "0:\tlearn: 0.4538016\ttotal: 5.97ms\tremaining: 5.96s\n",
      "100:\tlearn: 0.0854178\ttotal: 262ms\tremaining: 2.33s\n",
      "200:\tlearn: 0.0745022\ttotal: 511ms\tremaining: 2.03s\n",
      "300:\tlearn: 0.0701717\ttotal: 758ms\tremaining: 1.76s\n",
      "400:\tlearn: 0.0676577\ttotal: 992ms\tremaining: 1.48s\n",
      "500:\tlearn: 0.0656926\ttotal: 1.24s\tremaining: 1.23s\n",
      "600:\tlearn: 0.0638104\ttotal: 1.48s\tremaining: 982ms\n",
      "700:\tlearn: 0.0624302\ttotal: 1.74s\tremaining: 741ms\n",
      "800:\tlearn: 0.0612275\ttotal: 2.01s\tremaining: 496ms\n",
      "900:\tlearn: 0.0599823\ttotal: 2.26s\tremaining: 246ms\n",
      "998:\tlearn: 0.0589834\ttotal: 2.5s\tremaining: 0us\n"
     ]
    },
    {
     "data": {
      "text/plain": [
       "<catboost.core.CatBoostRegressor at 0x13245f790>"
      ]
     },
     "execution_count": 152,
     "metadata": {},
     "output_type": "execute_result"
    }
   ],
   "source": [
    "model.fit(train_full[x], train_full[y])"
   ]
  },
  {
   "cell_type": "code",
   "execution_count": 153,
   "id": "dbf859f2",
   "metadata": {},
   "outputs": [
    {
     "data": {
      "text/plain": [
       "array([56425.93560989, 22685.27100567, 13453.70567237, ...,\n",
       "       30223.8490056 , 13790.96765559, 24777.4632018 ])"
      ]
     },
     "execution_count": 153,
     "metadata": {},
     "output_type": "execute_result"
    }
   ],
   "source": [
    "model.predict(test[x])"
   ]
  },
  {
   "cell_type": "code",
   "execution_count": 154,
   "id": "ec37fc9f",
   "metadata": {},
   "outputs": [],
   "source": [
    "test[\"price_pred_all_features_and_data\"] = model.predict(test[x])"
   ]
  },
  {
   "cell_type": "code",
   "execution_count": 155,
   "id": "a65d7257",
   "metadata": {},
   "outputs": [
    {
     "name": "stdout",
     "output_type": "stream",
     "text": [
      "1512.4017819023943\n",
      "0.07305915524950393\n"
     ]
    }
   ],
   "source": [
    "error(test[\"price\"], test[\"price_pred_all_features_and_data\"])"
   ]
  },
  {
   "cell_type": "markdown",
   "id": "4e01471d",
   "metadata": {},
   "source": [
    "# Метрики регрессиии "
   ]
  },
  {
   "cell_type": "markdown",
   "id": "d7c8e406",
   "metadata": {},
   "source": [
    "link https://catboost.ai/en/docs/concepts/loss-functions"
   ]
  },
  {
   "cell_type": "markdown",
   "id": "bfabadea",
   "metadata": {},
   "source": [
    "# Меняем функцию оптимизации "
   ]
  },
  {
   "cell_type": "code",
   "execution_count": 157,
   "id": "14417c96",
   "metadata": {},
   "outputs": [],
   "source": [
    "# Все фичи \n",
    "\n",
    "x = ['model', 'year', 'transmission', 'mileage', 'fuelType', 'tax','mpg', 'engineSize']\n",
    "\n",
    "cat_features = [\"model\", \"transmission\", \"fuelType\"]\n",
    "\n",
    "y = ['price']\n"
   ]
  },
  {
   "cell_type": "code",
   "execution_count": 164,
   "id": "61a109ac",
   "metadata": {},
   "outputs": [],
   "source": [
    "parametrs = {\"cat_features\":cat_features,\n",
    "            \"eval_metric\": \"MAPE\",\n",
    "             \n",
    "            \"loss_function\": \"MAE\", # Меняем функцию оптимизации  \n",
    "    \n",
    "            \"random_seed\":42,\n",
    "             \"learning_rate\": 0.1,\n",
    "            \"verbose\": 100}"
   ]
  },
  {
   "cell_type": "code",
   "execution_count": 165,
   "id": "0903df19",
   "metadata": {},
   "outputs": [],
   "source": [
    "model = CatBoostRegressor(**parametrs)"
   ]
  },
  {
   "cell_type": "code",
   "execution_count": 171,
   "id": "29113f5a",
   "metadata": {},
   "outputs": [
    {
     "name": "stdout",
     "output_type": "stream",
     "text": [
      "0:\tlearn: 0.3820228\ttest: 0.3774045\tbest: 0.3774045 (0)\ttotal: 9.13ms\tremaining: 9.12s\n",
      "100:\tlearn: 0.0759335\ttest: 0.0729437\tbest: 0.0729437 (100)\ttotal: 330ms\tremaining: 2.93s\n",
      "200:\tlearn: 0.0664370\ttest: 0.0647293\tbest: 0.0647293 (200)\ttotal: 646ms\tremaining: 2.57s\n",
      "300:\tlearn: 0.0628444\ttest: 0.0616085\tbest: 0.0616085 (300)\ttotal: 957ms\tremaining: 2.22s\n",
      "400:\tlearn: 0.0604654\ttest: 0.0596538\tbest: 0.0596538 (400)\ttotal: 1.34s\tremaining: 2s\n",
      "500:\tlearn: 0.0587112\ttest: 0.0583472\tbest: 0.0583472 (500)\ttotal: 1.65s\tremaining: 1.65s\n",
      "600:\tlearn: 0.0575951\ttest: 0.0575754\tbest: 0.0575695 (599)\ttotal: 1.96s\tremaining: 1.3s\n",
      "700:\tlearn: 0.0566398\ttest: 0.0569207\tbest: 0.0569207 (700)\ttotal: 2.26s\tremaining: 963ms\n",
      "800:\tlearn: 0.0558118\ttest: 0.0563467\tbest: 0.0563411 (795)\ttotal: 2.56s\tremaining: 636ms\n",
      "900:\tlearn: 0.0551435\ttest: 0.0558035\tbest: 0.0558035 (900)\ttotal: 2.86s\tremaining: 314ms\n",
      "999:\tlearn: 0.0544953\ttest: 0.0553170\tbest: 0.0553170 (999)\ttotal: 3.15s\tremaining: 0us\n",
      "\n",
      "bestTest = 0.05531702361\n",
      "bestIteration = 999\n",
      "\n"
     ]
    },
    {
     "data": {
      "text/plain": [
       "<catboost.core.CatBoostRegressor at 0x1323b0130>"
      ]
     },
     "execution_count": 171,
     "metadata": {},
     "output_type": "execute_result"
    }
   ],
   "source": [
    "model.fit(train_full[x], train_full[y], eval_set=(val[x], val[y])) # Сам процесс обучения "
   ]
  },
  {
   "cell_type": "code",
   "execution_count": null,
   "id": "c3e105b0",
   "metadata": {},
   "outputs": [],
   "source": []
  }
 ],
 "metadata": {
  "kernelspec": {
   "display_name": "Python 3 (ipykernel)",
   "language": "python",
   "name": "python3"
  },
  "language_info": {
   "codemirror_mode": {
    "name": "ipython",
    "version": 3
   },
   "file_extension": ".py",
   "mimetype": "text/x-python",
   "name": "python",
   "nbconvert_exporter": "python",
   "pygments_lexer": "ipython3",
   "version": "3.10.9"
  }
 },
 "nbformat": 4,
 "nbformat_minor": 5
}
